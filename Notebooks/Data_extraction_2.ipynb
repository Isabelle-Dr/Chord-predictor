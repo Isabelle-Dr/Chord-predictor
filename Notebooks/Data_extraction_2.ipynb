{
 "cells": [
  {
   "cell_type": "code",
   "execution_count": 3,
   "metadata": {},
   "outputs": [],
   "source": [
    "# imports\n",
    "import pandas as pd\n",
    "import numpy as np\n",
    "import librosa\n",
    "import librosa.display\n",
    "import os\n",
    "import jams\n",
    "\n",
    "\n",
    "pd.plotting.register_matplotlib_converters()\n",
    "import matplotlib.pyplot as plt\n",
    "%matplotlib inline\n",
    "import seaborn as sns\n",
    "sns.set(style='ticks')\n",
    "\n",
    "import IPython.display as ipd\n",
    "from IPython.display import Audio"
   ]
  },
  {
   "cell_type": "markdown",
   "metadata": {},
   "source": [
    "# Data extraction model 2:\n",
    "Get 500ms chroma vectors for all the sngs and corresponding labels\n",
    "Keep all songs for this model (not only to_keep = True)\n",
    "\n",
    "Steps:\n",
    "- Define paths\n",
    "- Load dataframe `chords_comp` 'containing all comp (accompagnement) data\n",
    "- For each audio file where name appears in the dataframe)\n",
    "-- slice on a 200ms time spam\n",
    "-- create chromagram image for each frame \n",
    "-- get the corresponding label\n"
   ]
  },
  {
   "cell_type": "markdown",
   "metadata": {},
   "source": [
    "### Define Paths, load DF"
   ]
  },
  {
   "cell_type": "code",
   "execution_count": 93,
   "metadata": {},
   "outputs": [],
   "source": [
    "path_audio = \"audio_hex-pickup_debleeded/\"\n",
    "audio_files = sorted(os.listdir(path_audio))\n",
    "path_annotations = \"annotation/\"\n",
    "path_images = \"images_2/\"\n",
    "path_labels = \"labels_2/\""
   ]
  },
  {
   "cell_type": "code",
   "execution_count": 38,
   "metadata": {},
   "outputs": [],
   "source": [
    "# load df\n",
    "df = pd.read_csv(\"labels/chords_comp.csv\", index_col=0)\n",
    "df = df.dropna()"
   ]
  },
  {
   "cell_type": "code",
   "execution_count": 41,
   "metadata": {},
   "outputs": [
    {
     "data": {
      "text/html": [
       "<div>\n",
       "<style scoped>\n",
       "    .dataframe tbody tr th:only-of-type {\n",
       "        vertical-align: middle;\n",
       "    }\n",
       "\n",
       "    .dataframe tbody tr th {\n",
       "        vertical-align: top;\n",
       "    }\n",
       "\n",
       "    .dataframe thead th {\n",
       "        text-align: right;\n",
       "    }\n",
       "</style>\n",
       "<table border=\"1\" class=\"dataframe\">\n",
       "  <thead>\n",
       "    <tr style=\"text-align: right;\">\n",
       "      <th></th>\n",
       "      <th>id</th>\n",
       "      <th>track_name</th>\n",
       "      <th>time</th>\n",
       "      <th>duration</th>\n",
       "      <th>chord_instructed</th>\n",
       "      <th>chord_played</th>\n",
       "      <th>to_keep</th>\n",
       "    </tr>\n",
       "  </thead>\n",
       "  <tbody>\n",
       "    <tr>\n",
       "      <th>0</th>\n",
       "      <td>00_BN1-129-Eb_comp_0</td>\n",
       "      <td>00_BN1-129-Eb_comp</td>\n",
       "      <td>0.000000</td>\n",
       "      <td>7.441860</td>\n",
       "      <td>D#:maj</td>\n",
       "      <td>D#:sus2(7)/1</td>\n",
       "      <td>False</td>\n",
       "    </tr>\n",
       "    <tr>\n",
       "      <th>1</th>\n",
       "      <td>00_BN1-129-Eb_comp_1</td>\n",
       "      <td>00_BN1-129-Eb_comp</td>\n",
       "      <td>7.441860</td>\n",
       "      <td>3.720930</td>\n",
       "      <td>G#:maj</td>\n",
       "      <td>G#:maj6(*5)/1</td>\n",
       "      <td>True</td>\n",
       "    </tr>\n",
       "    <tr>\n",
       "      <th>2</th>\n",
       "      <td>00_BN1-129-Eb_comp_2</td>\n",
       "      <td>00_BN1-129-Eb_comp</td>\n",
       "      <td>11.162791</td>\n",
       "      <td>3.720930</td>\n",
       "      <td>D#:maj</td>\n",
       "      <td>D#:maj7/1</td>\n",
       "      <td>True</td>\n",
       "    </tr>\n",
       "    <tr>\n",
       "      <th>3</th>\n",
       "      <td>00_BN1-129-Eb_comp_3</td>\n",
       "      <td>00_BN1-129-Eb_comp</td>\n",
       "      <td>14.883721</td>\n",
       "      <td>1.860465</td>\n",
       "      <td>A#:maj</td>\n",
       "      <td>A#:maj/1</td>\n",
       "      <td>True</td>\n",
       "    </tr>\n",
       "    <tr>\n",
       "      <th>4</th>\n",
       "      <td>00_BN1-129-Eb_comp_4</td>\n",
       "      <td>00_BN1-129-Eb_comp</td>\n",
       "      <td>16.744186</td>\n",
       "      <td>1.860465</td>\n",
       "      <td>G#:maj</td>\n",
       "      <td>G#:maj6(2,b5,*5)/1</td>\n",
       "      <td>True</td>\n",
       "    </tr>\n",
       "  </tbody>\n",
       "</table>\n",
       "</div>"
      ],
      "text/plain": [
       "                     id          track_name       time  duration  \\\n",
       "0  00_BN1-129-Eb_comp_0  00_BN1-129-Eb_comp   0.000000  7.441860   \n",
       "1  00_BN1-129-Eb_comp_1  00_BN1-129-Eb_comp   7.441860  3.720930   \n",
       "2  00_BN1-129-Eb_comp_2  00_BN1-129-Eb_comp  11.162791  3.720930   \n",
       "3  00_BN1-129-Eb_comp_3  00_BN1-129-Eb_comp  14.883721  1.860465   \n",
       "4  00_BN1-129-Eb_comp_4  00_BN1-129-Eb_comp  16.744186  1.860465   \n",
       "\n",
       "  chord_instructed        chord_played  to_keep  \n",
       "0           D#:maj        D#:sus2(7)/1    False  \n",
       "1           G#:maj       G#:maj6(*5)/1     True  \n",
       "2           D#:maj           D#:maj7/1     True  \n",
       "3           A#:maj            A#:maj/1     True  \n",
       "4           G#:maj  G#:maj6(2,b5,*5)/1     True  "
      ]
     },
     "execution_count": 41,
     "metadata": {},
     "output_type": "execute_result"
    }
   ],
   "source": [
    "df.head()"
   ]
  },
  {
   "cell_type": "markdown",
   "metadata": {},
   "source": [
    "### Loop through audio files, get chromagrams and labels\n",
    "- define params: length we want (200 ms)\n",
    "- for each song in the list of songs we're using (len(audio_files)\n",
    "- create a dataframe with track names as index\n",
    "-- load in librosa\n",
    "-- get length of the song (len(data)/sr\n",
    "-- compute list of starts\n",
    "-- create image for each start\n",
    "-- get chord sequence and index it to the dataframe"
   ]
  },
  {
   "cell_type": "code",
   "execution_count": 99,
   "metadata": {},
   "outputs": [],
   "source": [
    "# get audio_file_comp only\n",
    "audio_file_comp = []\n",
    "for file in audio_files:\n",
    "    if 'comp' in str(file):\n",
    "        audio_file_comp.append(file)"
   ]
  },
  {
   "cell_type": "code",
   "execution_count": 139,
   "metadata": {},
   "outputs": [
    {
     "data": {
      "text/html": [
       "<div>\n",
       "<style scoped>\n",
       "    .dataframe tbody tr th:only-of-type {\n",
       "        vertical-align: middle;\n",
       "    }\n",
       "\n",
       "    .dataframe tbody tr th {\n",
       "        vertical-align: top;\n",
       "    }\n",
       "\n",
       "    .dataframe thead th {\n",
       "        text-align: right;\n",
       "    }\n",
       "</style>\n",
       "<table border=\"1\" class=\"dataframe\">\n",
       "  <thead>\n",
       "    <tr style=\"text-align: right;\">\n",
       "      <th></th>\n",
       "      <th>chord_sequ</th>\n",
       "    </tr>\n",
       "    <tr>\n",
       "      <th>track</th>\n",
       "      <th></th>\n",
       "    </tr>\n",
       "  </thead>\n",
       "  <tbody>\n",
       "    <tr>\n",
       "      <th>00_BN1-129-Eb_comp_hex_cln.wav</th>\n",
       "      <td></td>\n",
       "    </tr>\n",
       "    <tr>\n",
       "      <th>00_BN1-147-Gb_comp_hex_cln.wav</th>\n",
       "      <td></td>\n",
       "    </tr>\n",
       "    <tr>\n",
       "      <th>00_BN2-131-B_comp_hex_cln.wav</th>\n",
       "      <td></td>\n",
       "    </tr>\n",
       "    <tr>\n",
       "      <th>00_BN2-166-Ab_comp_hex_cln.wav</th>\n",
       "      <td></td>\n",
       "    </tr>\n",
       "    <tr>\n",
       "      <th>00_BN3-119-G_comp_hex_cln.wav</th>\n",
       "      <td></td>\n",
       "    </tr>\n",
       "  </tbody>\n",
       "</table>\n",
       "</div>"
      ],
      "text/plain": [
       "                               chord_sequ\n",
       "track                                    \n",
       "00_BN1-129-Eb_comp_hex_cln.wav           \n",
       "00_BN1-147-Gb_comp_hex_cln.wav           \n",
       "00_BN2-131-B_comp_hex_cln.wav            \n",
       "00_BN2-166-Ab_comp_hex_cln.wav           \n",
       "00_BN3-119-G_comp_hex_cln.wav            "
      ]
     },
     "execution_count": 139,
     "metadata": {},
     "output_type": "execute_result"
    }
   ],
   "source": [
    "# get dataframe to store chord sequences\n",
    "\n",
    "chord_seq_df = pd.DataFrame({'track':audio_file_comp, 'chord_sequ':''})\n",
    "chord_seq_df = chord_seq_df.set_index('track')\n",
    "chord_seq_df[:5]"
   ]
  },
  {
   "cell_type": "code",
   "execution_count": 127,
   "metadata": {},
   "outputs": [],
   "source": [
    "# define params (take 0.5 sec for now - to try code)\n",
    "dur = 0.5"
   ]
  },
  {
   "cell_type": "code",
   "execution_count": 142,
   "metadata": {
    "collapsed": true,
    "jupyter": {
     "outputs_hidden": true
    }
   },
   "outputs": [
    {
     "name": "stdout",
     "output_type": "stream",
     "text": [
      "file 00_BN1-129-Eb_comp_hex_cln.wav\n",
      "total images: 45\n",
      "total labels: 45\n"
     ]
    },
    {
     "name": "stderr",
     "output_type": "stream",
     "text": [
      "/opt/conda/lib/python3.8/site-packages/librosa/core/spectrum.py:222: UserWarning: n_fft=1024 is too small for input signal of length=690\n",
      "  warnings.warn(\n",
      "/opt/conda/lib/python3.8/site-packages/librosa/core/spectrum.py:222: UserWarning: n_fft=1024 is too small for input signal of length=345\n",
      "  warnings.warn(\n",
      "/opt/conda/lib/python3.8/site-packages/librosa/core/spectrum.py:222: UserWarning: n_fft=1024 is too small for input signal of length=173\n",
      "  warnings.warn(\n",
      "/opt/conda/lib/python3.8/site-packages/librosa/core/spectrum.py:222: UserWarning: n_fft=1024 is too small for input signal of length=895\n",
      "  warnings.warn(\n",
      "/opt/conda/lib/python3.8/site-packages/librosa/core/spectrum.py:222: UserWarning: n_fft=1024 is too small for input signal of length=448\n",
      "  warnings.warn(\n",
      "/opt/conda/lib/python3.8/site-packages/librosa/core/spectrum.py:222: UserWarning: n_fft=1024 is too small for input signal of length=224\n",
      "  warnings.warn(\n",
      "/opt/conda/lib/python3.8/site-packages/librosa/core/spectrum.py:222: UserWarning: n_fft=1024 is too small for input signal of length=112\n",
      "  warnings.warn(\n"
     ]
    },
    {
     "name": "stdout",
     "output_type": "stream",
     "text": [
      "file 00_BN1-147-Gb_comp_hex_cln.wav\n",
      "total images: 40\n",
      "total labels: 40\n"
     ]
    },
    {
     "name": "stderr",
     "output_type": "stream",
     "text": [
      "/opt/conda/lib/python3.8/site-packages/librosa/core/spectrum.py:222: UserWarning: n_fft=2048 is too small for input signal of length=1887\n",
      "  warnings.warn(\n",
      "/opt/conda/lib/python3.8/site-packages/librosa/core/spectrum.py:222: UserWarning: n_fft=1024 is too small for input signal of length=944\n",
      "  warnings.warn(\n",
      "/opt/conda/lib/python3.8/site-packages/librosa/core/spectrum.py:222: UserWarning: n_fft=1024 is too small for input signal of length=472\n",
      "  warnings.warn(\n",
      "/opt/conda/lib/python3.8/site-packages/librosa/core/spectrum.py:222: UserWarning: n_fft=1024 is too small for input signal of length=236\n",
      "  warnings.warn(\n",
      "/opt/conda/lib/python3.8/site-packages/librosa/core/spectrum.py:222: UserWarning: n_fft=1024 is too small for input signal of length=118\n",
      "  warnings.warn(\n",
      "/opt/conda/lib/python3.8/site-packages/librosa/core/spectrum.py:222: UserWarning: n_fft=1024 is too small for input signal of length=59\n",
      "  warnings.warn(\n",
      "/opt/conda/lib/python3.8/site-packages/librosa/core/spectrum.py:222: UserWarning: n_fft=1024 is too small for input signal of length=30\n",
      "  warnings.warn(\n"
     ]
    },
    {
     "name": "stdout",
     "output_type": "stream",
     "text": [
      "file 00_BN2-131-B_comp_hex_cln.wav\n",
      "total images: 59\n",
      "total labels: 59\n"
     ]
    },
    {
     "name": "stderr",
     "output_type": "stream",
     "text": [
      "/opt/conda/lib/python3.8/site-packages/librosa/core/spectrum.py:222: UserWarning: n_fft=1024 is too small for input signal of length=845\n",
      "  warnings.warn(\n",
      "/opt/conda/lib/python3.8/site-packages/librosa/core/spectrum.py:222: UserWarning: n_fft=1024 is too small for input signal of length=423\n",
      "  warnings.warn(\n",
      "/opt/conda/lib/python3.8/site-packages/librosa/core/spectrum.py:222: UserWarning: n_fft=1024 is too small for input signal of length=212\n",
      "  warnings.warn(\n",
      "/opt/conda/lib/python3.8/site-packages/librosa/core/spectrum.py:222: UserWarning: n_fft=1024 is too small for input signal of length=106\n",
      "  warnings.warn(\n"
     ]
    },
    {
     "name": "stdout",
     "output_type": "stream",
     "text": [
      "file 00_BN2-166-Ab_comp_hex_cln.wav\n",
      "total images: 47\n",
      "total labels: 47\n"
     ]
    },
    {
     "name": "stderr",
     "output_type": "stream",
     "text": [
      "/opt/conda/lib/python3.8/site-packages/librosa/core/spectrum.py:222: UserWarning: n_fft=1024 is too small for input signal of length=717\n",
      "  warnings.warn(\n",
      "/opt/conda/lib/python3.8/site-packages/librosa/core/spectrum.py:222: UserWarning: n_fft=1024 is too small for input signal of length=359\n",
      "  warnings.warn(\n",
      "/opt/conda/lib/python3.8/site-packages/librosa/core/spectrum.py:222: UserWarning: n_fft=1024 is too small for input signal of length=180\n",
      "  warnings.warn(\n",
      "/opt/conda/lib/python3.8/site-packages/librosa/core/spectrum.py:222: UserWarning: n_fft=1024 is too small for input signal of length=90\n",
      "  warnings.warn(\n",
      "/opt/conda/lib/python3.8/site-packages/librosa/core/spectrum.py:222: UserWarning: n_fft=1024 is too small for input signal of length=45\n",
      "  warnings.warn(\n"
     ]
    },
    {
     "name": "stdout",
     "output_type": "stream",
     "text": [
      "file 00_BN3-119-G_comp_hex_cln.wav\n",
      "total images: 65\n",
      "total labels: 65\n"
     ]
    },
    {
     "name": "stderr",
     "output_type": "stream",
     "text": [
      "/opt/conda/lib/python3.8/site-packages/librosa/core/spectrum.py:222: UserWarning: n_fft=1024 is too small for input signal of length=726\n",
      "  warnings.warn(\n",
      "/opt/conda/lib/python3.8/site-packages/librosa/core/spectrum.py:222: UserWarning: n_fft=1024 is too small for input signal of length=363\n",
      "  warnings.warn(\n",
      "/opt/conda/lib/python3.8/site-packages/librosa/core/spectrum.py:222: UserWarning: n_fft=1024 is too small for input signal of length=182\n",
      "  warnings.warn(\n",
      "/opt/conda/lib/python3.8/site-packages/librosa/core/spectrum.py:222: UserWarning: n_fft=1024 is too small for input signal of length=91\n",
      "  warnings.warn(\n"
     ]
    },
    {
     "name": "stdout",
     "output_type": "stream",
     "text": [
      "file 00_BN3-154-E_comp_hex_cln.wav\n",
      "total images: 50\n",
      "total labels: 50\n"
     ]
    },
    {
     "name": "stderr",
     "output_type": "stream",
     "text": [
      "/opt/conda/lib/python3.8/site-packages/librosa/core/spectrum.py:222: UserWarning: n_fft=1024 is too small for input signal of length=596\n",
      "  warnings.warn(\n",
      "/opt/conda/lib/python3.8/site-packages/librosa/core/spectrum.py:222: UserWarning: n_fft=1024 is too small for input signal of length=298\n",
      "  warnings.warn(\n",
      "/opt/conda/lib/python3.8/site-packages/librosa/core/spectrum.py:222: UserWarning: n_fft=1024 is too small for input signal of length=149\n",
      "  warnings.warn(\n"
     ]
    },
    {
     "name": "stdout",
     "output_type": "stream",
     "text": [
      "file 00_Funk1-114-Ab_comp_hex_cln.wav\n",
      "total images: 51\n",
      "total labels: 51\n"
     ]
    },
    {
     "name": "stderr",
     "output_type": "stream",
     "text": [
      "/opt/conda/lib/python3.8/site-packages/librosa/core/spectrum.py:222: UserWarning: n_fft=1024 is too small for input signal of length=713\n",
      "  warnings.warn(\n",
      "/opt/conda/lib/python3.8/site-packages/librosa/core/spectrum.py:222: UserWarning: n_fft=1024 is too small for input signal of length=357\n",
      "  warnings.warn(\n",
      "/opt/conda/lib/python3.8/site-packages/librosa/core/spectrum.py:222: UserWarning: n_fft=1024 is too small for input signal of length=179\n",
      "  warnings.warn(\n"
     ]
    },
    {
     "name": "stdout",
     "output_type": "stream",
     "text": [
      "file 00_Funk1-97-C_comp_hex_cln.wav\n",
      "total images: 60\n",
      "total labels: 60\n"
     ]
    },
    {
     "name": "stderr",
     "output_type": "stream",
     "text": [
      "/opt/conda/lib/python3.8/site-packages/librosa/core/spectrum.py:222: UserWarning: n_fft=1024 is too small for input signal of length=520\n",
      "  warnings.warn(\n",
      "/opt/conda/lib/python3.8/site-packages/librosa/core/spectrum.py:222: UserWarning: n_fft=1024 is too small for input signal of length=260\n",
      "  warnings.warn(\n",
      "/opt/conda/lib/python3.8/site-packages/librosa/core/spectrum.py:222: UserWarning: n_fft=1024 is too small for input signal of length=130\n",
      "  warnings.warn(\n",
      "/opt/conda/lib/python3.8/site-packages/librosa/core/spectrum.py:222: UserWarning: n_fft=1024 is too small for input signal of length=65\n",
      "  warnings.warn(\n"
     ]
    },
    {
     "name": "stdout",
     "output_type": "stream",
     "text": [
      "file 00_Funk2-108-Eb_comp_hex_cln.wav\n",
      "total images: 72\n",
      "total labels: 73\n"
     ]
    },
    {
     "name": "stderr",
     "output_type": "stream",
     "text": [
      "/opt/conda/lib/python3.8/site-packages/librosa/core/spectrum.py:222: UserWarning: n_fft=2048 is too small for input signal of length=1067\n",
      "  warnings.warn(\n",
      "/opt/conda/lib/python3.8/site-packages/librosa/core/spectrum.py:222: UserWarning: n_fft=1024 is too small for input signal of length=534\n",
      "  warnings.warn(\n",
      "/opt/conda/lib/python3.8/site-packages/librosa/core/spectrum.py:222: UserWarning: n_fft=1024 is too small for input signal of length=267\n",
      "  warnings.warn(\n",
      "/opt/conda/lib/python3.8/site-packages/librosa/core/spectrum.py:222: UserWarning: n_fft=1024 is too small for input signal of length=134\n",
      "  warnings.warn(\n",
      "/opt/conda/lib/python3.8/site-packages/librosa/core/spectrum.py:222: UserWarning: n_fft=1024 is too small for input signal of length=67\n",
      "  warnings.warn(\n",
      "/opt/conda/lib/python3.8/site-packages/librosa/core/spectrum.py:222: UserWarning: n_fft=1024 is too small for input signal of length=34\n",
      "  warnings.warn(\n",
      "/opt/conda/lib/python3.8/site-packages/librosa/core/spectrum.py:222: UserWarning: n_fft=1024 is too small for input signal of length=17\n",
      "  warnings.warn(\n"
     ]
    },
    {
     "name": "stdout",
     "output_type": "stream",
     "text": [
      "file 00_Funk2-119-G_comp_hex_cln.wav\n",
      "total images: 65\n",
      "total labels: 65\n",
      "file 00_Funk3-112-C#_comp_hex_cln.wav\n",
      "total images: 69\n",
      "total labels: 69\n"
     ]
    },
    {
     "name": "stderr",
     "output_type": "stream",
     "text": [
      "/opt/conda/lib/python3.8/site-packages/librosa/core/spectrum.py:222: UserWarning: n_fft=1024 is too small for input signal of length=784\n",
      "  warnings.warn(\n",
      "/opt/conda/lib/python3.8/site-packages/librosa/core/spectrum.py:222: UserWarning: n_fft=1024 is too small for input signal of length=392\n",
      "  warnings.warn(\n",
      "/opt/conda/lib/python3.8/site-packages/librosa/core/spectrum.py:222: UserWarning: n_fft=1024 is too small for input signal of length=196\n",
      "  warnings.warn(\n",
      "/opt/conda/lib/python3.8/site-packages/librosa/core/spectrum.py:222: UserWarning: n_fft=1024 is too small for input signal of length=98\n",
      "  warnings.warn(\n"
     ]
    },
    {
     "name": "stdout",
     "output_type": "stream",
     "text": [
      "file 00_Funk3-98-A_comp_hex_cln.wav\n",
      "total images: 79\n"
     ]
    },
    {
     "name": "stderr",
     "output_type": "stream",
     "text": [
      "/opt/conda/lib/python3.8/site-packages/librosa/core/spectrum.py:222: UserWarning: n_fft=1024 is too small for input signal of length=986\n",
      "  warnings.warn(\n",
      "/opt/conda/lib/python3.8/site-packages/librosa/core/spectrum.py:222: UserWarning: n_fft=1024 is too small for input signal of length=493\n",
      "  warnings.warn(\n",
      "/opt/conda/lib/python3.8/site-packages/librosa/core/spectrum.py:222: UserWarning: n_fft=1024 is too small for input signal of length=247\n",
      "  warnings.warn(\n",
      "/opt/conda/lib/python3.8/site-packages/librosa/core/spectrum.py:222: UserWarning: n_fft=1024 is too small for input signal of length=124\n",
      "  warnings.warn(\n",
      "/opt/conda/lib/python3.8/site-packages/librosa/core/spectrum.py:222: UserWarning: n_fft=1024 is too small for input signal of length=62\n",
      "  warnings.warn(\n"
     ]
    },
    {
     "name": "stdout",
     "output_type": "stream",
     "text": [
      "total labels: 79\n",
      "file 00_Jazz1-130-D_comp_hex_cln.wav\n",
      "total images: 45\n",
      "total labels: 45\n"
     ]
    },
    {
     "name": "stderr",
     "output_type": "stream",
     "text": [
      "/opt/conda/lib/python3.8/site-packages/librosa/core/spectrum.py:222: UserWarning: n_fft=1024 is too small for input signal of length=812\n",
      "  warnings.warn(\n",
      "/opt/conda/lib/python3.8/site-packages/librosa/core/spectrum.py:222: UserWarning: n_fft=1024 is too small for input signal of length=406\n",
      "  warnings.warn(\n",
      "/opt/conda/lib/python3.8/site-packages/librosa/core/spectrum.py:222: UserWarning: n_fft=1024 is too small for input signal of length=203\n",
      "  warnings.warn(\n",
      "/opt/conda/lib/python3.8/site-packages/librosa/core/spectrum.py:222: UserWarning: n_fft=1024 is too small for input signal of length=102\n",
      "  warnings.warn(\n",
      "/opt/conda/lib/python3.8/site-packages/librosa/core/spectrum.py:222: UserWarning: n_fft=1024 is too small for input signal of length=51\n",
      "  warnings.warn(\n"
     ]
    },
    {
     "name": "stdout",
     "output_type": "stream",
     "text": [
      "file 00_Jazz1-200-B_comp_hex_cln.wav\n",
      "total images: 29\n",
      "total labels: 30\n"
     ]
    },
    {
     "name": "stderr",
     "output_type": "stream",
     "text": [
      "/opt/conda/lib/python3.8/site-packages/librosa/core/spectrum.py:222: UserWarning: n_fft=1024 is too small for input signal of length=552\n",
      "  warnings.warn(\n",
      "/opt/conda/lib/python3.8/site-packages/librosa/core/spectrum.py:222: UserWarning: n_fft=1024 is too small for input signal of length=276\n",
      "  warnings.warn(\n",
      "/opt/conda/lib/python3.8/site-packages/librosa/core/spectrum.py:222: UserWarning: n_fft=1024 is too small for input signal of length=138\n",
      "  warnings.warn(\n"
     ]
    },
    {
     "name": "stdout",
     "output_type": "stream",
     "text": [
      "file 00_Jazz2-110-Bb_comp_hex_cln.wav\n",
      "total images: 70\n",
      "total labels: 70\n"
     ]
    },
    {
     "name": "stderr",
     "output_type": "stream",
     "text": [
      "/opt/conda/lib/python3.8/site-packages/librosa/core/spectrum.py:222: UserWarning: n_fft=1024 is too small for input signal of length=556\n",
      "  warnings.warn(\n",
      "/opt/conda/lib/python3.8/site-packages/librosa/core/spectrum.py:222: UserWarning: n_fft=1024 is too small for input signal of length=278\n",
      "  warnings.warn(\n",
      "/opt/conda/lib/python3.8/site-packages/librosa/core/spectrum.py:222: UserWarning: n_fft=1024 is too small for input signal of length=139\n",
      "  warnings.warn(\n"
     ]
    },
    {
     "name": "stdout",
     "output_type": "stream",
     "text": [
      "file 00_Jazz2-187-F#_comp_hex_cln.wav\n",
      "total images: 42\n",
      "total labels: 42\n"
     ]
    },
    {
     "name": "stderr",
     "output_type": "stream",
     "text": [
      "/opt/conda/lib/python3.8/site-packages/librosa/core/spectrum.py:222: UserWarning: n_fft=2048 is too small for input signal of length=706\n",
      "  warnings.warn(\n",
      "/opt/conda/lib/python3.8/site-packages/librosa/core/spectrum.py:222: UserWarning: n_fft=1024 is too small for input signal of length=706\n",
      "  warnings.warn(\n",
      "/opt/conda/lib/python3.8/site-packages/librosa/core/spectrum.py:222: UserWarning: n_fft=1024 is too small for input signal of length=353\n",
      "  warnings.warn(\n",
      "/opt/conda/lib/python3.8/site-packages/librosa/core/spectrum.py:222: UserWarning: n_fft=1024 is too small for input signal of length=177\n",
      "  warnings.warn(\n",
      "/opt/conda/lib/python3.8/site-packages/librosa/core/spectrum.py:222: UserWarning: n_fft=1024 is too small for input signal of length=89\n",
      "  warnings.warn(\n",
      "/opt/conda/lib/python3.8/site-packages/librosa/core/spectrum.py:222: UserWarning: n_fft=1024 is too small for input signal of length=23\n",
      "  warnings.warn(\n",
      "/opt/conda/lib/python3.8/site-packages/librosa/core/spectrum.py:222: UserWarning: n_fft=1024 is too small for input signal of length=12\n",
      "  warnings.warn(\n"
     ]
    },
    {
     "name": "stdout",
     "output_type": "stream",
     "text": [
      "file 00_Jazz3-137-Eb_comp_hex_cln.wav\n",
      "total images: 57\n",
      "total labels: 57\n"
     ]
    },
    {
     "name": "stderr",
     "output_type": "stream",
     "text": [
      "/opt/conda/lib/python3.8/site-packages/librosa/core/spectrum.py:222: UserWarning: n_fft=2048 is too small for input signal of length=512\n",
      "  warnings.warn(\n",
      "/opt/conda/lib/python3.8/site-packages/librosa/core/spectrum.py:222: UserWarning: n_fft=1024 is too small for input signal of length=512\n",
      "  warnings.warn(\n",
      "/opt/conda/lib/python3.8/site-packages/librosa/core/spectrum.py:222: UserWarning: n_fft=1024 is too small for input signal of length=256\n",
      "  warnings.warn(\n",
      "/opt/conda/lib/python3.8/site-packages/librosa/core/spectrum.py:222: UserWarning: n_fft=1024 is too small for input signal of length=128\n",
      "  warnings.warn(\n",
      "/opt/conda/lib/python3.8/site-packages/librosa/core/spectrum.py:222: UserWarning: n_fft=1024 is too small for input signal of length=64\n",
      "  warnings.warn(\n",
      "/opt/conda/lib/python3.8/site-packages/librosa/core/spectrum.py:222: UserWarning: n_fft=1024 is too small for input signal of length=32\n",
      "  warnings.warn(\n",
      "/opt/conda/lib/python3.8/site-packages/librosa/core/spectrum.py:222: UserWarning: n_fft=1024 is too small for input signal of length=16\n",
      "  warnings.warn(\n",
      "/opt/conda/lib/python3.8/site-packages/librosa/core/spectrum.py:222: UserWarning: n_fft=1024 is too small for input signal of length=8\n",
      "  warnings.warn(\n"
     ]
    },
    {
     "name": "stdout",
     "output_type": "stream",
     "text": [
      "file 00_Jazz3-150-C_comp_hex_cln.wav\n",
      "total images: 52\n",
      "total labels: 52\n"
     ]
    },
    {
     "name": "stderr",
     "output_type": "stream",
     "text": [
      "/opt/conda/lib/python3.8/site-packages/librosa/core/spectrum.py:222: UserWarning: n_fft=1024 is too small for input signal of length=69\n",
      "  warnings.warn(\n",
      "/opt/conda/lib/python3.8/site-packages/librosa/core/spectrum.py:222: UserWarning: n_fft=1024 is too small for input signal of length=35\n",
      "  warnings.warn(\n"
     ]
    },
    {
     "name": "stdout",
     "output_type": "stream",
     "text": [
      "file 00_Rock1-130-A_comp_hex_cln.wav\n",
      "total images: 45\n",
      "total labels: 45\n",
      "file 00_Rock1-90-C#_comp_hex_cln.wav\n",
      "total images: 64\n",
      "total labels: 64\n",
      "file 00_Rock2-142-D_comp_hex_cln.wav\n",
      "total images: 55\n",
      "total labels: 55\n"
     ]
    },
    {
     "name": "stderr",
     "output_type": "stream",
     "text": [
      "/opt/conda/lib/python3.8/site-packages/librosa/core/spectrum.py:222: UserWarning: n_fft=2048 is too small for input signal of length=918\n",
      "  warnings.warn(\n",
      "/opt/conda/lib/python3.8/site-packages/librosa/core/spectrum.py:222: UserWarning: n_fft=1024 is too small for input signal of length=918\n",
      "  warnings.warn(\n",
      "/opt/conda/lib/python3.8/site-packages/librosa/core/spectrum.py:222: UserWarning: n_fft=1024 is too small for input signal of length=459\n",
      "  warnings.warn(\n",
      "/opt/conda/lib/python3.8/site-packages/librosa/core/spectrum.py:222: UserWarning: n_fft=1024 is too small for input signal of length=230\n",
      "  warnings.warn(\n",
      "/opt/conda/lib/python3.8/site-packages/librosa/core/spectrum.py:222: UserWarning: n_fft=1024 is too small for input signal of length=115\n",
      "  warnings.warn(\n",
      "/opt/conda/lib/python3.8/site-packages/librosa/core/spectrum.py:222: UserWarning: n_fft=1024 is too small for input signal of length=58\n",
      "  warnings.warn(\n",
      "/opt/conda/lib/python3.8/site-packages/librosa/core/spectrum.py:222: UserWarning: n_fft=1024 is too small for input signal of length=29\n",
      "  warnings.warn(\n",
      "/opt/conda/lib/python3.8/site-packages/librosa/core/spectrum.py:222: UserWarning: n_fft=1024 is too small for input signal of length=15\n",
      "  warnings.warn(\n"
     ]
    },
    {
     "name": "stdout",
     "output_type": "stream",
     "text": [
      "file 00_Rock2-85-F_comp_hex_cln.wav\n",
      "total images: 91\n",
      "total labels: 91\n"
     ]
    },
    {
     "name": "stderr",
     "output_type": "stream",
     "text": [
      "/opt/conda/lib/python3.8/site-packages/librosa/core/spectrum.py:222: UserWarning: n_fft=1024 is too small for input signal of length=955\n",
      "  warnings.warn(\n",
      "/opt/conda/lib/python3.8/site-packages/librosa/core/spectrum.py:222: UserWarning: n_fft=1024 is too small for input signal of length=478\n",
      "  warnings.warn(\n",
      "/opt/conda/lib/python3.8/site-packages/librosa/core/spectrum.py:222: UserWarning: n_fft=1024 is too small for input signal of length=239\n",
      "  warnings.warn(\n",
      "/opt/conda/lib/python3.8/site-packages/librosa/core/spectrum.py:222: UserWarning: n_fft=1024 is too small for input signal of length=120\n",
      "  warnings.warn(\n",
      "/opt/conda/lib/python3.8/site-packages/librosa/core/spectrum.py:222: UserWarning: n_fft=1024 is too small for input signal of length=60\n",
      "  warnings.warn(\n"
     ]
    },
    {
     "name": "stdout",
     "output_type": "stream",
     "text": [
      "file 00_Rock3-117-Bb_comp_hex_cln.wav\n",
      "total images: 66\n",
      "total labels: 66\n"
     ]
    },
    {
     "name": "stderr",
     "output_type": "stream",
     "text": [
      "/opt/conda/lib/python3.8/site-packages/librosa/core/spectrum.py:222: UserWarning: n_fft=1024 is too small for input signal of length=873\n",
      "  warnings.warn(\n",
      "/opt/conda/lib/python3.8/site-packages/librosa/core/spectrum.py:222: UserWarning: n_fft=1024 is too small for input signal of length=437\n",
      "  warnings.warn(\n",
      "/opt/conda/lib/python3.8/site-packages/librosa/core/spectrum.py:222: UserWarning: n_fft=1024 is too small for input signal of length=219\n",
      "  warnings.warn(\n",
      "/opt/conda/lib/python3.8/site-packages/librosa/core/spectrum.py:222: UserWarning: n_fft=1024 is too small for input signal of length=110\n",
      "  warnings.warn(\n"
     ]
    },
    {
     "name": "stdout",
     "output_type": "stream",
     "text": [
      "file 00_Rock3-148-C_comp_hex_cln.wav\n",
      "total images: 52\n",
      "total labels: 52\n"
     ]
    },
    {
     "name": "stderr",
     "output_type": "stream",
     "text": [
      "/opt/conda/lib/python3.8/site-packages/librosa/core/spectrum.py:222: UserWarning: n_fft=1024 is too small for input signal of length=608\n",
      "  warnings.warn(\n",
      "/opt/conda/lib/python3.8/site-packages/librosa/core/spectrum.py:222: UserWarning: n_fft=1024 is too small for input signal of length=304\n",
      "  warnings.warn(\n",
      "/opt/conda/lib/python3.8/site-packages/librosa/core/spectrum.py:222: UserWarning: n_fft=1024 is too small for input signal of length=152\n",
      "  warnings.warn(\n"
     ]
    },
    {
     "name": "stdout",
     "output_type": "stream",
     "text": [
      "file 00_SS1-100-C#_comp_hex_cln.wav\n",
      "total images: 58\n",
      "total labels: 59\n"
     ]
    },
    {
     "name": "stderr",
     "output_type": "stream",
     "text": [
      "/opt/conda/lib/python3.8/site-packages/librosa/core/spectrum.py:222: UserWarning: n_fft=1024 is too small for input signal of length=827\n",
      "  warnings.warn(\n",
      "/opt/conda/lib/python3.8/site-packages/librosa/core/spectrum.py:222: UserWarning: n_fft=1024 is too small for input signal of length=414\n",
      "  warnings.warn(\n",
      "/opt/conda/lib/python3.8/site-packages/librosa/core/spectrum.py:222: UserWarning: n_fft=1024 is too small for input signal of length=207\n",
      "  warnings.warn(\n",
      "/opt/conda/lib/python3.8/site-packages/librosa/core/spectrum.py:222: UserWarning: n_fft=1024 is too small for input signal of length=104\n",
      "  warnings.warn(\n"
     ]
    },
    {
     "name": "stdout",
     "output_type": "stream",
     "text": [
      "file 00_SS1-68-E_comp_hex_cln.wav\n",
      "total images: 85\n",
      "total labels: 85\n",
      "file 00_SS2-107-Ab_comp_hex_cln.wav\n",
      "total images: 72\n",
      "total labels: 72\n"
     ]
    },
    {
     "name": "stderr",
     "output_type": "stream",
     "text": [
      "/opt/conda/lib/python3.8/site-packages/librosa/core/spectrum.py:222: UserWarning: n_fft=1024 is too small for input signal of length=533\n",
      "  warnings.warn(\n"
     ]
    },
    {
     "name": "stdout",
     "output_type": "stream",
     "text": [
      "file 00_SS2-88-F_comp_hex_cln.wav\n",
      "total images: 88\n",
      "total labels: 88\n",
      "file 00_SS3-84-Bb_comp_hex_cln.wav\n",
      "total images: 92\n"
     ]
    },
    {
     "name": "stderr",
     "output_type": "stream",
     "text": [
      "/opt/conda/lib/python3.8/site-packages/librosa/core/spectrum.py:222: UserWarning: n_fft=1024 is too small for input signal of length=573\n",
      "  warnings.warn(\n",
      "/opt/conda/lib/python3.8/site-packages/librosa/core/spectrum.py:222: UserWarning: n_fft=1024 is too small for input signal of length=287\n",
      "  warnings.warn(\n",
      "/opt/conda/lib/python3.8/site-packages/librosa/core/spectrum.py:222: UserWarning: n_fft=1024 is too small for input signal of length=144\n",
      "  warnings.warn(\n",
      "/opt/conda/lib/python3.8/site-packages/librosa/core/spectrum.py:222: UserWarning: n_fft=1024 is too small for input signal of length=72\n",
      "  warnings.warn(\n"
     ]
    },
    {
     "name": "stdout",
     "output_type": "stream",
     "text": [
      "total labels: 92\n",
      "file 00_SS3-98-C_comp_hex_cln.wav\n",
      "total images: 79\n",
      "total labels: 79\n",
      "file 01_BN1-129-Eb_comp_hex_cln.wav\n",
      "total images: 45\n",
      "total labels: 45\n",
      "file 01_BN1-147-Gb_comp_hex_cln.wav\n",
      "total images: 40\n",
      "total labels: 40\n",
      "file 01_BN2-131-B_comp_hex_cln.wav\n",
      "total images: 59\n",
      "total labels: 59\n",
      "file 01_BN2-166-Ab_comp_hex_cln.wav\n",
      "total images: 47\n",
      "total labels: 47\n",
      "file 01_BN3-119-G_comp_hex_cln.wav\n",
      "total images: 65\n",
      "total labels: 65\n",
      "file 01_BN3-154-E_comp_hex_cln.wav\n",
      "total images: 50\n",
      "total labels: 50\n",
      "file 01_Funk1-114-Ab_comp_hex_cln.wav\n",
      "total images: 51\n",
      "total labels: 51\n",
      "file 01_Funk1-97-C_comp_hex_cln.wav\n",
      "total images: 60\n",
      "total labels: 60\n",
      "file 01_Funk2-108-Eb_comp_hex_cln.wav\n",
      "total images: 72\n",
      "total labels: 73\n",
      "file 01_Funk2-119-G_comp_hex_cln.wav\n",
      "total images: 65\n",
      "total labels: 65\n",
      "file 01_Funk3-112-C#_comp_hex_cln.wav\n",
      "total images: 69\n",
      "total labels: 69\n",
      "file 01_Funk3-98-A_comp_hex_cln.wav\n",
      "total images: 79\n",
      "total labels: 79\n",
      "file 01_Jazz1-130-D_comp_hex_cln.wav\n",
      "total images: 45\n",
      "total labels: 45\n",
      "file 01_Jazz1-200-B_comp_hex_cln.wav\n",
      "total images: 29\n",
      "total labels: 30\n",
      "file 01_Jazz2-110-Bb_comp_hex_cln.wav\n",
      "total images: 70\n",
      "total labels: 70\n",
      "file 01_Jazz2-187-F#_comp_hex_cln.wav\n",
      "total images: 42\n",
      "total labels: 42\n",
      "file 01_Jazz3-137-Eb_comp_hex_cln.wav\n",
      "total images: 57\n",
      "total labels: 57\n",
      "file 01_Jazz3-150-C_comp_hex_cln.wav\n",
      "total images: 52\n",
      "total labels: 52\n",
      "file 01_Rock1-130-A_comp_hex_cln.wav\n",
      "total images: 45\n",
      "total labels: 45\n",
      "file 01_Rock1-90-C#_comp_hex_cln.wav\n",
      "total images: 64\n",
      "total labels: 64\n",
      "file 01_Rock2-142-D_comp_hex_cln.wav\n",
      "total images: 55\n",
      "total labels: 55\n",
      "file 01_Rock2-85-F_comp_hex_cln.wav\n",
      "total images: 91\n",
      "total labels: 91\n",
      "file 01_Rock3-117-Bb_comp_hex_cln.wav\n",
      "total images: 66\n",
      "total labels: 66\n",
      "file 01_Rock3-148-C_comp_hex_cln.wav\n",
      "total images: 52\n",
      "total labels: 52\n",
      "file 01_SS1-100-C#_comp_hex_cln.wav\n",
      "total images: 58\n",
      "total labels: 59\n",
      "file 01_SS1-68-E_comp_hex_cln.wav\n",
      "total images: 85\n",
      "total labels: 85\n",
      "file 01_SS2-107-Ab_comp_hex_cln.wav\n",
      "total images: 72\n",
      "total labels: 72\n",
      "file 01_SS2-88-F_comp_hex_cln.wav\n",
      "total images: 88\n",
      "total labels: 88\n",
      "file 01_SS3-84-Bb_comp_hex_cln.wav\n",
      "total images: 92\n",
      "total labels: 92\n",
      "file 01_SS3-98-C_comp_hex_cln.wav\n",
      "total images: 79\n",
      "total labels: 79\n",
      "file 02_BN1-129-Eb_comp_hex_cln.wav\n",
      "total images: 45\n",
      "total labels: 45\n",
      "file 02_BN1-147-Gb_comp_hex_cln.wav\n",
      "total images: 40\n",
      "total labels: 40\n",
      "file 02_BN2-131-B_comp_hex_cln.wav\n",
      "total images: 59\n",
      "total labels: 59\n",
      "file 02_BN2-166-Ab_comp_hex_cln.wav\n",
      "total images: 47\n",
      "total labels: 47\n",
      "file 02_BN3-119-G_comp_hex_cln.wav\n",
      "total images: 65\n",
      "total labels: 65\n",
      "file 02_BN3-154-E_comp_hex_cln.wav\n",
      "total images: 50\n",
      "total labels: 50\n",
      "file 02_Funk1-114-Ab_comp_hex_cln.wav\n",
      "total images: 51\n",
      "total labels: 51\n",
      "file 02_Funk1-97-C_comp_hex_cln.wav\n",
      "total images: 60\n",
      "total labels: 60\n",
      "file 02_Funk2-108-Eb_comp_hex_cln.wav\n",
      "total images: 72\n",
      "total labels: 73\n",
      "file 02_Funk2-119-G_comp_hex_cln.wav\n",
      "total images: 65\n",
      "total labels: 65\n",
      "file 02_Funk3-112-C#_comp_hex_cln.wav\n",
      "total images: 69\n",
      "total labels: 69\n",
      "file 02_Funk3-98-A_comp_hex_cln.wav\n",
      "total images: 79\n",
      "total labels: 79\n",
      "file 02_Jazz1-130-D_comp_hex_cln.wav\n",
      "total images: 45\n",
      "total labels: 45\n",
      "file 02_Jazz1-200-B_comp_hex_cln.wav\n",
      "total images: 29\n",
      "total labels: 30\n",
      "file 02_Jazz2-110-Bb_comp_hex_cln.wav\n",
      "total images: 70\n",
      "total labels: 70\n",
      "file 02_Jazz2-187-F#_comp_hex_cln.wav\n",
      "total images: 42\n",
      "total labels: 42\n",
      "file 02_Jazz3-137-Eb_comp_hex_cln.wav\n",
      "total images: 57\n",
      "total labels: 57\n",
      "file 02_Jazz3-150-C_comp_hex_cln.wav\n",
      "total images: 52\n",
      "total labels: 52\n",
      "file 02_Rock1-130-A_comp_hex_cln.wav\n",
      "total images: 45\n",
      "total labels: 45\n",
      "file 02_Rock1-90-C#_comp_hex_cln.wav\n",
      "total images: 64\n",
      "total labels: 64\n",
      "file 02_Rock2-142-D_comp_hex_cln.wav\n",
      "total images: 55\n",
      "total labels: 55\n",
      "file 02_Rock2-85-F_comp_hex_cln.wav\n",
      "total images: 91\n",
      "total labels: 91\n",
      "file 02_Rock3-117-Bb_comp_hex_cln.wav\n",
      "total images: 66\n",
      "total labels: 66\n",
      "file 02_Rock3-148-C_comp_hex_cln.wav\n",
      "total images: 52\n",
      "total labels: 52\n",
      "file 02_SS1-100-C#_comp_hex_cln.wav\n",
      "total images: 58\n",
      "total labels: 59\n",
      "file 02_SS1-68-E_comp_hex_cln.wav\n",
      "total images: 85\n",
      "total labels: 85\n",
      "file 02_SS2-107-Ab_comp_hex_cln.wav\n",
      "total images: 72\n",
      "total labels: 72\n",
      "file 02_SS2-88-F_comp_hex_cln.wav\n",
      "total images: 88\n",
      "total labels: 88\n",
      "file 02_SS3-84-Bb_comp_hex_cln.wav\n",
      "total images: 92\n",
      "total labels: 92\n",
      "file 02_SS3-98-C_comp_hex_cln.wav\n",
      "total images: 79\n",
      "total labels: 79\n",
      "file 03_BN1-129-Eb_comp_hex_cln.wav\n",
      "total images: 45\n",
      "total labels: 45\n",
      "file 03_BN1-147-Gb_comp_hex_cln.wav\n",
      "total images: 40\n",
      "total labels: 40\n",
      "file 03_BN2-131-B_comp_hex_cln.wav\n",
      "total images: 59\n",
      "total labels: 59\n",
      "file 03_BN2-166-Ab_comp_hex_cln.wav\n",
      "total images: 47\n",
      "total labels: 47\n",
      "file 03_BN3-119-G_comp_hex_cln.wav\n",
      "total images: 65\n",
      "total labels: 65\n",
      "file 03_BN3-154-E_comp_hex_cln.wav\n",
      "total images: 50\n",
      "total labels: 50\n",
      "file 03_Funk1-114-Ab_comp_hex_cln.wav\n",
      "total images: 51\n",
      "total labels: 51\n",
      "file 03_Funk1-97-C_comp_hex_cln.wav\n",
      "total images: 60\n",
      "total labels: 60\n",
      "file 03_Funk2-108-Eb_comp_hex_cln.wav\n",
      "total images: 72\n",
      "total labels: 73\n",
      "file 03_Funk2-119-G_comp_hex_cln.wav\n",
      "total images: 65\n",
      "total labels: 65\n",
      "file 03_Funk3-112-C#_comp_hex_cln.wav\n",
      "total images: 69\n",
      "total labels: 69\n",
      "file 03_Funk3-98-A_comp_hex_cln.wav\n",
      "total images: 79\n",
      "total labels: 79\n",
      "file 03_Jazz1-130-D_comp_hex_cln.wav\n",
      "total images: 45\n",
      "total labels: 45\n",
      "file 03_Jazz1-200-B_comp_hex_cln.wav\n",
      "total images: 29\n",
      "total labels: 30\n",
      "file 03_Jazz2-110-Bb_comp_hex_cln.wav\n",
      "total images: 70\n",
      "total labels: 70\n",
      "file 03_Jazz2-187-F#_comp_hex_cln.wav\n",
      "total images: 42\n",
      "total labels: 42\n",
      "file 03_Jazz3-137-Eb_comp_hex_cln.wav\n",
      "total images: 57\n",
      "total labels: 57\n",
      "file 03_Jazz3-150-C_comp_hex_cln.wav\n",
      "total images: 52\n",
      "total labels: 52\n",
      "file 03_Rock1-130-A_comp_hex_cln.wav\n",
      "total images: 45\n",
      "total labels: 45\n",
      "file 03_Rock1-90-C#_comp_hex_cln.wav\n",
      "total images: 64\n",
      "total labels: 64\n",
      "file 03_Rock2-142-D_comp_hex_cln.wav\n",
      "total images: 55\n",
      "total labels: 55\n",
      "file 03_Rock2-85-F_comp_hex_cln.wav\n",
      "total images: 91\n",
      "total labels: 91\n",
      "file 03_Rock3-117-Bb_comp_hex_cln.wav\n",
      "total images: 66\n",
      "total labels: 66\n",
      "file 03_Rock3-148-C_comp_hex_cln.wav\n",
      "total images: 52\n",
      "total labels: 52\n",
      "file 03_SS1-100-C#_comp_hex_cln.wav\n",
      "total images: 58\n",
      "total labels: 59\n",
      "file 03_SS1-68-E_comp_hex_cln.wav\n",
      "total images: 85\n",
      "total labels: 85\n",
      "file 03_SS2-107-Ab_comp_hex_cln.wav\n",
      "total images: 72\n",
      "total labels: 72\n",
      "file 03_SS2-88-F_comp_hex_cln.wav\n",
      "total images: 88\n",
      "total labels: 88\n",
      "file 03_SS3-84-Bb_comp_hex_cln.wav\n",
      "total images: 92\n",
      "total labels: 92\n",
      "file 03_SS3-98-C_comp_hex_cln.wav\n",
      "total images: 79\n",
      "total labels: 79\n",
      "file 04_BN1-129-Eb_comp_hex_cln.wav\n",
      "total images: 45\n",
      "total labels: 45\n",
      "file 04_BN1-147-Gb_comp_hex_cln.wav\n",
      "total images: 40\n",
      "total labels: 40\n",
      "file 04_BN2-131-B_comp_hex_cln.wav\n",
      "total images: 59\n",
      "total labels: 59\n",
      "file 04_BN2-166-Ab_comp_hex_cln.wav\n",
      "total images: 47\n",
      "total labels: 47\n",
      "file 04_BN3-119-G_comp_hex_cln.wav\n",
      "total images: 65\n",
      "total labels: 65\n",
      "file 04_BN3-154-E_comp_hex_cln.wav\n",
      "total images: 50\n",
      "total labels: 50\n",
      "file 04_Funk1-114-Ab_comp_hex_cln.wav\n",
      "total images: 51\n",
      "total labels: 51\n",
      "file 04_Funk1-97-C_comp_hex_cln.wav\n",
      "total images: 60\n",
      "total labels: 60\n",
      "file 04_Funk2-108-Eb_comp_hex_cln.wav\n",
      "total images: 72\n",
      "total labels: 73\n",
      "file 04_Funk2-119-G_comp_hex_cln.wav\n",
      "total images: 65\n",
      "total labels: 65\n",
      "file 04_Funk3-112-C#_comp_hex_cln.wav\n",
      "total images: 69\n",
      "total labels: 69\n",
      "file 04_Funk3-98-A_comp_hex_cln.wav\n",
      "total images: 79\n",
      "total labels: 79\n",
      "file 04_Jazz1-130-D_comp_hex_cln.wav\n",
      "total images: 45\n",
      "total labels: 45\n",
      "file 04_Jazz1-200-B_comp_hex_cln.wav\n",
      "total images: 29\n",
      "total labels: 30\n",
      "file 04_Jazz2-110-Bb_comp_hex_cln.wav\n",
      "total images: 70\n",
      "total labels: 70\n",
      "file 04_Jazz2-187-F#_comp_hex_cln.wav\n",
      "total images: 42\n",
      "total labels: 42\n",
      "file 04_Jazz3-137-Eb_comp_hex_cln.wav\n",
      "total images: 57\n",
      "total labels: 57\n",
      "file 04_Jazz3-150-C_comp_hex_cln.wav\n",
      "total images: 52\n",
      "total labels: 52\n",
      "file 04_Rock1-130-A_comp_hex_cln.wav\n",
      "total images: 45\n",
      "total labels: 45\n",
      "file 04_Rock1-90-C#_comp_hex_cln.wav\n",
      "total images: 64\n",
      "total labels: 64\n",
      "file 04_Rock2-142-D_comp_hex_cln.wav\n",
      "total images: 55\n",
      "total labels: 55\n",
      "file 04_Rock2-85-F_comp_hex_cln.wav\n",
      "total images: 91\n",
      "total labels: 91\n",
      "file 04_Rock3-117-Bb_comp_hex_cln.wav\n",
      "total images: 66\n",
      "total labels: 66\n",
      "file 04_Rock3-148-C_comp_hex_cln.wav\n",
      "total images: 52\n",
      "total labels: 52\n",
      "file 04_SS1-100-C#_comp_hex_cln.wav\n",
      "total images: 58\n",
      "total labels: 59\n",
      "file 04_SS1-68-E_comp_hex_cln.wav\n",
      "total images: 85\n",
      "total labels: 85\n",
      "file 04_SS2-107-Ab_comp_hex_cln.wav\n",
      "total images: 72\n",
      "total labels: 72\n",
      "file 04_SS2-88-F_comp_hex_cln.wav\n",
      "total images: 88\n",
      "total labels: 88\n",
      "file 04_SS3-84-Bb_comp_hex_cln.wav\n",
      "total images: 92\n",
      "total labels: 92\n",
      "file 04_SS3-98-C_comp_hex_cln.wav\n",
      "total images: 79\n",
      "total labels: 79\n",
      "file 05_BN1-129-Eb_comp_hex_cln.wav\n",
      "total images: 45\n",
      "total labels: 45\n",
      "file 05_BN1-147-Gb_comp_hex_cln.wav\n",
      "total images: 40\n",
      "total labels: 40\n",
      "file 05_BN2-131-B_comp_hex_cln.wav\n",
      "total images: 59\n",
      "total labels: 59\n",
      "file 05_BN2-166-Ab_comp_hex_cln.wav\n",
      "total images: 47\n",
      "total labels: 47\n",
      "file 05_BN3-119-G_comp_hex_cln.wav\n",
      "total images: 65\n",
      "total labels: 65\n",
      "file 05_BN3-154-E_comp_hex_cln.wav\n",
      "total images: 50\n",
      "total labels: 50\n",
      "file 05_Funk1-114-Ab_comp_hex_cln.wav\n",
      "total images: 51\n",
      "total labels: 51\n"
     ]
    },
    {
     "name": "stderr",
     "output_type": "stream",
     "text": [
      "/opt/conda/lib/python3.8/site-packages/librosa/core/pitch.py:153: UserWarning: Trying to estimate tuning from empty frequency set.\n",
      "  warnings.warn(\"Trying to estimate tuning from empty frequency set.\")\n"
     ]
    },
    {
     "name": "stdout",
     "output_type": "stream",
     "text": [
      "file 05_Funk1-97-C_comp_hex_cln.wav\n",
      "total images: 60\n",
      "total labels: 60\n",
      "file 05_Funk2-108-Eb_comp_hex_cln.wav\n",
      "total images: 72\n",
      "total labels: 73\n",
      "file 05_Funk2-119-G_comp_hex_cln.wav\n",
      "total images: 65\n",
      "total labels: 65\n",
      "file 05_Funk3-112-C#_comp_hex_cln.wav\n",
      "total images: 69\n",
      "total labels: 69\n",
      "file 05_Funk3-98-A_comp_hex_cln.wav\n",
      "total images: 79\n",
      "total labels: 79\n",
      "file 05_Jazz1-130-D_comp_hex_cln.wav\n",
      "total images: 45\n",
      "total labels: 45\n",
      "file 05_Jazz1-200-B_comp_hex_cln.wav\n",
      "total images: 29\n",
      "total labels: 30\n",
      "file 05_Jazz2-110-Bb_comp_hex_cln.wav\n",
      "total images: 70\n",
      "total labels: 70\n",
      "file 05_Jazz2-187-F#_comp_hex_cln.wav\n",
      "total images: 42\n",
      "total labels: 42\n",
      "file 05_Jazz3-137-Eb_comp_hex_cln.wav\n",
      "total images: 57\n",
      "total labels: 57\n",
      "file 05_Jazz3-150-C_comp_hex_cln.wav\n",
      "total images: 52\n",
      "total labels: 52\n",
      "file 05_Rock1-130-A_comp_hex_cln.wav\n",
      "total images: 45\n",
      "total labels: 45\n",
      "file 05_Rock1-90-C#_comp_hex_cln.wav\n",
      "total images: 64\n",
      "total labels: 64\n",
      "file 05_Rock2-142-D_comp_hex_cln.wav\n",
      "total images: 55\n",
      "total labels: 55\n",
      "file 05_Rock2-85-F_comp_hex_cln.wav\n",
      "total images: 91\n",
      "total labels: 91\n",
      "file 05_Rock3-117-Bb_comp_hex_cln.wav\n",
      "total images: 66\n",
      "total labels: 66\n",
      "file 05_Rock3-148-C_comp_hex_cln.wav\n",
      "total images: 52\n",
      "total labels: 52\n",
      "file 05_SS1-100-C#_comp_hex_cln.wav\n",
      "total images: 58\n",
      "total labels: 59\n",
      "file 05_SS1-68-E_comp_hex_cln.wav\n",
      "total images: 85\n",
      "total labels: 85\n",
      "file 05_SS2-107-Ab_comp_hex_cln.wav\n",
      "total images: 72\n",
      "total labels: 72\n",
      "file 05_SS2-88-F_comp_hex_cln.wav\n",
      "total images: 88\n",
      "total labels: 88\n",
      "file 05_SS3-84-Bb_comp_hex_cln.wav\n",
      "total images: 92\n",
      "total labels: 92\n",
      "file 05_SS3-98-C_comp_hex_cln.wav\n",
      "total images: 79\n",
      "total labels: 79\n"
     ]
    }
   ],
   "source": [
    "# loop through data to extract pictures and labels\n",
    "\n",
    "for file in audio_file_comp:\n",
    "    print(f'file {file}')        \n",
    "    track_path = os.path.join(path_audio, file)\n",
    "    \n",
    "    # load in librosa\n",
    "    data, sr = librosa.load(track_path)\n",
    "    length = len(data)/sr \n",
    "    \n",
    "    # compute list of starts for the audio file\n",
    "    start_list = [0]\n",
    "    k = 0\n",
    "    while k+dur<length:\n",
    "        k += dur\n",
    "        start_list.append(k)\n",
    "    print(f'total images: {len(start_list)}')  \n",
    "    \n",
    "    # get list of labels associated\n",
    "    chord_sequence = []\n",
    "    for start in start_list:\n",
    "        # iterate through starts for the song\n",
    "        data_track = df[df['track_name'] == file[:-12]]\n",
    "        for index, row in data_track.iterrows():\n",
    "            if (start >= float(row['time'])) and (start < (float(row['time']) + float(row['duration']))):\n",
    "                chord_sequence.append(row['chord_instructed'])\n",
    "    \n",
    "    print(f'total labels: {len(chord_sequence)}')\n",
    "    \n",
    "    # create an image for each start of the audio file    \n",
    "    for j in range(len(start_list)):\n",
    "        data, sr = librosa.load(path_audio + file, offset=start_list[j] , duration=dur)\n",
    "        chromagram = librosa.feature.chroma_cens(data, sr=sr)\n",
    "        chromagram_mag = librosa.magphase(chromagram)[0]**4\n",
    "        \n",
    "        # save image\n",
    "        name = file[:-12] + '_' + str(j)\n",
    "        fig = plt.figure(figsize=(2, 2))\n",
    "        librosa.display.specshow(chromagram_mag, sr=sr, cmap='gray')\n",
    "        fig.savefig(path_images + name)\n",
    "        plt.close()\n",
    "        \n",
    "    chord_seq_df.loc[file, 'chord_sequ'] = chord_sequence"
   ]
  },
  {
   "cell_type": "code",
   "execution_count": 143,
   "metadata": {},
   "outputs": [
    {
     "data": {
      "text/html": [
       "<div>\n",
       "<style scoped>\n",
       "    .dataframe tbody tr th:only-of-type {\n",
       "        vertical-align: middle;\n",
       "    }\n",
       "\n",
       "    .dataframe tbody tr th {\n",
       "        vertical-align: top;\n",
       "    }\n",
       "\n",
       "    .dataframe thead th {\n",
       "        text-align: right;\n",
       "    }\n",
       "</style>\n",
       "<table border=\"1\" class=\"dataframe\">\n",
       "  <thead>\n",
       "    <tr style=\"text-align: right;\">\n",
       "      <th></th>\n",
       "      <th>chord_sequ</th>\n",
       "    </tr>\n",
       "    <tr>\n",
       "      <th>track</th>\n",
       "      <th></th>\n",
       "    </tr>\n",
       "  </thead>\n",
       "  <tbody>\n",
       "    <tr>\n",
       "      <th>00_BN1-129-Eb_comp_hex_cln.wav</th>\n",
       "      <td>[D#:maj, D#:maj, D#:maj, D#:maj, D#:maj, D#:ma...</td>\n",
       "    </tr>\n",
       "    <tr>\n",
       "      <th>00_BN1-147-Gb_comp_hex_cln.wav</th>\n",
       "      <td>[F#:maj, F#:maj, F#:maj, F#:maj, F#:maj, F#:ma...</td>\n",
       "    </tr>\n",
       "    <tr>\n",
       "      <th>00_BN2-131-B_comp_hex_cln.wav</th>\n",
       "      <td>[E:min, E:min, E:min, E:min, A:7, A:7, A:7, A:...</td>\n",
       "    </tr>\n",
       "    <tr>\n",
       "      <th>00_BN2-166-Ab_comp_hex_cln.wav</th>\n",
       "      <td>[C#:min, C#:min, C#:min, F#:7, F#:7, F#:7, B:m...</td>\n",
       "    </tr>\n",
       "    <tr>\n",
       "      <th>00_BN3-119-G_comp_hex_cln.wav</th>\n",
       "      <td>[G:maj, G:maj, G:maj, G:maj, G:maj, D:maj, D:m...</td>\n",
       "    </tr>\n",
       "    <tr>\n",
       "      <th>...</th>\n",
       "      <td>...</td>\n",
       "    </tr>\n",
       "    <tr>\n",
       "      <th>05_SS1-68-E_comp_hex_cln.wav</th>\n",
       "      <td>[E:maj, E:maj, E:maj, E:maj, E:maj, E:maj, E:m...</td>\n",
       "    </tr>\n",
       "    <tr>\n",
       "      <th>05_SS2-107-Ab_comp_hex_cln.wav</th>\n",
       "      <td>[C#:min, C#:min, C#:min, C#:min, C#:min, F#:7,...</td>\n",
       "    </tr>\n",
       "    <tr>\n",
       "      <th>05_SS2-88-F_comp_hex_cln.wav</th>\n",
       "      <td>[A#:min, A#:min, A#:min, A#:min, A#:min, A#:mi...</td>\n",
       "    </tr>\n",
       "    <tr>\n",
       "      <th>05_SS3-84-Bb_comp_hex_cln.wav</th>\n",
       "      <td>[A#:maj, A#:maj, A#:maj, A#:maj, A#:maj, A#:ma...</td>\n",
       "    </tr>\n",
       "    <tr>\n",
       "      <th>05_SS3-98-C_comp_hex_cln.wav</th>\n",
       "      <td>[C:maj, C:maj, C:maj, C:maj, C:maj, G:maj, G:m...</td>\n",
       "    </tr>\n",
       "  </tbody>\n",
       "</table>\n",
       "<p>180 rows × 1 columns</p>\n",
       "</div>"
      ],
      "text/plain": [
       "                                                                       chord_sequ\n",
       "track                                                                            \n",
       "00_BN1-129-Eb_comp_hex_cln.wav  [D#:maj, D#:maj, D#:maj, D#:maj, D#:maj, D#:ma...\n",
       "00_BN1-147-Gb_comp_hex_cln.wav  [F#:maj, F#:maj, F#:maj, F#:maj, F#:maj, F#:ma...\n",
       "00_BN2-131-B_comp_hex_cln.wav   [E:min, E:min, E:min, E:min, A:7, A:7, A:7, A:...\n",
       "00_BN2-166-Ab_comp_hex_cln.wav  [C#:min, C#:min, C#:min, F#:7, F#:7, F#:7, B:m...\n",
       "00_BN3-119-G_comp_hex_cln.wav   [G:maj, G:maj, G:maj, G:maj, G:maj, D:maj, D:m...\n",
       "...                                                                           ...\n",
       "05_SS1-68-E_comp_hex_cln.wav    [E:maj, E:maj, E:maj, E:maj, E:maj, E:maj, E:m...\n",
       "05_SS2-107-Ab_comp_hex_cln.wav  [C#:min, C#:min, C#:min, C#:min, C#:min, F#:7,...\n",
       "05_SS2-88-F_comp_hex_cln.wav    [A#:min, A#:min, A#:min, A#:min, A#:min, A#:mi...\n",
       "05_SS3-84-Bb_comp_hex_cln.wav   [A#:maj, A#:maj, A#:maj, A#:maj, A#:maj, A#:ma...\n",
       "05_SS3-98-C_comp_hex_cln.wav    [C:maj, C:maj, C:maj, C:maj, C:maj, G:maj, G:m...\n",
       "\n",
       "[180 rows x 1 columns]"
      ]
     },
     "execution_count": 143,
     "metadata": {},
     "output_type": "execute_result"
    }
   ],
   "source": [
    "chord_seq_df"
   ]
  },
  {
   "cell_type": "code",
   "execution_count": 148,
   "metadata": {},
   "outputs": [],
   "source": [
    "# add length of sequence\n",
    "chord_seq_df['len_sequ'] = chord_seq_df['chord_sequ'].apply(lambda x: len(x))"
   ]
  },
  {
   "cell_type": "code",
   "execution_count": 164,
   "metadata": {},
   "outputs": [
    {
     "data": {
      "text/html": [
       "<div>\n",
       "<style scoped>\n",
       "    .dataframe tbody tr th:only-of-type {\n",
       "        vertical-align: middle;\n",
       "    }\n",
       "\n",
       "    .dataframe tbody tr th {\n",
       "        vertical-align: top;\n",
       "    }\n",
       "\n",
       "    .dataframe thead th {\n",
       "        text-align: right;\n",
       "    }\n",
       "</style>\n",
       "<table border=\"1\" class=\"dataframe\">\n",
       "  <thead>\n",
       "    <tr style=\"text-align: right;\">\n",
       "      <th></th>\n",
       "      <th>chord_sequ</th>\n",
       "      <th>len_sequ</th>\n",
       "    </tr>\n",
       "    <tr>\n",
       "      <th>track</th>\n",
       "      <th></th>\n",
       "      <th></th>\n",
       "    </tr>\n",
       "  </thead>\n",
       "  <tbody>\n",
       "    <tr>\n",
       "      <th>00_BN1-129-Eb_comp_hex_cln.wav</th>\n",
       "      <td>D#:maj, D#:maj, D#:maj, D#:maj, D#:maj, D#:maj...</td>\n",
       "      <td>45</td>\n",
       "    </tr>\n",
       "    <tr>\n",
       "      <th>00_BN1-147-Gb_comp_hex_cln.wav</th>\n",
       "      <td>F#:maj, F#:maj, F#:maj, F#:maj, F#:maj, F#:maj...</td>\n",
       "      <td>40</td>\n",
       "    </tr>\n",
       "    <tr>\n",
       "      <th>00_BN2-131-B_comp_hex_cln.wav</th>\n",
       "      <td>A:7, A:7, D:maj, D:maj, D:maj, G:maj, G:maj, G...</td>\n",
       "      <td>59</td>\n",
       "    </tr>\n",
       "    <tr>\n",
       "      <th>00_BN2-166-Ab_comp_hex_cln.wav</th>\n",
       "      <td>B:maj, B:maj, B:maj, E:maj, E:maj, E:maj, A#:h...</td>\n",
       "      <td>47</td>\n",
       "    </tr>\n",
       "    <tr>\n",
       "      <th>00_BN3-119-G_comp_hex_cln.wav</th>\n",
       "      <td>D:maj, D:maj, D:maj, E:min, E:min, E:min, E:mi...</td>\n",
       "      <td>65</td>\n",
       "    </tr>\n",
       "  </tbody>\n",
       "</table>\n",
       "</div>"
      ],
      "text/plain": [
       "                                                                       chord_sequ  \\\n",
       "track                                                                               \n",
       "00_BN1-129-Eb_comp_hex_cln.wav  D#:maj, D#:maj, D#:maj, D#:maj, D#:maj, D#:maj...   \n",
       "00_BN1-147-Gb_comp_hex_cln.wav  F#:maj, F#:maj, F#:maj, F#:maj, F#:maj, F#:maj...   \n",
       "00_BN2-131-B_comp_hex_cln.wav   A:7, A:7, D:maj, D:maj, D:maj, G:maj, G:maj, G...   \n",
       "00_BN2-166-Ab_comp_hex_cln.wav  B:maj, B:maj, B:maj, E:maj, E:maj, E:maj, A#:h...   \n",
       "00_BN3-119-G_comp_hex_cln.wav   D:maj, D:maj, D:maj, E:min, E:min, E:min, E:mi...   \n",
       "\n",
       "                                len_sequ  \n",
       "track                                     \n",
       "00_BN1-129-Eb_comp_hex_cln.wav        45  \n",
       "00_BN1-147-Gb_comp_hex_cln.wav        40  \n",
       "00_BN2-131-B_comp_hex_cln.wav         59  \n",
       "00_BN2-166-Ab_comp_hex_cln.wav        47  \n",
       "00_BN3-119-G_comp_hex_cln.wav         65  "
      ]
     },
     "execution_count": 164,
     "metadata": {},
     "output_type": "execute_result"
    }
   ],
   "source": [
    "chord_seq_df.head()"
   ]
  },
  {
   "cell_type": "code",
   "execution_count": 158,
   "metadata": {},
   "outputs": [
    {
     "data": {
      "text/plain": [
       "chord_sequ    object\n",
       "len_sequ       int64\n",
       "dtype: object"
      ]
     },
     "execution_count": 158,
     "metadata": {},
     "output_type": "execute_result"
    }
   ],
   "source": [
    "chord_seq_df.dtypes"
   ]
  },
  {
   "cell_type": "code",
   "execution_count": 162,
   "metadata": {},
   "outputs": [],
   "source": [
    "# remove, [, ], ' from the chord_seq as it's stored as a string...\n",
    "chord_seq_df['chord_sequ'] = chord_seq_df['chord_sequ'].apply(lambda x: str(x).replace('[',''))\n",
    "chord_seq_df['chord_sequ'] = chord_seq_df['chord_sequ'].apply(lambda x: str(x).replace(']',''))\n",
    "chord_seq_df['chord_sequ'] = chord_seq_df['chord_sequ'].apply(lambda x: str(x).replace(\"'\",''))"
   ]
  },
  {
   "cell_type": "code",
   "execution_count": 163,
   "metadata": {},
   "outputs": [
    {
     "data": {
      "text/html": [
       "<div>\n",
       "<style scoped>\n",
       "    .dataframe tbody tr th:only-of-type {\n",
       "        vertical-align: middle;\n",
       "    }\n",
       "\n",
       "    .dataframe tbody tr th {\n",
       "        vertical-align: top;\n",
       "    }\n",
       "\n",
       "    .dataframe thead th {\n",
       "        text-align: right;\n",
       "    }\n",
       "</style>\n",
       "<table border=\"1\" class=\"dataframe\">\n",
       "  <thead>\n",
       "    <tr style=\"text-align: right;\">\n",
       "      <th></th>\n",
       "      <th>chord_sequ</th>\n",
       "      <th>len_sequ</th>\n",
       "    </tr>\n",
       "    <tr>\n",
       "      <th>track</th>\n",
       "      <th></th>\n",
       "      <th></th>\n",
       "    </tr>\n",
       "  </thead>\n",
       "  <tbody>\n",
       "    <tr>\n",
       "      <th>00_BN1-129-Eb_comp_hex_cln.wav</th>\n",
       "      <td>D#:maj, D#:maj, D#:maj, D#:maj, D#:maj, D#:maj...</td>\n",
       "      <td>45</td>\n",
       "    </tr>\n",
       "    <tr>\n",
       "      <th>00_BN1-147-Gb_comp_hex_cln.wav</th>\n",
       "      <td>F#:maj, F#:maj, F#:maj, F#:maj, F#:maj, F#:maj...</td>\n",
       "      <td>40</td>\n",
       "    </tr>\n",
       "    <tr>\n",
       "      <th>00_BN2-131-B_comp_hex_cln.wav</th>\n",
       "      <td>A:7, A:7, D:maj, D:maj, D:maj, G:maj, G:maj, G...</td>\n",
       "      <td>59</td>\n",
       "    </tr>\n",
       "    <tr>\n",
       "      <th>00_BN2-166-Ab_comp_hex_cln.wav</th>\n",
       "      <td>B:maj, B:maj, B:maj, E:maj, E:maj, E:maj, A#:h...</td>\n",
       "      <td>47</td>\n",
       "    </tr>\n",
       "    <tr>\n",
       "      <th>00_BN3-119-G_comp_hex_cln.wav</th>\n",
       "      <td>D:maj, D:maj, D:maj, E:min, E:min, E:min, E:mi...</td>\n",
       "      <td>65</td>\n",
       "    </tr>\n",
       "  </tbody>\n",
       "</table>\n",
       "</div>"
      ],
      "text/plain": [
       "                                                                       chord_sequ  \\\n",
       "track                                                                               \n",
       "00_BN1-129-Eb_comp_hex_cln.wav  D#:maj, D#:maj, D#:maj, D#:maj, D#:maj, D#:maj...   \n",
       "00_BN1-147-Gb_comp_hex_cln.wav  F#:maj, F#:maj, F#:maj, F#:maj, F#:maj, F#:maj...   \n",
       "00_BN2-131-B_comp_hex_cln.wav   A:7, A:7, D:maj, D:maj, D:maj, G:maj, G:maj, G...   \n",
       "00_BN2-166-Ab_comp_hex_cln.wav  B:maj, B:maj, B:maj, E:maj, E:maj, E:maj, A#:h...   \n",
       "00_BN3-119-G_comp_hex_cln.wav   D:maj, D:maj, D:maj, E:min, E:min, E:min, E:mi...   \n",
       "\n",
       "                                len_sequ  \n",
       "track                                     \n",
       "00_BN1-129-Eb_comp_hex_cln.wav        45  \n",
       "00_BN1-147-Gb_comp_hex_cln.wav        40  \n",
       "00_BN2-131-B_comp_hex_cln.wav         59  \n",
       "00_BN2-166-Ab_comp_hex_cln.wav        47  \n",
       "00_BN3-119-G_comp_hex_cln.wav         65  "
      ]
     },
     "execution_count": 163,
     "metadata": {},
     "output_type": "execute_result"
    }
   ],
   "source": [
    "chord_seq_df.head()"
   ]
  },
  {
   "cell_type": "code",
   "execution_count": 150,
   "metadata": {},
   "outputs": [
    {
     "name": "stdout",
     "output_type": "stream",
     "text": [
      "30\n",
      "92\n"
     ]
    }
   ],
   "source": [
    "# get the min and max length\n",
    "print(min(chord_seq_df['len_sequ']))\n",
    "print(max(chord_seq_df['len_sequ']))"
   ]
  },
  {
   "cell_type": "code",
   "execution_count": null,
   "metadata": {},
   "outputs": [],
   "source": [
    "# we'll be using only a length of 30 for the model"
   ]
  },
  {
   "cell_type": "code",
   "execution_count": 165,
   "metadata": {},
   "outputs": [],
   "source": [
    "# export dataframe\n",
    "chord_seq_df.to_csv(path_labels + \"chords_seq.csv\")"
   ]
  },
  {
   "cell_type": "code",
   "execution_count": null,
   "metadata": {},
   "outputs": [],
   "source": []
  },
  {
   "cell_type": "code",
   "execution_count": null,
   "metadata": {},
   "outputs": [],
   "source": []
  },
  {
   "cell_type": "code",
   "execution_count": null,
   "metadata": {},
   "outputs": [],
   "source": []
  },
  {
   "cell_type": "code",
   "execution_count": null,
   "metadata": {},
   "outputs": [],
   "source": []
  },
  {
   "cell_type": "code",
   "execution_count": null,
   "metadata": {},
   "outputs": [],
   "source": []
  },
  {
   "cell_type": "code",
   "execution_count": null,
   "metadata": {},
   "outputs": [],
   "source": []
  },
  {
   "cell_type": "code",
   "execution_count": null,
   "metadata": {},
   "outputs": [],
   "source": []
  },
  {
   "cell_type": "code",
   "execution_count": null,
   "metadata": {},
   "outputs": [],
   "source": []
  }
 ],
 "metadata": {
  "kernelspec": {
   "display_name": "Python 3",
   "language": "python",
   "name": "python3"
  },
  "language_info": {
   "codemirror_mode": {
    "name": "ipython",
    "version": 3
   },
   "file_extension": ".py",
   "mimetype": "text/x-python",
   "name": "python",
   "nbconvert_exporter": "python",
   "pygments_lexer": "ipython3",
   "version": "3.8.6"
  }
 },
 "nbformat": 4,
 "nbformat_minor": 4
}
