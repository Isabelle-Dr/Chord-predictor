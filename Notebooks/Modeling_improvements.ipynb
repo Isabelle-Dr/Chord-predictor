{
 "cells": [
  {
   "cell_type": "markdown",
   "metadata": {},
   "source": [
    "# 09-12-2020 Model improvements\n",
    "- try a different model OK\n",
    "- try branching two models (one for maj/min, one for the letter) OK\n",
    "- do something for really under represented classes (discard? data augmentation?) OK\n",
    "- try using the deep chroma processor (madmom) instead of chromagrams\n",
    "- plot confusion matrix and analyse fuckups - data augmentation?"
   ]
  },
  {
   "cell_type": "code",
   "execution_count": 11,
   "metadata": {},
   "outputs": [],
   "source": [
    "# imports\n",
    "import pandas as pd\n",
    "import numpy as np\n",
    "from numpy import load\n",
    "from numpy import asarray\n",
    "from numpy import save\n",
    "from numpy import mean\n",
    "from numpy import std\n",
    "\n",
    "pd.plotting.register_matplotlib_converters()\n",
    "import matplotlib.pyplot as plt\n",
    "from matplotlib.image import imread\n",
    "%matplotlib inline\n",
    "import seaborn as sns\n",
    "sns.set(style='ticks')"
   ]
  },
  {
   "cell_type": "code",
   "execution_count": 12,
   "metadata": {},
   "outputs": [
    {
     "name": "stderr",
     "output_type": "stream",
     "text": [
      "C:\\Users\\derob\\anaconda3\\lib\\site-packages\\requests\\__init__.py:91: RequestsDependencyWarning: urllib3 (1.26.2) or chardet (3.0.4) doesn't match a supported version!\n",
      "  RequestsDependencyWarning)\n",
      "C:\\Users\\derob\\anaconda3\\lib\\site-packages\\tensorboard\\compat\\tensorflow_stub\\dtypes.py:541: FutureWarning: Passing (type, 1) or '1type' as a synonym of type is deprecated; in a future version of numpy, it will be understood as (type, (1,)) / '(1,)type'.\n",
      "  _np_qint8 = np.dtype([(\"qint8\", np.int8, 1)])\n",
      "C:\\Users\\derob\\anaconda3\\lib\\site-packages\\tensorboard\\compat\\tensorflow_stub\\dtypes.py:542: FutureWarning: Passing (type, 1) or '1type' as a synonym of type is deprecated; in a future version of numpy, it will be understood as (type, (1,)) / '(1,)type'.\n",
      "  _np_quint8 = np.dtype([(\"quint8\", np.uint8, 1)])\n",
      "C:\\Users\\derob\\anaconda3\\lib\\site-packages\\tensorboard\\compat\\tensorflow_stub\\dtypes.py:543: FutureWarning: Passing (type, 1) or '1type' as a synonym of type is deprecated; in a future version of numpy, it will be understood as (type, (1,)) / '(1,)type'.\n",
      "  _np_qint16 = np.dtype([(\"qint16\", np.int16, 1)])\n",
      "C:\\Users\\derob\\anaconda3\\lib\\site-packages\\tensorboard\\compat\\tensorflow_stub\\dtypes.py:544: FutureWarning: Passing (type, 1) or '1type' as a synonym of type is deprecated; in a future version of numpy, it will be understood as (type, (1,)) / '(1,)type'.\n",
      "  _np_quint16 = np.dtype([(\"quint16\", np.uint16, 1)])\n",
      "C:\\Users\\derob\\anaconda3\\lib\\site-packages\\tensorboard\\compat\\tensorflow_stub\\dtypes.py:545: FutureWarning: Passing (type, 1) or '1type' as a synonym of type is deprecated; in a future version of numpy, it will be understood as (type, (1,)) / '(1,)type'.\n",
      "  _np_qint32 = np.dtype([(\"qint32\", np.int32, 1)])\n",
      "C:\\Users\\derob\\anaconda3\\lib\\site-packages\\tensorboard\\compat\\tensorflow_stub\\dtypes.py:550: FutureWarning: Passing (type, 1) or '1type' as a synonym of type is deprecated; in a future version of numpy, it will be understood as (type, (1,)) / '(1,)type'.\n",
      "  np_resource = np.dtype([(\"resource\", np.ubyte, 1)])\n"
     ]
    }
   ],
   "source": [
    "from tensorflow.keras import models\n",
    "from tensorflow.keras import layers\n",
    "from tensorflow.keras import optimizers\n",
    "from tensorflow.keras import regularizers\n",
    "\n",
    "from tensorflow.keras.preprocessing.image import load_img\n",
    "from tensorflow.keras.preprocessing.image import img_to_array\n",
    "from sklearn.model_selection import train_test_split\n",
    "from sklearn.preprocessing import LabelEncoder\n",
    "from sklearn.model_selection import KFold\n",
    "from sklearn.metrics import classification_report, confusion_matrix\n",
    "from tensorflow.keras.utils import to_categorical\n",
    "from tensorflow.keras.models import load_model"
   ]
  },
  {
   "cell_type": "markdown",
   "metadata": {},
   "source": [
    "**load and explore data**"
   ]
  },
  {
   "cell_type": "code",
   "execution_count": 14,
   "metadata": {},
   "outputs": [],
   "source": [
    "path_data = 'data_processed/'\n",
    "path_pickles = 'pickles/'\n",
    "path_images = 'images/'"
   ]
  },
  {
   "cell_type": "code",
   "execution_count": 15,
   "metadata": {},
   "outputs": [],
   "source": [
    "data = pd.read_csv(path_data + \"chords_comp_clean.csv\", index_col=0)"
   ]
  },
  {
   "cell_type": "code",
   "execution_count": 16,
   "metadata": {},
   "outputs": [
    {
     "data": {
      "text/html": [
       "<div>\n",
       "<style scoped>\n",
       "    .dataframe tbody tr th:only-of-type {\n",
       "        vertical-align: middle;\n",
       "    }\n",
       "\n",
       "    .dataframe tbody tr th {\n",
       "        vertical-align: top;\n",
       "    }\n",
       "\n",
       "    .dataframe thead th {\n",
       "        text-align: right;\n",
       "    }\n",
       "</style>\n",
       "<table border=\"1\" class=\"dataframe\">\n",
       "  <thead>\n",
       "    <tr style=\"text-align: right;\">\n",
       "      <th></th>\n",
       "      <th>id</th>\n",
       "      <th>track_name</th>\n",
       "      <th>time</th>\n",
       "      <th>duration</th>\n",
       "      <th>chord_instructed</th>\n",
       "      <th>chord_played</th>\n",
       "      <th>to_keep</th>\n",
       "    </tr>\n",
       "  </thead>\n",
       "  <tbody>\n",
       "    <tr>\n",
       "      <th>0</th>\n",
       "      <td>00_BN1-129-Eb_comp_1</td>\n",
       "      <td>00_BN1-129-Eb_comp</td>\n",
       "      <td>7.441860</td>\n",
       "      <td>3.720930</td>\n",
       "      <td>G#:maj</td>\n",
       "      <td>G#:maj6(*5)/1</td>\n",
       "      <td>True</td>\n",
       "    </tr>\n",
       "    <tr>\n",
       "      <th>1</th>\n",
       "      <td>00_BN1-129-Eb_comp_2</td>\n",
       "      <td>00_BN1-129-Eb_comp</td>\n",
       "      <td>11.162791</td>\n",
       "      <td>3.720930</td>\n",
       "      <td>D#:maj</td>\n",
       "      <td>D#:maj7/1</td>\n",
       "      <td>True</td>\n",
       "    </tr>\n",
       "    <tr>\n",
       "      <th>2</th>\n",
       "      <td>00_BN1-129-Eb_comp_3</td>\n",
       "      <td>00_BN1-129-Eb_comp</td>\n",
       "      <td>14.883721</td>\n",
       "      <td>1.860465</td>\n",
       "      <td>A#:maj</td>\n",
       "      <td>A#:maj/1</td>\n",
       "      <td>True</td>\n",
       "    </tr>\n",
       "    <tr>\n",
       "      <th>3</th>\n",
       "      <td>00_BN1-129-Eb_comp_4</td>\n",
       "      <td>00_BN1-129-Eb_comp</td>\n",
       "      <td>16.744186</td>\n",
       "      <td>1.860465</td>\n",
       "      <td>G#:maj</td>\n",
       "      <td>G#:maj6(2,b5,*5)/1</td>\n",
       "      <td>True</td>\n",
       "    </tr>\n",
       "    <tr>\n",
       "      <th>4</th>\n",
       "      <td>00_BN1-129-Eb_comp_5</td>\n",
       "      <td>00_BN1-129-Eb_comp</td>\n",
       "      <td>18.604651</td>\n",
       "      <td>3.719749</td>\n",
       "      <td>D#:maj</td>\n",
       "      <td>D#:maj7/1</td>\n",
       "      <td>True</td>\n",
       "    </tr>\n",
       "  </tbody>\n",
       "</table>\n",
       "</div>"
      ],
      "text/plain": [
       "                     id          track_name       time  duration  \\\n",
       "0  00_BN1-129-Eb_comp_1  00_BN1-129-Eb_comp   7.441860  3.720930   \n",
       "1  00_BN1-129-Eb_comp_2  00_BN1-129-Eb_comp  11.162791  3.720930   \n",
       "2  00_BN1-129-Eb_comp_3  00_BN1-129-Eb_comp  14.883721  1.860465   \n",
       "3  00_BN1-129-Eb_comp_4  00_BN1-129-Eb_comp  16.744186  1.860465   \n",
       "4  00_BN1-129-Eb_comp_5  00_BN1-129-Eb_comp  18.604651  3.719749   \n",
       "\n",
       "  chord_instructed        chord_played  to_keep  \n",
       "0           G#:maj       G#:maj6(*5)/1     True  \n",
       "1           D#:maj           D#:maj7/1     True  \n",
       "2           A#:maj            A#:maj/1     True  \n",
       "3           G#:maj  G#:maj6(2,b5,*5)/1     True  \n",
       "4           D#:maj           D#:maj7/1     True  "
      ]
     },
     "execution_count": 16,
     "metadata": {},
     "output_type": "execute_result"
    }
   ],
   "source": [
    "data.head()"
   ]
  },
  {
   "cell_type": "code",
   "execution_count": 17,
   "metadata": {},
   "outputs": [
    {
     "data": {
      "text/plain": [
       "F:maj       122\n",
       "C:maj        98\n",
       "G:maj        94\n",
       "D#:maj       90\n",
       "C#:maj       79\n",
       "G#:maj       75\n",
       "A#:maj       74\n",
       "F#:maj       73\n",
       "E:maj        70\n",
       "D:maj        69\n",
       "A:maj        67\n",
       "B:maj        62\n",
       "E:min        51\n",
       "G:min        47\n",
       "C#:min       42\n",
       "A#:min       38\n",
       "G#:min       37\n",
       "B:min        33\n",
       "A:min        33\n",
       "D:min        30\n",
       "F:min        28\n",
       "D#:7         25\n",
       "C:min        20\n",
       "F#:min       19\n",
       "D#:min       18\n",
       "F#:7         18\n",
       "C:7          17\n",
       "A:7          16\n",
       "G:hdim7      14\n",
       "A#:hdim7     14\n",
       "F:7          12\n",
       "C#:7         11\n",
       "G#:hdim7      8\n",
       "A#:7          8\n",
       "F:hdim7       8\n",
       "C:hdim7       7\n",
       "E:7           6\n",
       "G#:7          6\n",
       "C#:hdim7      6\n",
       "E:hdim7       6\n",
       "D:7           4\n",
       "A:hdim7       4\n",
       "Name: chord_instructed, dtype: int64"
      ]
     },
     "execution_count": 17,
     "metadata": {},
     "output_type": "execute_result"
    }
   ],
   "source": [
    "data.chord_instructed.value_counts()"
   ]
  },
  {
   "cell_type": "markdown",
   "metadata": {},
   "source": [
    "**Remove really under representated classes (hdim and 7)**"
   ]
  },
  {
   "cell_type": "code",
   "execution_count": 18,
   "metadata": {},
   "outputs": [],
   "source": [
    "# discard all seventh\n",
    "for i, row in data.iterrows():\n",
    "    if '7' in str(row.chord_instructed):\n",
    "        data.loc[i, 'to_keep'] = False"
   ]
  },
  {
   "cell_type": "code",
   "execution_count": 19,
   "metadata": {},
   "outputs": [
    {
     "data": {
      "text/html": [
       "<div>\n",
       "<style scoped>\n",
       "    .dataframe tbody tr th:only-of-type {\n",
       "        vertical-align: middle;\n",
       "    }\n",
       "\n",
       "    .dataframe tbody tr th {\n",
       "        vertical-align: top;\n",
       "    }\n",
       "\n",
       "    .dataframe thead th {\n",
       "        text-align: right;\n",
       "    }\n",
       "</style>\n",
       "<table border=\"1\" class=\"dataframe\">\n",
       "  <thead>\n",
       "    <tr style=\"text-align: right;\">\n",
       "      <th></th>\n",
       "      <th>id</th>\n",
       "      <th>track_name</th>\n",
       "      <th>time</th>\n",
       "      <th>duration</th>\n",
       "      <th>chord_instructed</th>\n",
       "      <th>chord_played</th>\n",
       "      <th>to_keep</th>\n",
       "    </tr>\n",
       "  </thead>\n",
       "  <tbody>\n",
       "    <tr>\n",
       "      <th>0</th>\n",
       "      <td>00_BN1-129-Eb_comp_1</td>\n",
       "      <td>00_BN1-129-Eb_comp</td>\n",
       "      <td>7.441860</td>\n",
       "      <td>3.720930</td>\n",
       "      <td>G#:maj</td>\n",
       "      <td>G#:maj6(*5)/1</td>\n",
       "      <td>True</td>\n",
       "    </tr>\n",
       "    <tr>\n",
       "      <th>1</th>\n",
       "      <td>00_BN1-129-Eb_comp_2</td>\n",
       "      <td>00_BN1-129-Eb_comp</td>\n",
       "      <td>11.162791</td>\n",
       "      <td>3.720930</td>\n",
       "      <td>D#:maj</td>\n",
       "      <td>D#:maj7/1</td>\n",
       "      <td>True</td>\n",
       "    </tr>\n",
       "    <tr>\n",
       "      <th>2</th>\n",
       "      <td>00_BN1-129-Eb_comp_3</td>\n",
       "      <td>00_BN1-129-Eb_comp</td>\n",
       "      <td>14.883721</td>\n",
       "      <td>1.860465</td>\n",
       "      <td>A#:maj</td>\n",
       "      <td>A#:maj/1</td>\n",
       "      <td>True</td>\n",
       "    </tr>\n",
       "    <tr>\n",
       "      <th>3</th>\n",
       "      <td>00_BN1-129-Eb_comp_4</td>\n",
       "      <td>00_BN1-129-Eb_comp</td>\n",
       "      <td>16.744186</td>\n",
       "      <td>1.860465</td>\n",
       "      <td>G#:maj</td>\n",
       "      <td>G#:maj6(2,b5,*5)/1</td>\n",
       "      <td>True</td>\n",
       "    </tr>\n",
       "    <tr>\n",
       "      <th>4</th>\n",
       "      <td>00_BN1-129-Eb_comp_5</td>\n",
       "      <td>00_BN1-129-Eb_comp</td>\n",
       "      <td>18.604651</td>\n",
       "      <td>3.719749</td>\n",
       "      <td>D#:maj</td>\n",
       "      <td>D#:maj7/1</td>\n",
       "      <td>True</td>\n",
       "    </tr>\n",
       "  </tbody>\n",
       "</table>\n",
       "</div>"
      ],
      "text/plain": [
       "                     id          track_name       time  duration  \\\n",
       "0  00_BN1-129-Eb_comp_1  00_BN1-129-Eb_comp   7.441860  3.720930   \n",
       "1  00_BN1-129-Eb_comp_2  00_BN1-129-Eb_comp  11.162791  3.720930   \n",
       "2  00_BN1-129-Eb_comp_3  00_BN1-129-Eb_comp  14.883721  1.860465   \n",
       "3  00_BN1-129-Eb_comp_4  00_BN1-129-Eb_comp  16.744186  1.860465   \n",
       "4  00_BN1-129-Eb_comp_5  00_BN1-129-Eb_comp  18.604651  3.719749   \n",
       "\n",
       "  chord_instructed        chord_played  to_keep  \n",
       "0           G#:maj       G#:maj6(*5)/1     True  \n",
       "1           D#:maj           D#:maj7/1     True  \n",
       "2           A#:maj            A#:maj/1     True  \n",
       "3           G#:maj  G#:maj6(2,b5,*5)/1     True  \n",
       "4           D#:maj           D#:maj7/1     True  "
      ]
     },
     "execution_count": 19,
     "metadata": {},
     "output_type": "execute_result"
    }
   ],
   "source": [
    "data.head()"
   ]
  },
  {
   "cell_type": "code",
   "execution_count": 20,
   "metadata": {},
   "outputs": [
    {
     "data": {
      "text/plain": [
       "F:maj     122\n",
       "C:maj      98\n",
       "G:maj      94\n",
       "D#:maj     90\n",
       "C#:maj     79\n",
       "G#:maj     75\n",
       "A#:maj     74\n",
       "F#:maj     73\n",
       "E:maj      70\n",
       "D:maj      69\n",
       "A:maj      67\n",
       "B:maj      62\n",
       "E:min      51\n",
       "G:min      47\n",
       "C#:min     42\n",
       "A#:min     38\n",
       "G#:min     37\n",
       "B:min      33\n",
       "A:min      33\n",
       "D:min      30\n",
       "F:min      28\n",
       "C:min      20\n",
       "F#:min     19\n",
       "D#:min     18\n",
       "Name: chord_instructed, dtype: int64"
      ]
     },
     "execution_count": 20,
     "metadata": {},
     "output_type": "execute_result"
    }
   ],
   "source": [
    "data_clean = data[data.to_keep == True]\n",
    "data_clean.chord_instructed.value_counts()"
   ]
  },
  {
   "cell_type": "markdown",
   "metadata": {},
   "source": [
    "**Prep data for modeling**"
   ]
  },
  {
   "cell_type": "code",
   "execution_count": 21,
   "metadata": {},
   "outputs": [
    {
     "name": "stderr",
     "output_type": "stream",
     "text": [
      "C:\\Users\\derob\\anaconda3\\lib\\site-packages\\ipykernel_launcher.py:3: SettingWithCopyWarning: \n",
      "A value is trying to be set on a copy of a slice from a DataFrame.\n",
      "Try using .loc[row_indexer,col_indexer] = value instead\n",
      "\n",
      "See the caveats in the documentation: https://pandas.pydata.org/pandas-docs/stable/user_guide/indexing.html#returning-a-view-versus-a-copy\n",
      "  This is separate from the ipykernel package so we can avoid doing imports until\n"
     ]
    }
   ],
   "source": [
    "# create labels column and encode\n",
    "le = LabelEncoder()\n",
    "data_clean['labels'] = le.fit_transform(data_clean['chord_instructed'])"
   ]
  },
  {
   "cell_type": "code",
   "execution_count": 59,
   "metadata": {},
   "outputs": [
    {
     "data": {
      "text/plain": [
       "24"
      ]
     },
     "execution_count": 59,
     "metadata": {},
     "output_type": "execute_result"
    }
   ],
   "source": [
    "len(data_clean['labels'].unique())"
   ]
  },
  {
   "cell_type": "code",
   "execution_count": 61,
   "metadata": {},
   "outputs": [],
   "source": [
    "# save label encoder\n",
    "import pickle\n",
    "filename = 'labelencoder_24classes.sav'\n",
    "pickle.dump(le, open(path_pickles + filename, 'wb'))"
   ]
  },
  {
   "cell_type": "code",
   "execution_count": 64,
   "metadata": {},
   "outputs": [],
   "source": [
    "# convert images\n",
    "photos = list()\n",
    "for name in data_clean.id.values:\n",
    "    # load image\n",
    "    photo = load_img(path_images + name + '.png', color_mode = \"grayscale\", target_size=(64,64))\n",
    "     # convert to np array\n",
    "    photo = img_to_array(photo)\n",
    "    #store\n",
    "    photos.append(photo)\n",
    "labels = list(data_clean['labels'].values)"
   ]
  },
  {
   "cell_type": "code",
   "execution_count": 65,
   "metadata": {},
   "outputs": [
    {
     "data": {
      "text/plain": [
       "(1369, 64, 64, 1)"
      ]
     },
     "execution_count": 65,
     "metadata": {},
     "output_type": "execute_result"
    }
   ],
   "source": [
    "# convert photos to np arrays\n",
    "photos = asarray(photos)\n",
    "photos.shape"
   ]
  },
  {
   "cell_type": "code",
   "execution_count": 66,
   "metadata": {},
   "outputs": [
    {
     "data": {
      "text/plain": [
       "(1369,)"
      ]
     },
     "execution_count": 66,
     "metadata": {},
     "output_type": "execute_result"
    }
   ],
   "source": [
    "# convert labels to np arrays\n",
    "labels = asarray(labels)\n",
    "labels.shape"
   ]
  },
  {
   "cell_type": "code",
   "execution_count": 67,
   "metadata": {},
   "outputs": [],
   "source": [
    "# save arrays\n",
    "save(path_data + 'photos_24classes.npy', photos)\n",
    "save(path_data + 'labels_24classes.npy', labels)"
   ]
  },
  {
   "cell_type": "markdown",
   "metadata": {},
   "source": [
    "# Try modeling with best model I have so far\n",
    "Changes I've made:\\\n",
    "- batch size when training model on all params: 24 (was 32)\n",
    "- epoch when training model on all params: 50 (was 20)\n",
    "better performance, mean 82% (compared to 79 previously with the 7 and hdim chords)"
   ]
  },
  {
   "cell_type": "code",
   "execution_count": 97,
   "metadata": {},
   "outputs": [],
   "source": [
    "# validation split from 10% to 15%\n",
    "def load_dataset():\n",
    "    # load arrays\n",
    "    photos = load(path_data + 'photos_24classes.npy')\n",
    "    labels = load(path_data + 'labels_24classes.npy')\n",
    "    \n",
    "    # split between train/test and reshape\n",
    "    X_train, X_test, y_train, y_test = train_test_split(photos, labels, test_size=0.15, shuffle=False)\n",
    "    y_train = np.reshape(y_train, (X_train.shape[0],))\n",
    "    y_test = np.reshape(y_test, (X_test.shape[0],))\n",
    "    \n",
    "    # hot encode target variables\n",
    "    y_train = to_categorical(y_train)\n",
    "    y_test = to_categorical(y_test)\n",
    "    return X_train, X_test, y_train, y_test\n",
    "\n",
    "# no change\n",
    "def prep_pixels(train, test):\n",
    "    # convert from integers to float\n",
    "    train_norm = train.astype('float32')\n",
    "    test_norm = test.astype('float32')\n",
    "    # normalize to range 0-1\n",
    "    train_norm = train_norm/255.0\n",
    "    test_norm = test_norm/255.0\n",
    "    # return normalized images\n",
    "    return train_norm, test_norm\n",
    "\n",
    "# define model  with 20 neurons at last layer\n",
    "def define_model():\n",
    "    model = models.Sequential()\n",
    "    model.add(layers.Conv2D(32, (3,3), activation='relu',  padding='same', kernel_initializer='he_uniform', input_shape=(64, 64, 1))) #conv layer\n",
    "    model.add(layers.MaxPooling2D((2,2))) #pooling layer\n",
    "    model.add(layers.Conv2D(64, (3,3), activation='relu',  padding='same', kernel_initializer='he_uniform'))\n",
    "    model.add(layers.MaxPooling2D((2,2))) #pooling layer\n",
    "    model.add(layers.Conv2D(64, (3,3), activation='relu',  padding='same', kernel_initializer='he_uniform'))              \n",
    "    model.add(layers.Flatten()) # 16384 vector\n",
    "    model.add(layers.Dense(100, activation='relu', kernel_initializer='he_uniform')) # 1 hidden layer\n",
    "    model.add(layers.Dense(24, activation='softmax')) # output, size 42 = nuber of classes\n",
    "    # compile model\n",
    "    opt = optimizers.SGD(lr=0.01, momentum=0.9) # gradient descent with momentum optimizer\n",
    "    model.compile(optimizer=opt, loss='categorical_crossentropy', metrics=['accuracy'])\n",
    "    return model\n",
    "\n",
    "# 15 epochs to evaluate\n",
    "def evaluate_model(dataX, dataY, n_folds=5):\n",
    "    scores, histories = list(), list() # initializing to keep track\n",
    "    # prep cross validation\n",
    "    kfold = KFold(n_folds, shuffle=True, random_state=1)\n",
    "    # enumerate splits\n",
    "    for train_ix, test_ix in kfold.split(dataX):\n",
    "        # define model\n",
    "        model = define_model()\n",
    "        # select rows to train/test\n",
    "        trainX, trainY, testX, testY = dataX[train_ix], dataY[train_ix], dataX[test_ix], dataY[test_ix]\n",
    "        # fit the model\n",
    "        history = model.fit(trainX, trainY, epochs=10, batch_size=32, validation_data=(testX, testY), verbose=0)\n",
    "        # evaluate model\n",
    "        _, acc = model.evaluate(testX, testY, verbose=0) # returns loss value and eval metric, we're only interested in that second one\n",
    "        print('> %.3f' % (acc * 100.0))\n",
    "        # append scores\n",
    "        scores.append(acc)\n",
    "        histories.append(history)\n",
    "    return scores, histories\n",
    "\n",
    "# no change\n",
    "def summarize_diagnostics(histories):\n",
    "    for i in range(len(histories)):\n",
    "        # plot loss\n",
    "        plt.subplot(211)\n",
    "        plt.title('Cross Entropy Loss')\n",
    "        plt.plot(histories[i].history['loss'], color='blue', label='train')\n",
    "        plt.plot(histories[i].history['val_loss'], color='orange', label='test')\n",
    "        # plot accuracy\n",
    "        plt.subplot(212)\n",
    "        plt.title('Classification Accuracy')\n",
    "        plt.plot(histories[i].history['accuracy'], color='blue', label='train')\n",
    "        plt.plot(histories[i].history['val_accuracy'], color='orange', label='test')\n",
    "    plt.show()\n",
    "\n",
    "# no change\n",
    "def summarize_performance(scores):\n",
    "    # print summary\n",
    "    print('Accuracy: mean=%.3f std=%.3f, n=%d' % (mean(scores)*100, std(scores)*100, len(scores)))\n",
    "    # box and whisker plots of results\n",
    "    plt.boxplot(scores)\n",
    "    plt.show()\n",
    "    \n",
    "# no change\n",
    "def run_test_harness():\n",
    "    # load dataset\n",
    "    X_train, X_test, y_train, y_test = load_dataset()\n",
    "    # prepare pixel data\n",
    "    X_train, X_test = prep_pixels(X_train, X_test)\n",
    "    # evaluate model\n",
    "    scores, histories = evaluate_model(X_train, y_train)\n",
    "    # learning curves\n",
    "    summarize_diagnostics(histories)\n",
    "    # summarize estimated performance\n",
    "    summarize_performance(scores)"
   ]
  },
  {
   "cell_type": "code",
   "execution_count": 69,
   "metadata": {},
   "outputs": [
    {
     "name": "stdout",
     "output_type": "stream",
     "text": [
      "> 84.120\n",
      "> 84.979\n",
      "> 83.691\n",
      "> 76.724\n",
      "> 81.466\n"
     ]
    },
    {
     "name": "stderr",
     "output_type": "stream",
     "text": [
      "C:\\Users\\derob\\anaconda3\\lib\\site-packages\\ipykernel_launcher.py:69: MatplotlibDeprecationWarning: Adding an axes using the same arguments as a previous axes currently reuses the earlier instance.  In a future version, a new instance will always be created and returned.  Meanwhile, this warning can be suppressed, and the future behavior ensured, by passing a unique label to each axes instance.\n",
      "C:\\Users\\derob\\anaconda3\\lib\\site-packages\\ipykernel_launcher.py:74: MatplotlibDeprecationWarning: Adding an axes using the same arguments as a previous axes currently reuses the earlier instance.  In a future version, a new instance will always be created and returned.  Meanwhile, this warning can be suppressed, and the future behavior ensured, by passing a unique label to each axes instance.\n"
     ]
    },
    {
     "data": {
      "image/png": "[encoded data removed]",
      "text/plain": [
       "<Figure size 432x288 with 2 Axes>"
      ]
     },
     "metadata": {},
     "output_type": "display_data"
    },
    {
     "name": "stdout",
     "output_type": "stream",
     "text": [
      "Accuracy: mean=82.196 std=2.972, n=5\n"
     ]
    },
    {
     "data": {
      "image/png": "[encoded data removed]",
      "text/plain": [
       "<Figure size 432x288 with 1 Axes>"
      ]
     },
     "metadata": {},
     "output_type": "display_data"
    }
   ],
   "source": [
    "run_test_harness()"
   ]
  },
  {
   "cell_type": "code",
   "execution_count": 99,
   "metadata": {
    "collapsed": true,
    "jupyter": {
     "outputs_hidden": true
    }
   },
   "outputs": [
    {
     "name": "stdout",
     "output_type": "stream",
     "text": [
      "Epoch 1/50\n",
      "49/49 [==============================] - 4s 85ms/step - loss: 2.7412 - accuracy: 0.2709\n",
      "Epoch 2/50\n",
      "49/49 [==============================] - 4s 82ms/step - loss: 1.2216 - accuracy: 0.6518\n",
      "Epoch 3/50\n",
      "49/49 [==============================] - 4s 79ms/step - loss: 0.8059 - accuracy: 0.7481\n",
      "Epoch 4/50\n",
      "49/49 [==============================] - 4s 85ms/step - loss: 0.5732 - accuracy: 0.8134\n",
      "Epoch 5/50\n",
      "49/49 [==============================] - 4s 91ms/step - loss: 0.4890 - accuracy: 0.8340\n",
      "Epoch 6/50\n",
      "49/49 [==============================] - 4s 91ms/step - loss: 0.3965 - accuracy: 0.8573\n",
      "Epoch 7/50\n",
      "49/49 [==============================] - 5s 93ms/step - loss: 0.3773 - accuracy: 0.8796\n",
      "Epoch 8/50\n",
      "49/49 [==============================] - 5s 96ms/step - loss: 0.2661 - accuracy: 0.9106\n",
      "Epoch 9/50\n",
      "49/49 [==============================] - 5s 102ms/step - loss: 0.2693 - accuracy: 0.9106\n",
      "Epoch 10/50\n",
      "49/49 [==============================] - 5s 99ms/step - loss: 0.2577 - accuracy: 0.9157\n",
      "Epoch 11/50\n",
      "49/49 [==============================] - 5s 100ms/step - loss: 0.2558 - accuracy: 0.9157\n",
      "Epoch 12/50\n",
      "49/49 [==============================] - 5s 95ms/step - loss: 0.1688 - accuracy: 0.9355\n",
      "Epoch 13/50\n",
      "49/49 [==============================] - 5s 93ms/step - loss: 0.1749 - accuracy: 0.9381\n",
      "Epoch 14/50\n",
      "49/49 [==============================] - 5s 92ms/step - loss: 0.1099 - accuracy: 0.9656\n",
      "Epoch 15/50\n",
      "49/49 [==============================] - 5s 97ms/step - loss: 0.1098 - accuracy: 0.9604\n",
      "Epoch 16/50\n",
      "49/49 [==============================] - 5s 101ms/step - loss: 0.1461 - accuracy: 0.9424\n",
      "Epoch 17/50\n",
      "49/49 [==============================] - 5s 100ms/step - loss: 0.1359 - accuracy: 0.9561\n",
      "Epoch 18/50\n",
      "49/49 [==============================] - 5s 100ms/step - loss: 0.0770 - accuracy: 0.9759\n",
      "Epoch 19/50\n",
      "49/49 [==============================] - 5s 97ms/step - loss: 0.0569 - accuracy: 0.9759\n",
      "Epoch 20/50\n",
      "49/49 [==============================] - 5s 100ms/step - loss: 0.0807 - accuracy: 0.9768\n",
      "Epoch 21/50\n",
      "49/49 [==============================] - 5s 100ms/step - loss: 0.0652 - accuracy: 0.9819\n",
      "Epoch 22/50\n",
      "49/49 [==============================] - 5s 101ms/step - loss: 0.0501 - accuracy: 0.9828\n",
      "Epoch 23/50\n",
      "49/49 [==============================] - 5s 99ms/step - loss: 0.0501 - accuracy: 0.9776\n",
      "Epoch 24/50\n",
      "49/49 [==============================] - 5s 99ms/step - loss: 0.0430 - accuracy: 0.9880\n",
      "Epoch 25/50\n",
      "49/49 [==============================] - 5s 100ms/step - loss: 0.0337 - accuracy: 0.9897\n",
      "Epoch 26/50\n",
      "49/49 [==============================] - 5s 102ms/step - loss: 0.0127 - accuracy: 0.9957\n",
      "Epoch 27/50\n",
      "49/49 [==============================] - 5s 101ms/step - loss: 0.0084 - accuracy: 0.9974\n",
      "Epoch 28/50\n",
      "49/49 [==============================] - 5s 98ms/step - loss: 0.0029 - accuracy: 1.0000\n",
      "Epoch 29/50\n",
      "49/49 [==============================] - 5s 101ms/step - loss: 0.0022 - accuracy: 1.0000\n",
      "Epoch 30/50\n",
      "49/49 [==============================] - 5s 107ms/step - loss: 0.0046 - accuracy: 0.9983\n",
      "Epoch 31/50\n",
      "49/49 [==============================] - 5s 102ms/step - loss: 0.0084 - accuracy: 0.9983\n",
      "Epoch 32/50\n",
      "49/49 [==============================] - 5s 105ms/step - loss: 0.0110 - accuracy: 0.9974\n",
      "Epoch 33/50\n",
      "49/49 [==============================] - 5s 99ms/step - loss: 0.0115 - accuracy: 0.9966\n",
      "Epoch 34/50\n",
      "49/49 [==============================] - 5s 104ms/step - loss: 0.0013 - accuracy: 1.0000\n",
      "Epoch 35/50\n",
      "49/49 [==============================] - 5s 105ms/step - loss: 8.5526e-04 - accuracy: 1.0000\n",
      "Epoch 36/50\n",
      "49/49 [==============================] - 6s 121ms/step - loss: 7.2514e-04 - accuracy: 1.0000\n",
      "Epoch 37/50\n",
      "49/49 [==============================] - 6s 119ms/step - loss: 6.0793e-04 - accuracy: 1.0000\n",
      "Epoch 38/50\n",
      "49/49 [==============================] - 6s 116ms/step - loss: 6.3910e-04 - accuracy: 1.0000\n",
      "Epoch 39/50\n",
      "49/49 [==============================] - 6s 118ms/step - loss: 0.0015 - accuracy: 1.0000\n",
      "Epoch 40/50\n",
      "49/49 [==============================] - 6s 116ms/step - loss: 5.1403e-04 - accuracy: 1.0000\n",
      "Epoch 41/50\n",
      "49/49 [==============================] - 6s 115ms/step - loss: 3.4850e-04 - accuracy: 1.0000\n",
      "Epoch 42/50\n",
      "49/49 [==============================] - 6s 121ms/step - loss: 3.0524e-04 - accuracy: 1.0000\n",
      "Epoch 43/50\n",
      "49/49 [==============================] - 5s 104ms/step - loss: 2.8273e-04 - accuracy: 1.0000\n",
      "Epoch 44/50\n",
      "49/49 [==============================] - 5s 105ms/step - loss: 2.7142e-04 - accuracy: 1.0000\n",
      "Epoch 45/50\n",
      "49/49 [==============================] - 5s 104ms/step - loss: 2.5426e-04 - accuracy: 1.0000\n",
      "Epoch 46/50\n",
      "49/49 [==============================] - 5s 102ms/step - loss: 2.4389e-04 - accuracy: 1.0000\n",
      "Epoch 47/50\n",
      "49/49 [==============================] - 5s 104ms/step - loss: 2.3203e-04 - accuracy: 1.0000\n",
      "Epoch 48/50\n",
      "49/49 [==============================] - 5s 104ms/step - loss: 2.2193e-04 - accuracy: 1.0000\n",
      "Epoch 49/50\n",
      "49/49 [==============================] - 5s 104ms/step - loss: 2.1272e-04 - accuracy: 1.0000\n",
      "Epoch 50/50\n",
      "49/49 [==============================] - 5s 104ms/step - loss: 2.0281e-04 - accuracy: 1.0000\n"
     ]
    },
    {
     "data": {
      "text/plain": [
       "<tensorflow.python.keras.callbacks.History at 0x168442d3248>"
      ]
     },
     "execution_count": 99,
     "metadata": {},
     "output_type": "execute_result"
    }
   ],
   "source": [
    "# fit model on whole data available - 20 epoch\n",
    "# load dataset\n",
    "X_train, X_test, y_train, y_test = load_dataset()\n",
    "# prepare pixel data\n",
    "X_train, X_test = prep_pixels(X_train, X_test)\n",
    "model = define_model()\n",
    "model.fit(X_train, y_train, epochs=50, batch_size=24)"
   ]
  },
  {
   "cell_type": "code",
   "execution_count": 100,
   "metadata": {},
   "outputs": [
    {
     "name": "stdout",
     "output_type": "stream",
     "text": [
      "> 73.301\n"
     ]
    }
   ],
   "source": [
    "_, acc = model.evaluate(X_test, y_test, verbose=0)\n",
    "print('> %.3f' % (acc * 100.0))"
   ]
  },
  {
   "cell_type": "markdown",
   "metadata": {},
   "source": [
    "**30 epochs are enough**"
   ]
  },
  {
   "cell_type": "code",
   "execution_count": 111,
   "metadata": {},
   "outputs": [],
   "source": [
    "# save mode5\n",
    "model.save(path_pickles + 'final_model_24classes.h5')"
   ]
  },
  {
   "cell_type": "markdown",
   "metadata": {},
   "source": [
    "# Try a model architecture inspired from Korzeniowski paper\n",
    "Gave me something similar - didn't learn anything on one fold. keeping the model above"
   ]
  },
  {
   "cell_type": "code",
   "execution_count": 74,
   "metadata": {},
   "outputs": [],
   "source": [
    "# define model  - new\n",
    "def define_model():\n",
    "    model = models.Sequential()\n",
    "    model.add(layers.Conv2D(32, (3,3), activation='relu',  padding='same', kernel_initializer='he_uniform', input_shape=(64, 64, 1))) #conv layer\n",
    "    model.add(layers.Conv2D(32, (3,3), activation='relu',  padding='same', kernel_initializer='he_uniform'))\n",
    "    model.add(layers.Conv2D(32, (3,3), activation='relu',  padding='same', kernel_initializer='he_uniform'))\n",
    "    model.add(layers.Conv2D(32, (3,3), activation='relu',  padding='same', kernel_initializer='he_uniform'))              \n",
    "    model.add(layers.MaxPooling2D((2,2))) #pooling layer\n",
    "    model.add(layers.Conv2D(64, (3,3), activation='relu',  padding='same', kernel_initializer='he_uniform'))\n",
    "    model.add(layers.Conv2D(64, (3,3), activation='relu',  padding='same', kernel_initializer='he_uniform'))              \n",
    "    model.add(layers.MaxPooling2D((2,2))) #pooling layer\n",
    "    model.add(layers.Conv2D(128, (3,3), activation='relu',  padding='same', kernel_initializer='he_uniform'))            \n",
    "    model.add(layers.MaxPooling2D((2,2))) #pooling layer\n",
    "    model.add(layers.Flatten())\n",
    "    model.add(layers.Dense(100, activation='relu', kernel_initializer='he_uniform')) # 1 hidden layer\n",
    "    model.add(layers.Dense(24, activation='softmax')) # output, size 42 = nuber of classes\n",
    "    # compile model\n",
    "    opt = optimizers.SGD(lr=0.01, momentum=0.9) # gradient descent with momentum optimizer\n",
    "    model.compile(optimizer=opt, loss='categorical_crossentropy', metrics=['accuracy'])\n",
    "    return model"
   ]
  },
  {
   "cell_type": "code",
   "execution_count": 75,
   "metadata": {
    "collapsed": true,
    "jupyter": {
     "outputs_hidden": true
    }
   },
   "outputs": [
    {
     "name": "stdout",
     "output_type": "stream",
     "text": [
      "Model: \"sequential_13\"\n",
      "_________________________________________________________________\n",
      "Layer (type)                 Output Shape              Param #   \n",
      "=================================================================\n",
      "conv2d_63 (Conv2D)           (None, 64, 64, 32)        320       \n",
      "_________________________________________________________________\n",
      "conv2d_64 (Conv2D)           (None, 64, 64, 32)        9248      \n",
      "_________________________________________________________________\n",
      "conv2d_65 (Conv2D)           (None, 64, 64, 32)        9248      \n",
      "_________________________________________________________________\n",
      "conv2d_66 (Conv2D)           (None, 64, 64, 32)        9248      \n",
      "_________________________________________________________________\n",
      "max_pooling2d_26 (MaxPooling (None, 32, 32, 32)        0         \n",
      "_________________________________________________________________\n",
      "conv2d_67 (Conv2D)           (None, 32, 32, 64)        18496     \n",
      "_________________________________________________________________\n",
      "conv2d_68 (Conv2D)           (None, 32, 32, 64)        36928     \n",
      "_________________________________________________________________\n",
      "max_pooling2d_27 (MaxPooling (None, 16, 16, 64)        0         \n",
      "_________________________________________________________________\n",
      "conv2d_69 (Conv2D)           (None, 16, 16, 128)       73856     \n",
      "_________________________________________________________________\n",
      "max_pooling2d_28 (MaxPooling (None, 8, 8, 128)         0         \n",
      "_________________________________________________________________\n",
      "flatten_13 (Flatten)         (None, 8192)              0         \n",
      "_________________________________________________________________\n",
      "dense_26 (Dense)             (None, 100)               819300    \n",
      "_________________________________________________________________\n",
      "dense_27 (Dense)             (None, 24)                2424      \n",
      "=================================================================\n",
      "Total params: 979,068\n",
      "Trainable params: 979,068\n",
      "Non-trainable params: 0\n",
      "_________________________________________________________________\n",
      "None\n"
     ]
    }
   ],
   "source": [
    "model = define_model()\n",
    "print(model.summary())"
   ]
  },
  {
   "cell_type": "code",
   "execution_count": 76,
   "metadata": {
    "collapsed": true,
    "jupyter": {
     "outputs_hidden": true
    }
   },
   "outputs": [
    {
     "name": "stdout",
     "output_type": "stream",
     "text": [
      "> 84.979\n",
      "> 83.691\n",
      "> 87.124\n",
      "> 11.207\n",
      "> 85.776\n"
     ]
    },
    {
     "name": "stderr",
     "output_type": "stream",
     "text": [
      "C:\\Users\\derob\\anaconda3\\lib\\site-packages\\ipykernel_launcher.py:69: MatplotlibDeprecationWarning: Adding an axes using the same arguments as a previous axes currently reuses the earlier instance.  In a future version, a new instance will always be created and returned.  Meanwhile, this warning can be suppressed, and the future behavior ensured, by passing a unique label to each axes instance.\n",
      "C:\\Users\\derob\\anaconda3\\lib\\site-packages\\ipykernel_launcher.py:74: MatplotlibDeprecationWarning: Adding an axes using the same arguments as a previous axes currently reuses the earlier instance.  In a future version, a new instance will always be created and returned.  Meanwhile, this warning can be suppressed, and the future behavior ensured, by passing a unique label to each axes instance.\n"
     ]
    },
    {
     "data": {
      "image/png": "[encoded data removed]",
      "text/plain": [
       "<Figure size 432x288 with 2 Axes>"
      ]
     },
     "metadata": {},
     "output_type": "display_data"
    },
    {
     "name": "stdout",
     "output_type": "stream",
     "text": [
      "Accuracy: mean=70.555 std=29.695, n=5\n"
     ]
    },
    {
     "data": {
      "image/png": "[encoded data removed]",
      "text/plain": [
       "<Figure size 432x288 with 1 Axes>"
      ]
     },
     "metadata": {},
     "output_type": "display_data"
    }
   ],
   "source": [
    "run_test_harness()"
   ]
  },
  {
   "cell_type": "markdown",
   "metadata": {},
   "source": [
    "# Try a model with two branches\n",
    "Not amazing results, keeping baseline model here.\\\n",
    "https://towardsdatascience.com/building-a-multi-output-convolutional-neural-network-with-keras-ed24c7bc1178"
   ]
  },
  {
   "cell_type": "markdown",
   "metadata": {},
   "source": [
    "**split labels into letter and maj/min**"
   ]
  },
  {
   "cell_type": "code",
   "execution_count": 123,
   "metadata": {},
   "outputs": [
    {
     "data": {
      "text/html": [
       "<div>\n",
       "<style scoped>\n",
       "    .dataframe tbody tr th:only-of-type {\n",
       "        vertical-align: middle;\n",
       "    }\n",
       "\n",
       "    .dataframe tbody tr th {\n",
       "        vertical-align: top;\n",
       "    }\n",
       "\n",
       "    .dataframe thead th {\n",
       "        text-align: right;\n",
       "    }\n",
       "</style>\n",
       "<table border=\"1\" class=\"dataframe\">\n",
       "  <thead>\n",
       "    <tr style=\"text-align: right;\">\n",
       "      <th></th>\n",
       "      <th>id</th>\n",
       "      <th>track_name</th>\n",
       "      <th>time</th>\n",
       "      <th>duration</th>\n",
       "      <th>chord_instructed</th>\n",
       "      <th>chord_played</th>\n",
       "      <th>to_keep</th>\n",
       "    </tr>\n",
       "  </thead>\n",
       "  <tbody>\n",
       "    <tr>\n",
       "      <th>0</th>\n",
       "      <td>00_BN1-129-Eb_comp_1</td>\n",
       "      <td>00_BN1-129-Eb_comp</td>\n",
       "      <td>7.441860</td>\n",
       "      <td>3.720930</td>\n",
       "      <td>G#:maj</td>\n",
       "      <td>G#:maj6(*5)/1</td>\n",
       "      <td>True</td>\n",
       "    </tr>\n",
       "    <tr>\n",
       "      <th>1</th>\n",
       "      <td>00_BN1-129-Eb_comp_2</td>\n",
       "      <td>00_BN1-129-Eb_comp</td>\n",
       "      <td>11.162791</td>\n",
       "      <td>3.720930</td>\n",
       "      <td>D#:maj</td>\n",
       "      <td>D#:maj7/1</td>\n",
       "      <td>True</td>\n",
       "    </tr>\n",
       "    <tr>\n",
       "      <th>2</th>\n",
       "      <td>00_BN1-129-Eb_comp_3</td>\n",
       "      <td>00_BN1-129-Eb_comp</td>\n",
       "      <td>14.883721</td>\n",
       "      <td>1.860465</td>\n",
       "      <td>A#:maj</td>\n",
       "      <td>A#:maj/1</td>\n",
       "      <td>True</td>\n",
       "    </tr>\n",
       "    <tr>\n",
       "      <th>3</th>\n",
       "      <td>00_BN1-129-Eb_comp_4</td>\n",
       "      <td>00_BN1-129-Eb_comp</td>\n",
       "      <td>16.744186</td>\n",
       "      <td>1.860465</td>\n",
       "      <td>G#:maj</td>\n",
       "      <td>G#:maj6(2,b5,*5)/1</td>\n",
       "      <td>True</td>\n",
       "    </tr>\n",
       "    <tr>\n",
       "      <th>4</th>\n",
       "      <td>00_BN1-129-Eb_comp_5</td>\n",
       "      <td>00_BN1-129-Eb_comp</td>\n",
       "      <td>18.604651</td>\n",
       "      <td>3.719749</td>\n",
       "      <td>D#:maj</td>\n",
       "      <td>D#:maj7/1</td>\n",
       "      <td>True</td>\n",
       "    </tr>\n",
       "  </tbody>\n",
       "</table>\n",
       "</div>"
      ],
      "text/plain": [
       "                     id          track_name       time  duration  \\\n",
       "0  00_BN1-129-Eb_comp_1  00_BN1-129-Eb_comp   7.441860  3.720930   \n",
       "1  00_BN1-129-Eb_comp_2  00_BN1-129-Eb_comp  11.162791  3.720930   \n",
       "2  00_BN1-129-Eb_comp_3  00_BN1-129-Eb_comp  14.883721  1.860465   \n",
       "3  00_BN1-129-Eb_comp_4  00_BN1-129-Eb_comp  16.744186  1.860465   \n",
       "4  00_BN1-129-Eb_comp_5  00_BN1-129-Eb_comp  18.604651  3.719749   \n",
       "\n",
       "  chord_instructed        chord_played  to_keep  \n",
       "0           G#:maj       G#:maj6(*5)/1     True  \n",
       "1           D#:maj           D#:maj7/1     True  \n",
       "2           A#:maj            A#:maj/1     True  \n",
       "3           G#:maj  G#:maj6(2,b5,*5)/1     True  \n",
       "4           D#:maj           D#:maj7/1     True  "
      ]
     },
     "execution_count": 123,
     "metadata": {},
     "output_type": "execute_result"
    }
   ],
   "source": [
    "data_clean_split = data_clean\n",
    "data_clean_split = data_clean_split.drop('labels', axis=1)\n",
    "data_clean_split.head()"
   ]
  },
  {
   "cell_type": "code",
   "execution_count": 147,
   "metadata": {},
   "outputs": [],
   "source": [
    "data_clean_split['label_1'] = data_clean_split['chord_instructed'].apply(lambda x: str(x)[:-4])\n",
    "data_clean_split['label_2'] = data_clean_split['chord_instructed'].apply(lambda x: str(x)[-3:])"
   ]
  },
  {
   "cell_type": "code",
   "execution_count": 148,
   "metadata": {},
   "outputs": [
    {
     "data": {
      "text/html": [
       "<div>\n",
       "<style scoped>\n",
       "    .dataframe tbody tr th:only-of-type {\n",
       "        vertical-align: middle;\n",
       "    }\n",
       "\n",
       "    .dataframe tbody tr th {\n",
       "        vertical-align: top;\n",
       "    }\n",
       "\n",
       "    .dataframe thead th {\n",
       "        text-align: right;\n",
       "    }\n",
       "</style>\n",
       "<table border=\"1\" class=\"dataframe\">\n",
       "  <thead>\n",
       "    <tr style=\"text-align: right;\">\n",
       "      <th></th>\n",
       "      <th>id</th>\n",
       "      <th>track_name</th>\n",
       "      <th>time</th>\n",
       "      <th>duration</th>\n",
       "      <th>chord_instructed</th>\n",
       "      <th>chord_played</th>\n",
       "      <th>to_keep</th>\n",
       "      <th>label_1</th>\n",
       "      <th>label_2</th>\n",
       "    </tr>\n",
       "  </thead>\n",
       "  <tbody>\n",
       "    <tr>\n",
       "      <th>0</th>\n",
       "      <td>00_BN1-129-Eb_comp_1</td>\n",
       "      <td>00_BN1-129-Eb_comp</td>\n",
       "      <td>7.441860</td>\n",
       "      <td>3.720930</td>\n",
       "      <td>G#:maj</td>\n",
       "      <td>G#:maj6(*5)/1</td>\n",
       "      <td>True</td>\n",
       "      <td>G#</td>\n",
       "      <td>maj</td>\n",
       "    </tr>\n",
       "    <tr>\n",
       "      <th>1</th>\n",
       "      <td>00_BN1-129-Eb_comp_2</td>\n",
       "      <td>00_BN1-129-Eb_comp</td>\n",
       "      <td>11.162791</td>\n",
       "      <td>3.720930</td>\n",
       "      <td>D#:maj</td>\n",
       "      <td>D#:maj7/1</td>\n",
       "      <td>True</td>\n",
       "      <td>D#</td>\n",
       "      <td>maj</td>\n",
       "    </tr>\n",
       "    <tr>\n",
       "      <th>2</th>\n",
       "      <td>00_BN1-129-Eb_comp_3</td>\n",
       "      <td>00_BN1-129-Eb_comp</td>\n",
       "      <td>14.883721</td>\n",
       "      <td>1.860465</td>\n",
       "      <td>A#:maj</td>\n",
       "      <td>A#:maj/1</td>\n",
       "      <td>True</td>\n",
       "      <td>A#</td>\n",
       "      <td>maj</td>\n",
       "    </tr>\n",
       "    <tr>\n",
       "      <th>3</th>\n",
       "      <td>00_BN1-129-Eb_comp_4</td>\n",
       "      <td>00_BN1-129-Eb_comp</td>\n",
       "      <td>16.744186</td>\n",
       "      <td>1.860465</td>\n",
       "      <td>G#:maj</td>\n",
       "      <td>G#:maj6(2,b5,*5)/1</td>\n",
       "      <td>True</td>\n",
       "      <td>G#</td>\n",
       "      <td>maj</td>\n",
       "    </tr>\n",
       "    <tr>\n",
       "      <th>4</th>\n",
       "      <td>00_BN1-129-Eb_comp_5</td>\n",
       "      <td>00_BN1-129-Eb_comp</td>\n",
       "      <td>18.604651</td>\n",
       "      <td>3.719749</td>\n",
       "      <td>D#:maj</td>\n",
       "      <td>D#:maj7/1</td>\n",
       "      <td>True</td>\n",
       "      <td>D#</td>\n",
       "      <td>maj</td>\n",
       "    </tr>\n",
       "  </tbody>\n",
       "</table>\n",
       "</div>"
      ],
      "text/plain": [
       "                     id          track_name       time  duration  \\\n",
       "0  00_BN1-129-Eb_comp_1  00_BN1-129-Eb_comp   7.441860  3.720930   \n",
       "1  00_BN1-129-Eb_comp_2  00_BN1-129-Eb_comp  11.162791  3.720930   \n",
       "2  00_BN1-129-Eb_comp_3  00_BN1-129-Eb_comp  14.883721  1.860465   \n",
       "3  00_BN1-129-Eb_comp_4  00_BN1-129-Eb_comp  16.744186  1.860465   \n",
       "4  00_BN1-129-Eb_comp_5  00_BN1-129-Eb_comp  18.604651  3.719749   \n",
       "\n",
       "  chord_instructed        chord_played  to_keep label_1 label_2  \n",
       "0           G#:maj       G#:maj6(*5)/1     True      G#     maj  \n",
       "1           D#:maj           D#:maj7/1     True      D#     maj  \n",
       "2           A#:maj            A#:maj/1     True      A#     maj  \n",
       "3           G#:maj  G#:maj6(2,b5,*5)/1     True      G#     maj  \n",
       "4           D#:maj           D#:maj7/1     True      D#     maj  "
      ]
     },
     "execution_count": 148,
     "metadata": {},
     "output_type": "execute_result"
    }
   ],
   "source": [
    "data_clean_split.head()"
   ]
  },
  {
   "cell_type": "markdown",
   "metadata": {},
   "source": [
    "**prep the data**"
   ]
  },
  {
   "cell_type": "code",
   "execution_count": 149,
   "metadata": {},
   "outputs": [],
   "source": [
    "# create labels column and encode\n",
    "le1 = LabelEncoder()\n",
    "le2 = LabelEncoder()\n",
    "data_clean_split['label_1_encoded'] = le1.fit_transform(data_clean_split['label_1'])\n",
    "data_clean_split['label_2_encoded'] = le2.fit_transform(data_clean_split['label_2'])"
   ]
  },
  {
   "cell_type": "code",
   "execution_count": 175,
   "metadata": {},
   "outputs": [
    {
     "name": "stdout",
     "output_type": "stream",
     "text": [
      "12\n",
      "2\n"
     ]
    }
   ],
   "source": [
    "print(len(data_clean_split['label_1_encoded'].unique()))\n",
    "print(len(data_clean_split['label_2_encoded'].unique()))"
   ]
  },
  {
   "cell_type": "code",
   "execution_count": 151,
   "metadata": {},
   "outputs": [],
   "source": [
    "# save label encoder\n",
    "filename1 = 'labelencoder_24classes_1.sav'\n",
    "filename2 = 'labelencoder_24classes_2.sav'\n",
    "pickle.dump(le, open(path_pickles + filename1, 'wb'))\n",
    "pickle.dump(le, open(path_pickles + filename2, 'wb'))"
   ]
  },
  {
   "cell_type": "code",
   "execution_count": 154,
   "metadata": {},
   "outputs": [],
   "source": [
    "# convert images\n",
    "photos = list()\n",
    "for name in data_clean_split.id.values:\n",
    "    # load image\n",
    "    photo = load_img(path_images + name + '.png', color_mode = \"grayscale\", target_size=(64,64))\n",
    "     # convert to np array\n",
    "    photo = img_to_array(photo)\n",
    "    #store\n",
    "    photos.append(photo)\n",
    "labels_1 = list(data_clean_split['label_1_encoded'].values)\n",
    "labels_2 = list(data_clean_split['label_2_encoded'].values)"
   ]
  },
  {
   "cell_type": "code",
   "execution_count": 155,
   "metadata": {},
   "outputs": [
    {
     "data": {
      "text/plain": [
       "(1369, 64, 64, 1)"
      ]
     },
     "execution_count": 155,
     "metadata": {},
     "output_type": "execute_result"
    }
   ],
   "source": [
    "# convert photos to np arrays\n",
    "photos = asarray(photos)\n",
    "photos.shape"
   ]
  },
  {
   "cell_type": "code",
   "execution_count": 156,
   "metadata": {},
   "outputs": [
    {
     "name": "stdout",
     "output_type": "stream",
     "text": [
      "(1369,)\n",
      "(1369,)\n"
     ]
    }
   ],
   "source": [
    "# convert labels to np arrays\n",
    "labels_1 = asarray(labels_1)\n",
    "labels_2 = asarray(labels_2)\n",
    "print(labels_1.shape)\n",
    "print(labels_2.shape)"
   ]
  },
  {
   "cell_type": "code",
   "execution_count": 158,
   "metadata": {},
   "outputs": [],
   "source": [
    "# save arrays\n",
    "save(path_data + 'photos_24classes.npy', photos)\n",
    "save(path_data + 'labels_24classes_1.npy', labels_1)\n",
    "save(path_data + 'labels_24classes_2.npy', labels_2)"
   ]
  },
  {
   "cell_type": "markdown",
   "metadata": {},
   "source": [
    "**load_data()**\\\n",
    "**prep_pixels()**"
   ]
  },
  {
   "cell_type": "code",
   "execution_count": 45,
   "metadata": {},
   "outputs": [],
   "source": [
    "# functions\n",
    "def load_dataset():\n",
    "    # load arrays\n",
    "    photos = load(path_data + 'photos_24classes.npy')\n",
    "    labels_1 = load(path_data + 'labels_24classes_1.npy')\n",
    "    labels_2 = load(path_data + 'labels_24classes_2.npy')\n",
    "    \n",
    "    # split between train/test and reshape\n",
    "    X_train, X_test, y1_train, y1_test, y2_train, y2_test = train_test_split(photos, labels_1, labels_2, test_size=0.15, shuffle=False)\n",
    "    y1_train = np.reshape(y1_train, (X_train.shape[0],))\n",
    "    y1_test = np.reshape(y1_test, (X_test.shape[0],))\n",
    "    y2_train = np.reshape(y2_train, (X_train.shape[0],))\n",
    "    y2_test = np.reshape(y2_test, (X_test.shape[0],))\n",
    "    \n",
    "    # hot encode target variables\n",
    "    y1_train = to_categorical(y1_train)\n",
    "    y2_train = to_categorical(y2_train)\n",
    "    y1_test = to_categorical(y1_test)\n",
    "    y2_test = to_categorical(y2_test)\n",
    "    return X_train, X_test, y1_train, y1_test, y2_train, y2_test\n",
    "\n",
    "def prep_pixels(train, test):\n",
    "    # convert from integers to float\n",
    "    train_norm = train.astype('float32')\n",
    "    test_norm = test.astype('float32')\n",
    "    # normalize to range 0-1\n",
    "    train_norm = train_norm/255.0\n",
    "    test_norm = test_norm/255.0\n",
    "    # return normalized images\n",
    "    return train_norm, test_norm"
   ]
  },
  {
   "cell_type": "code",
   "execution_count": 46,
   "metadata": {},
   "outputs": [],
   "source": [
    "# load dataset\n",
    "X_train, X_test, y1_train, y1_test, y2_train, y2_test = load_dataset()\n",
    "# prepare pixel data\n",
    "X_train, X_test = prep_pixels(X_train, X_test)"
   ]
  },
  {
   "cell_type": "code",
   "execution_count": 47,
   "metadata": {},
   "outputs": [
    {
     "name": "stdout",
     "output_type": "stream",
     "text": [
      "(1163, 64, 64, 1) (206, 64, 64, 1)\n"
     ]
    }
   ],
   "source": [
    "print(X_train.shape, X_test.shape)"
   ]
  },
  {
   "cell_type": "code",
   "execution_count": 48,
   "metadata": {},
   "outputs": [
    {
     "name": "stdout",
     "output_type": "stream",
     "text": [
      "(1163, 12) (206, 12)\n"
     ]
    }
   ],
   "source": [
    "print(y1_train.shape, y1_test.shape)"
   ]
  },
  {
   "cell_type": "code",
   "execution_count": 49,
   "metadata": {},
   "outputs": [
    {
     "name": "stdout",
     "output_type": "stream",
     "text": [
      "(1163, 2) (206, 2)\n"
     ]
    }
   ],
   "source": [
    "print(y2_train.shape, y2_test.shape)"
   ]
  },
  {
   "cell_type": "code",
   "execution_count": 15,
   "metadata": {},
   "outputs": [],
   "source": [
    "# import for modeling\n",
    "# define model  with 20 neurons at last layer\n",
    "from tensorflow.keras.models import Model\n",
    "from tensorflow.keras.layers import Conv2D\n",
    "from tensorflow.keras.layers import LeakyReLU\n",
    "from tensorflow.keras.layers import MaxPooling2D\n",
    "from tensorflow.keras.layers import Activation\n",
    "from tensorflow.keras.layers import Dropout\n",
    "from tensorflow.keras.layers import Lambda\n",
    "from tensorflow.keras.layers import Dense\n",
    "from tensorflow.keras.layers import Flatten\n",
    "from tensorflow.keras.layers import Input\n",
    "import tensorflow"
   ]
  },
  {
   "cell_type": "markdown",
   "metadata": {},
   "source": [
    "**define_model()**"
   ]
  },
  {
   "cell_type": "code",
   "execution_count": 27,
   "metadata": {},
   "outputs": [],
   "source": [
    "def define_model():\n",
    "    \n",
    "    input_shape = Input(shape=((64, 64, 1)))\n",
    "\n",
    "    # labels 1 branch - 2 classes\n",
    "    x_1 = Conv2D(32, (3,3), padding='same', input_shape=(64, 64, 1))(input_shape)\n",
    "    x_1 = LeakyReLU()(x_1)\n",
    "    x_1 = Conv2D(16, (3,3), padding='same')(x_1)\n",
    "    x_1 = LeakyReLU()(x_1)\n",
    "    x_1 = MaxPooling2D(pool_size=(3,3))(x_1)\n",
    "    x_1 = Dropout(0.25)(x_1)\n",
    "    x_1 = Conv2D(64, (3,3), padding='same')(x_1)\n",
    "    x_1 = LeakyReLU()(x_1)\n",
    "    x_1 = Conv2D(16, (3,3), padding='same')(x_1)\n",
    "    x_1 = LeakyReLU()(x_1)\n",
    "    x_1 = MaxPooling2D(pool_size=(3,3))(x_1)\n",
    "    x_1 = Dropout(0.25)(x_1)\n",
    "    x_1 = Flatten()(x_1)\n",
    "    x_1 = Dense(128)(x_1)\n",
    "    x_1 = LeakyReLU()(x_1)\n",
    "    x_1 = Dropout(0.5)(x_1)\n",
    "    x_1 = Dense(12)(x_1)\n",
    "    x_1 = Activation('softmax', name='label1')(x_1)\n",
    "\n",
    "    # labels 2 branch - 2 classes\n",
    "    x_2 = Conv2D(32, (3,3), padding='same', input_shape=(64, 64, 1))(input_shape)\n",
    "    x_2 = LeakyReLU()(x_2)\n",
    "    x_2 = Conv2D(16, (3,3), padding='same')(x_2)\n",
    "    x_2 = LeakyReLU()(x_2)\n",
    "    x_2 = MaxPooling2D(pool_size=(3,3))(x_2)\n",
    "    x_2 = Dropout(0.25)(x_2)\n",
    "    x_2 = Conv2D(64, (3,3), padding='same')(x_2)\n",
    "    x_2 = LeakyReLU()(x_2)\n",
    "    x_2 = Conv2D(16, (3,3), padding='same')(x_2)\n",
    "    x_2 = LeakyReLU()(x_2)\n",
    "    x_2 = MaxPooling2D(pool_size=(3,3))(x_2)\n",
    "    x_2 = Dropout(0.25)(x_2)\n",
    "    x_2 = Flatten()(x_2)\n",
    "    x_2 = Dense(128)(x_2)\n",
    "    x_2 = LeakyReLU()(x_2)\n",
    "    x_2 = Dropout(0.5)(x_2)\n",
    "    x_2 = Dense(2)(x_2)\n",
    "    x_2 = Activation('softmax', name='label2')(x_2)\n",
    "\n",
    "    # concatenate output layers\n",
    "    merged_output = tensorflow.keras.layers.concatenate([x_1, x_2], axis=1)\n",
    "\n",
    "    # connect to single/common input layer\n",
    "    model = Model(input_shape, [x_1, x_2])\n",
    "\n",
    "     # compile model\n",
    "    opt = optimizers.SGD(lr=0.01, momentum=0.9) # gradient descent with momentum optimizer\n",
    "    model.compile(optimizer=opt, loss='categorical_crossentropy', metrics=['accuracy'])\n",
    "\n",
    "    return model"
   ]
  },
  {
   "cell_type": "code",
   "execution_count": 29,
   "metadata": {},
   "outputs": [],
   "source": [
    "model = define_model()"
   ]
  },
  {
   "cell_type": "code",
   "execution_count": 30,
   "metadata": {
    "collapsed": true,
    "jupyter": {
     "outputs_hidden": true
    }
   },
   "outputs": [
    {
     "name": "stdout",
     "output_type": "stream",
     "text": [
      "Model: \"functional_13\"\n",
      "__________________________________________________________________________________________________\n",
      "Layer (type)                    Output Shape         Param #     Connected to                     \n",
      "==================================================================================================\n",
      "input_7 (InputLayer)            [(None, 64, 64, 1)]  0                                            \n",
      "__________________________________________________________________________________________________\n",
      "conv2d_48 (Conv2D)              (None, 64, 64, 32)   320         input_7[0][0]                    \n",
      "__________________________________________________________________________________________________\n",
      "conv2d_52 (Conv2D)              (None, 64, 64, 32)   320         input_7[0][0]                    \n",
      "__________________________________________________________________________________________________\n",
      "leaky_re_lu_60 (LeakyReLU)      (None, 64, 64, 32)   0           conv2d_48[0][0]                  \n",
      "__________________________________________________________________________________________________\n",
      "leaky_re_lu_65 (LeakyReLU)      (None, 64, 64, 32)   0           conv2d_52[0][0]                  \n",
      "__________________________________________________________________________________________________\n",
      "conv2d_49 (Conv2D)              (None, 64, 64, 16)   4624        leaky_re_lu_60[0][0]             \n",
      "__________________________________________________________________________________________________\n",
      "conv2d_53 (Conv2D)              (None, 64, 64, 16)   4624        leaky_re_lu_65[0][0]             \n",
      "__________________________________________________________________________________________________\n",
      "leaky_re_lu_61 (LeakyReLU)      (None, 64, 64, 16)   0           conv2d_49[0][0]                  \n",
      "__________________________________________________________________________________________________\n",
      "leaky_re_lu_66 (LeakyReLU)      (None, 64, 64, 16)   0           conv2d_53[0][0]                  \n",
      "__________________________________________________________________________________________________\n",
      "max_pooling2d_24 (MaxPooling2D) (None, 21, 21, 16)   0           leaky_re_lu_61[0][0]             \n",
      "__________________________________________________________________________________________________\n",
      "max_pooling2d_26 (MaxPooling2D) (None, 21, 21, 16)   0           leaky_re_lu_66[0][0]             \n",
      "__________________________________________________________________________________________________\n",
      "dropout_36 (Dropout)            (None, 21, 21, 16)   0           max_pooling2d_24[0][0]           \n",
      "__________________________________________________________________________________________________\n",
      "dropout_39 (Dropout)            (None, 21, 21, 16)   0           max_pooling2d_26[0][0]           \n",
      "__________________________________________________________________________________________________\n",
      "conv2d_50 (Conv2D)              (None, 21, 21, 64)   9280        dropout_36[0][0]                 \n",
      "__________________________________________________________________________________________________\n",
      "conv2d_54 (Conv2D)              (None, 21, 21, 64)   9280        dropout_39[0][0]                 \n",
      "__________________________________________________________________________________________________\n",
      "leaky_re_lu_62 (LeakyReLU)      (None, 21, 21, 64)   0           conv2d_50[0][0]                  \n",
      "__________________________________________________________________________________________________\n",
      "leaky_re_lu_67 (LeakyReLU)      (None, 21, 21, 64)   0           conv2d_54[0][0]                  \n",
      "__________________________________________________________________________________________________\n",
      "conv2d_51 (Conv2D)              (None, 21, 21, 16)   9232        leaky_re_lu_62[0][0]             \n",
      "__________________________________________________________________________________________________\n",
      "conv2d_55 (Conv2D)              (None, 21, 21, 16)   9232        leaky_re_lu_67[0][0]             \n",
      "__________________________________________________________________________________________________\n",
      "leaky_re_lu_63 (LeakyReLU)      (None, 21, 21, 16)   0           conv2d_51[0][0]                  \n",
      "__________________________________________________________________________________________________\n",
      "leaky_re_lu_68 (LeakyReLU)      (None, 21, 21, 16)   0           conv2d_55[0][0]                  \n",
      "__________________________________________________________________________________________________\n",
      "max_pooling2d_25 (MaxPooling2D) (None, 7, 7, 16)     0           leaky_re_lu_63[0][0]             \n",
      "__________________________________________________________________________________________________\n",
      "max_pooling2d_27 (MaxPooling2D) (None, 7, 7, 16)     0           leaky_re_lu_68[0][0]             \n",
      "__________________________________________________________________________________________________\n",
      "dropout_37 (Dropout)            (None, 7, 7, 16)     0           max_pooling2d_25[0][0]           \n",
      "__________________________________________________________________________________________________\n",
      "dropout_40 (Dropout)            (None, 7, 7, 16)     0           max_pooling2d_27[0][0]           \n",
      "__________________________________________________________________________________________________\n",
      "flatten_12 (Flatten)            (None, 784)          0           dropout_37[0][0]                 \n",
      "__________________________________________________________________________________________________\n",
      "flatten_13 (Flatten)            (None, 784)          0           dropout_40[0][0]                 \n",
      "__________________________________________________________________________________________________\n",
      "dense_24 (Dense)                (None, 128)          100480      flatten_12[0][0]                 \n",
      "__________________________________________________________________________________________________\n",
      "dense_26 (Dense)                (None, 128)          100480      flatten_13[0][0]                 \n",
      "__________________________________________________________________________________________________\n",
      "leaky_re_lu_64 (LeakyReLU)      (None, 128)          0           dense_24[0][0]                   \n",
      "__________________________________________________________________________________________________\n",
      "leaky_re_lu_69 (LeakyReLU)      (None, 128)          0           dense_26[0][0]                   \n",
      "__________________________________________________________________________________________________\n",
      "dropout_38 (Dropout)            (None, 128)          0           leaky_re_lu_64[0][0]             \n",
      "__________________________________________________________________________________________________\n",
      "dropout_41 (Dropout)            (None, 128)          0           leaky_re_lu_69[0][0]             \n",
      "__________________________________________________________________________________________________\n",
      "dense_25 (Dense)                (None, 12)           1548        dropout_38[0][0]                 \n",
      "__________________________________________________________________________________________________\n",
      "dense_27 (Dense)                (None, 2)            258         dropout_41[0][0]                 \n",
      "__________________________________________________________________________________________________\n",
      "label1 (Activation)             (None, 12)           0           dense_25[0][0]                   \n",
      "__________________________________________________________________________________________________\n",
      "label2 (Activation)             (None, 2)            0           dense_27[0][0]                   \n",
      "==================================================================================================\n",
      "Total params: 249,678\n",
      "Trainable params: 249,678\n",
      "Non-trainable params: 0\n",
      "__________________________________________________________________________________________________\n",
      "None\n"
     ]
    }
   ],
   "source": [
    "print(model.summary())"
   ]
  },
  {
   "cell_type": "code",
   "execution_count": 21,
   "metadata": {
    "collapsed": true,
    "jupyter": {
     "outputs_hidden": true
    }
   },
   "outputs": [
    {
     "data": {
      "image/png": "[encoded data removed]",
      "text/plain": [
       "<IPython.core.display.Image object>"
      ]
     },
     "execution_count": 21,
     "metadata": {},
     "output_type": "execute_result"
    }
   ],
   "source": [
    "# display model\n",
    "from tensorflow.keras.utils import plot_model\n",
    "plot_model(model, to_file='model.png', show_shapes=True, show_layer_names=True)"
   ]
  },
  {
   "cell_type": "code",
   "execution_count": 108,
   "metadata": {},
   "outputs": [],
   "source": [
    "# model evaluation functions\n",
    "def evaluate_model(dataX, dataY1, dataY2, n_folds=5):\n",
    "    scores1, scores2, histories = list(), list(), list() # initializing to keep track\n",
    "    # prep cross validation\n",
    "    kfold = KFold(n_folds, shuffle=True, random_state=1)\n",
    "    # enumerate splits\n",
    "    for train_ix, test_ix in kfold.split(dataX):\n",
    "        # define model\n",
    "        model = define_model()\n",
    "        # select rows to train/test\n",
    "        trainX, trainY1, trainY2, testX, testY1, testY2 = dataX[train_ix], dataY1[train_ix], dataY2[train_ix], dataX[test_ix], dataY1[test_ix], dataY2[test_ix]\n",
    "        # fit the model\n",
    "        history = model.fit(x=trainX, y={'label1': trainY1, 'label2': trainY2}, epochs=10, batch_size=32)\n",
    "        # evaluate model\n",
    "        loss, main_loss, aux_loss, main_acc, aux_acc = model.evaluate(x=testX, y={'label1': testY1, 'label2': testY2}, verbose=0) # returns loss value and eval metric, we're only interested in that second one\n",
    "        print('> %.3f' % (main_acc * 100.0))\n",
    "        print('> %.3f' % (aux_acc * 100.0))\n",
    "        # append scores\n",
    "        scores1.append(main_acc)\n",
    "        scores2.append(aux_acc)\n",
    "        histories.append(history)\n",
    "    return scores1, scores2, histories\n",
    "\n",
    "# no change\n",
    "def summarize_diagnostics(histories):\n",
    "    for i in range(len(histories)):\n",
    "        # plot loss\n",
    "        plt.subplot(211)\n",
    "        plt.title('Cross Entropy Loss')\n",
    "        plt.plot(histories[i].history['loss'], color='blue', label='train')\n",
    "        plt.plot(histories[i].history['val_loss'], color='orange', label='test')\n",
    "        # plot accuracy\n",
    "        plt.subplot(212)\n",
    "        plt.title('Classification Accuracy')\n",
    "        plt.plot(histories[i].history['accuracy'], color='blue', label='train')\n",
    "        plt.plot(histories[i].history['val_accuracy'], color='orange', label='test')\n",
    "    plt.show()\n",
    "\n",
    "# no change\n",
    "def summarize_performance(scores):\n",
    "    # print summary\n",
    "    print('Accuracy: mean=%.3f std=%.3f, n=%d' % (mean(scores)*100, std(scores)*100, len(scores)))\n",
    "    # box and whisker plots of results\n",
    "    plt.boxplot(scores)\n",
    "    plt.show()\n",
    "    \n",
    "# no change\n",
    "def run_test_harness():\n",
    "    # load dataset\n",
    "    X_train, X_test, y1_train, y1_test, y2_train, y2_test = load_dataset()\n",
    "    # prepare pixel data\n",
    "    X_train, X_test = prep_pixels(X_train, X_test)\n",
    "    # evaluate model\n",
    "    scores, histories = evaluate_model(X_train, y1_train, y2_train)\n",
    "    # learning curves\n",
    "    #summarize_diagnostics(histories)\n",
    "    # summarize estimated performance\n",
    "    #summarize_performance(scores)"
   ]
  },
  {
   "cell_type": "code",
   "execution_count": 109,
   "metadata": {
    "collapsed": true,
    "jupyter": {
     "outputs_hidden": true
    }
   },
   "outputs": [
    {
     "name": "stdout",
     "output_type": "stream",
     "text": [
      "Epoch 1/10\n",
      "30/30 [==============================] - 10s 321ms/step - loss: 3.1168 - label1_loss: 2.4863 - label2_loss: 0.6306 - label1_accuracy: 0.1097 - label2_accuracy: 0.6753\n",
      "Epoch 2/10\n",
      "30/30 [==============================] - 10s 331ms/step - loss: 3.0982 - label1_loss: 2.4779 - label2_loss: 0.6203 - label1_accuracy: 0.1097 - label2_accuracy: 0.7054\n",
      "Epoch 3/10\n",
      "30/30 [==============================] - 9s 316ms/step - loss: 3.0841 - label1_loss: 2.4742 - label2_loss: 0.6100 - label1_accuracy: 0.1151 - label2_accuracy: 0.7054\n",
      "Epoch 4/10\n",
      "30/30 [==============================] - 10s 323ms/step - loss: 3.0607 - label1_loss: 2.4548 - label2_loss: 0.6059 - label1_accuracy: 0.1398 - label2_accuracy: 0.7054\n",
      "Epoch 5/10\n",
      "30/30 [==============================] - 9s 316ms/step - loss: 2.9308 - label1_loss: 2.3228 - label2_loss: 0.6080 - label1_accuracy: 0.2065 - label2_accuracy: 0.7054\n",
      "Epoch 6/10\n",
      "30/30 [==============================] - 9s 316ms/step - loss: 2.1141 - label1_loss: 1.5033 - label2_loss: 0.6108 - label1_accuracy: 0.5280 - label2_accuracy: 0.7054\n",
      "Epoch 7/10\n",
      "30/30 [==============================] - 9s 312ms/step - loss: 1.5828 - label1_loss: 0.9764 - label2_loss: 0.6064 - label1_accuracy: 0.7333 - label2_accuracy: 0.7054\n",
      "Epoch 8/10\n",
      "30/30 [==============================] - 10s 323ms/step - loss: 1.4026 - label1_loss: 0.7942 - label2_loss: 0.6084 - label1_accuracy: 0.7817 - label2_accuracy: 0.7054\n",
      "Epoch 9/10\n",
      "30/30 [==============================] - 10s 319ms/step - loss: 1.3438 - label1_loss: 0.7367 - label2_loss: 0.6071 - label1_accuracy: 0.7806 - label2_accuracy: 0.7054\n",
      "Epoch 10/10\n",
      "30/30 [==============================] - 9s 310ms/step - loss: 1.1861 - label1_loss: 0.5819 - label2_loss: 0.6042 - label1_accuracy: 0.8344 - label2_accuracy: 0.7054\n",
      "> 86.266\n",
      "> 74.678\n",
      "Epoch 1/10\n",
      "30/30 [==============================] - 9s 311ms/step - loss: 3.1146 - label1_loss: 2.4840 - label2_loss: 0.6306 - label1_accuracy: 0.0914 - label2_accuracy: 0.6720\n",
      "Epoch 2/10\n",
      "30/30 [==============================] - 10s 329ms/step - loss: 3.0744 - label1_loss: 2.4660 - label2_loss: 0.6084 - label1_accuracy: 0.1247 - label2_accuracy: 0.7086\n",
      "Epoch 3/10\n",
      "30/30 [==============================] - 9s 314ms/step - loss: 2.9853 - label1_loss: 2.3772 - label2_loss: 0.6081 - label1_accuracy: 0.1968 - label2_accuracy: 0.7086\n",
      "Epoch 4/10\n",
      "30/30 [==============================] - 10s 322ms/step - loss: 2.4690 - label1_loss: 1.8592 - label2_loss: 0.6098 - label1_accuracy: 0.4097 - label2_accuracy: 0.7086\n",
      "Epoch 5/10\n",
      "30/30 [==============================] - 9s 314ms/step - loss: 1.8149 - label1_loss: 1.2012 - label2_loss: 0.6137 - label1_accuracy: 0.6538 - label2_accuracy: 0.7086\n",
      "Epoch 6/10\n",
      "30/30 [==============================] - 10s 320ms/step - loss: 1.6613 - label1_loss: 1.0544 - label2_loss: 0.6069 - label1_accuracy: 0.7022 - label2_accuracy: 0.7086\n",
      "Epoch 7/10\n",
      "30/30 [==============================] - 9s 313ms/step - loss: 1.3888 - label1_loss: 0.7852 - label2_loss: 0.6036 - label1_accuracy: 0.7860 - label2_accuracy: 0.7086\n",
      "Epoch 8/10\n",
      "30/30 [==============================] - 10s 319ms/step - loss: 1.2582 - label1_loss: 0.6567 - label2_loss: 0.6015 - label1_accuracy: 0.8344 - label2_accuracy: 0.7086\n",
      "Epoch 9/10\n",
      "30/30 [==============================] - 10s 317ms/step - loss: 1.1635 - label1_loss: 0.5557 - label2_loss: 0.6078 - label1_accuracy: 0.8484 - label2_accuracy: 0.7086\n",
      "Epoch 10/10\n",
      "30/30 [==============================] - 10s 317ms/step - loss: 1.1500 - label1_loss: 0.5418 - label2_loss: 0.6081 - label1_accuracy: 0.8409 - label2_accuracy: 0.7086\n",
      "> 87.554\n",
      "> 73.391\n",
      "Epoch 1/10\n",
      "30/30 [==============================] - 9s 314ms/step - loss: 3.1029 - label1_loss: 2.4880 - label2_loss: 0.6150 - label1_accuracy: 0.1065 - label2_accuracy: 0.7215\n",
      "Epoch 2/10\n",
      "30/30 [==============================] - 10s 321ms/step - loss: 3.0676 - label1_loss: 2.4674 - label2_loss: 0.6001 - label1_accuracy: 0.1301 - label2_accuracy: 0.7215\n",
      "Epoch 3/10\n",
      "30/30 [==============================] - 9s 314ms/step - loss: 3.0586 - label1_loss: 2.4524 - label2_loss: 0.6062 - label1_accuracy: 0.1505 - label2_accuracy: 0.7215\n",
      "Epoch 4/10\n",
      "30/30 [==============================] - 10s 326ms/step - loss: 2.9229 - label1_loss: 2.3200 - label2_loss: 0.6028 - label1_accuracy: 0.2473 - label2_accuracy: 0.7215\n",
      "Epoch 5/10\n",
      "30/30 [==============================] - 10s 317ms/step - loss: 2.1389 - label1_loss: 1.5467 - label2_loss: 0.5923 - label1_accuracy: 0.5161 - label2_accuracy: 0.7215\n",
      "Epoch 6/10\n",
      "30/30 [==============================] - 10s 323ms/step - loss: 1.7778 - label1_loss: 1.1873 - label2_loss: 0.5906 - label1_accuracy: 0.6699 - label2_accuracy: 0.7215\n",
      "Epoch 7/10\n",
      "30/30 [==============================] - 9s 316ms/step - loss: 1.4593 - label1_loss: 0.8644 - label2_loss: 0.5950 - label1_accuracy: 0.7763 - label2_accuracy: 0.7215\n",
      "Epoch 8/10\n",
      "30/30 [==============================] - 10s 321ms/step - loss: 1.4328 - label1_loss: 0.8382 - label2_loss: 0.5946 - label1_accuracy: 0.7720 - label2_accuracy: 0.7215\n",
      "Epoch 9/10\n",
      "30/30 [==============================] - 10s 328ms/step - loss: 1.3877 - label1_loss: 0.7959 - label2_loss: 0.5918 - label1_accuracy: 0.7753 - label2_accuracy: 0.7215\n",
      "Epoch 10/10\n",
      "30/30 [==============================] - 10s 326ms/step - loss: 1.2601 - label1_loss: 0.6665 - label2_loss: 0.5936 - label1_accuracy: 0.8237 - label2_accuracy: 0.7215\n",
      "> 88.841\n",
      "> 68.240\n",
      "Epoch 1/10\n",
      "30/30 [==============================] - 10s 318ms/step - loss: 3.1081 - label1_loss: 2.4850 - label2_loss: 0.6231 - label1_accuracy: 0.0934 - label2_accuracy: 0.6982\n",
      "Epoch 2/10\n",
      "30/30 [==============================] - 10s 329ms/step - loss: 3.0594 - label1_loss: 2.4556 - label2_loss: 0.6038 - label1_accuracy: 0.1300 - label2_accuracy: 0.7154\n",
      "Epoch 3/10\n",
      "30/30 [==============================] - 10s 319ms/step - loss: 2.8534 - label1_loss: 2.2468 - label2_loss: 0.6066 - label1_accuracy: 0.2417 - label2_accuracy: 0.7154\n",
      "Epoch 4/10\n",
      "30/30 [==============================] - 10s 334ms/step - loss: 1.9511 - label1_loss: 1.3464 - label2_loss: 0.6047 - label1_accuracy: 0.6165 - label2_accuracy: 0.7154\n",
      "Epoch 5/10\n",
      "30/30 [==============================] - 10s 324ms/step - loss: 1.5431 - label1_loss: 0.9428 - label2_loss: 0.6004 - label1_accuracy: 0.7508 - label2_accuracy: 0.7154\n",
      "Epoch 6/10\n",
      "30/30 [==============================] - 10s 328ms/step - loss: 1.3754 - label1_loss: 0.7764 - label2_loss: 0.5991 - label1_accuracy: 0.7895 - label2_accuracy: 0.7154\n",
      "Epoch 7/10\n",
      "30/30 [==============================] - 10s 319ms/step - loss: 1.2493 - label1_loss: 0.6491 - label2_loss: 0.6001 - label1_accuracy: 0.8378 - label2_accuracy: 0.7154\n",
      "Epoch 8/10\n",
      "30/30 [==============================] - 10s 329ms/step - loss: 1.2170 - label1_loss: 0.6176 - label2_loss: 0.5994 - label1_accuracy: 0.8324 - label2_accuracy: 0.7154\n",
      "Epoch 9/10\n",
      "30/30 [==============================] - 10s 322ms/step - loss: 1.1658 - label1_loss: 0.5672 - label2_loss: 0.5986 - label1_accuracy: 0.8593 - label2_accuracy: 0.7154\n",
      "Epoch 10/10\n",
      "30/30 [==============================] - 10s 327ms/step - loss: 1.1080 - label1_loss: 0.5064 - label2_loss: 0.6015 - label1_accuracy: 0.8571 - label2_accuracy: 0.7154\n",
      "> 85.345\n",
      "> 70.690\n",
      "Epoch 1/10\n",
      "30/30 [==============================] - 10s 321ms/step - loss: 3.1069 - label1_loss: 2.4893 - label2_loss: 0.6175 - label1_accuracy: 0.0956 - label2_accuracy: 0.7014\n",
      "Epoch 2/10\n",
      "30/30 [==============================] - 10s 327ms/step - loss: 3.0728 - label1_loss: 2.4703 - label2_loss: 0.6025 - label1_accuracy: 0.1182 - label2_accuracy: 0.7175\n",
      "Epoch 3/10\n",
      "30/30 [==============================] - 10s 324ms/step - loss: 3.0332 - label1_loss: 2.4282 - label2_loss: 0.6050 - label1_accuracy: 0.1568 - label2_accuracy: 0.7175\n",
      "Epoch 4/10\n",
      "30/30 [==============================] - 10s 331ms/step - loss: 2.6698 - label1_loss: 2.0685 - label2_loss: 0.6013 - label1_accuracy: 0.3201 - label2_accuracy: 0.7175\n",
      "Epoch 5/10\n",
      "30/30 [==============================] - 10s 322ms/step - loss: 1.9876 - label1_loss: 1.3839 - label2_loss: 0.6037 - label1_accuracy: 0.6133 - label2_accuracy: 0.7175\n",
      "Epoch 6/10\n",
      "30/30 [==============================] - 10s 327ms/step - loss: 1.6333 - label1_loss: 1.0343 - label2_loss: 0.5990 - label1_accuracy: 0.7121 - label2_accuracy: 0.7175\n",
      "Epoch 7/10\n",
      "30/30 [==============================] - 10s 322ms/step - loss: 1.4074 - label1_loss: 0.8077 - label2_loss: 0.5997 - label1_accuracy: 0.7798 - label2_accuracy: 0.7175\n",
      "Epoch 8/10\n",
      "30/30 [==============================] - 10s 327ms/step - loss: 1.2936 - label1_loss: 0.6967 - label2_loss: 0.5969 - label1_accuracy: 0.8195 - label2_accuracy: 0.7175\n",
      "Epoch 9/10\n",
      "30/30 [==============================] - 10s 325ms/step - loss: 1.2156 - label1_loss: 0.6178 - label2_loss: 0.5978 - label1_accuracy: 0.8335 - label2_accuracy: 0.7175\n",
      "Epoch 10/10\n",
      "30/30 [==============================] - 10s 329ms/step - loss: 1.1896 - label1_loss: 0.5928 - label2_loss: 0.5967 - label1_accuracy: 0.8539 - label2_accuracy: 0.7175\n",
      "> 87.931\n",
      "> 69.828\n"
     ]
    }
   ],
   "source": [
    "scores1, scores2, histories = evaluate_model(X_train, y1_train, y2_train)"
   ]
  },
  {
   "cell_type": "code",
   "execution_count": 94,
   "metadata": {},
   "outputs": [
    {
     "name": "stderr",
     "output_type": "stream",
     "text": [
      "C:\\Users\\derob\\anaconda3\\lib\\site-packages\\ipykernel_launcher.py:4: MatplotlibDeprecationWarning: Adding an axes using the same arguments as a previous axes currently reuses the earlier instance.  In a future version, a new instance will always be created and returned.  Meanwhile, this warning can be suppressed, and the future behavior ensured, by passing a unique label to each axes instance.\n",
      "  after removing the cwd from sys.path.\n"
     ]
    },
    {
     "data": {
      "image/png": "[encoded data removed]",
      "text/plain": [
       "<Figure size 432x288 with 1 Axes>"
      ]
     },
     "metadata": {},
     "output_type": "display_data"
    }
   ],
   "source": [
    "# plot losses\n",
    "for i in range(len(histories)):\n",
    "    # plot loss\n",
    "    plt.subplot(211)\n",
    "    plt.title('Cross Entropy Loss')\n",
    "    plt.plot(histories[i].history['loss'], color='blue', label='overall')\n",
    "    plt.plot(histories[i].history['label1_loss'], color='orange', label='label1')\n",
    "    plt.plot(histories[i].history['label2_loss'], color='red', label='label2')\n",
    "plt.show()"
   ]
  },
  {
   "cell_type": "code",
   "execution_count": 95,
   "metadata": {},
   "outputs": [
    {
     "data": {
      "text/plain": [
       "[0.8540772795677185,\n",
       " 0.8841201663017273,\n",
       " 0.8712446093559265,\n",
       " 0.875,\n",
       " 0.8793103694915771]"
      ]
     },
     "execution_count": 95,
     "metadata": {},
     "output_type": "execute_result"
    }
   ],
   "source": [
    "scores1"
   ]
  },
  {
   "cell_type": "code",
   "execution_count": 96,
   "metadata": {},
   "outputs": [
    {
     "data": {
      "text/plain": [
       "[0.7467811107635498,\n",
       " 0.733905553817749,\n",
       " 0.6824034452438354,\n",
       " 0.7068965435028076,\n",
       " 0.6982758641242981]"
      ]
     },
     "execution_count": 96,
     "metadata": {},
     "output_type": "execute_result"
    }
   ],
   "source": [
    "scores2"
   ]
  },
  {
   "cell_type": "markdown",
   "metadata": {},
   "source": [
    "# Tune params of best model so far"
   ]
  },
  {
   "cell_type": "markdown",
   "metadata": {},
   "source": [
    "**Add regularizers**"
   ]
  },
  {
   "cell_type": "code",
   "execution_count": 111,
   "metadata": {},
   "outputs": [],
   "source": [
    "# validation split from 10% to 15%\n",
    "def load_dataset():\n",
    "    # load arrays\n",
    "    photos = load(path_data + 'photos_24classes.npy')\n",
    "    labels = load(path_data + 'labels_24classes.npy')\n",
    "    \n",
    "    # split between train/test and reshape\n",
    "    X_train, X_test, y_train, y_test = train_test_split(photos, labels, test_size=0.15, shuffle=False)\n",
    "    y_train = np.reshape(y_train, (X_train.shape[0],))\n",
    "    y_test = np.reshape(y_test, (X_test.shape[0],))\n",
    "    \n",
    "    # hot encode target variables\n",
    "    y_train = to_categorical(y_train)\n",
    "    y_test = to_categorical(y_test)\n",
    "    return X_train, X_test, y_train, y_test\n",
    "\n",
    "# no change\n",
    "def prep_pixels(train, test):\n",
    "    # convert from integers to float\n",
    "    train_norm = train.astype('float32')\n",
    "    test_norm = test.astype('float32')\n",
    "    # normalize to range 0-1\n",
    "    train_norm = train_norm/255.0\n",
    "    test_norm = test_norm/255.0\n",
    "    # return normalized images\n",
    "    return train_norm, test_norm\n",
    "\n",
    "# define model  with 20 neurons at last layer\n",
    "def define_model():\n",
    "    model = models.Sequential()\n",
    "    model.add(layers.Conv2D(32, (3,3), activation='relu',  padding='same', kernel_initializer='he_uniform', kernel_regularizer=regularizers.l1_l2(l1=1e-5, l2=1e-4),input_shape=(64, 64, 1))) #conv layer\n",
    "    model.add(layers.MaxPooling2D((2,2))) #pooling layer\n",
    "    model.add(layers.Conv2D(64, (3,3), activation='relu',  padding='same', kernel_initializer='he_uniform', kernel_regularizer=regularizers.l1_l2(l1=1e-5, l2=1e-4)))\n",
    "    model.add(layers.MaxPooling2D((2,2))) #pooling layer\n",
    "    model.add(layers.Conv2D(64, (3,3), activation='relu',  padding='same', kernel_initializer='he_uniform', kernel_regularizer=regularizers.l1_l2(l1=1e-5, l2=1e-4)))              \n",
    "    model.add(layers.Flatten()) # 16384 vector\n",
    "    model.add(layers.Dense(100, activation='relu', kernel_initializer='he_uniform', kernel_regularizer=regularizers.l1_l2(l1=1e-5, l2=1e-4))) # 1 hidden layer\n",
    "    model.add(layers.Dense(24, activation='softmax')) # output, size 42 = nuber of classes\n",
    "    # compile model\n",
    "    opt = optimizers.SGD(lr=0.01, momentum=0.9) # gradient descent with momentum optimizer\n",
    "    model.compile(optimizer=opt, loss='categorical_crossentropy', metrics=['accuracy'])\n",
    "    return model\n",
    "\n",
    "# 15 epochs to evaluate\n",
    "def evaluate_model(dataX, dataY, n_folds=5):\n",
    "    scores, histories = list(), list() # initializing to keep track\n",
    "    # prep cross validation\n",
    "    kfold = KFold(n_folds, shuffle=True, random_state=1)\n",
    "    # enumerate splits\n",
    "    for train_ix, test_ix in kfold.split(dataX):\n",
    "        # define model\n",
    "        model = define_model()\n",
    "        # select rows to train/test\n",
    "        trainX, trainY, testX, testY = dataX[train_ix], dataY[train_ix], dataX[test_ix], dataY[test_ix]\n",
    "        # fit the model\n",
    "        history = model.fit(trainX, trainY, epochs=10, batch_size=32, validation_data=(testX, testY), verbose=0)\n",
    "        # evaluate model\n",
    "        _, acc = model.evaluate(testX, testY, verbose=0) # returns loss value and eval metric, we're only interested in that second one\n",
    "        print('> %.3f' % (acc * 100.0))\n",
    "        # append scores\n",
    "        scores.append(acc)\n",
    "        histories.append(history)\n",
    "    return scores, histories\n",
    "\n",
    "# no change\n",
    "def summarize_diagnostics(histories):\n",
    "    for i in range(len(histories)):\n",
    "        # plot loss\n",
    "        plt.subplot(211)\n",
    "        plt.title('Cross Entropy Loss')\n",
    "        plt.plot(histories[i].history['loss'], color='blue', label='train')\n",
    "        plt.plot(histories[i].history['val_loss'], color='orange', label='test')\n",
    "        # plot accuracy\n",
    "        plt.subplot(212)\n",
    "        plt.title('Classification Accuracy')\n",
    "        plt.plot(histories[i].history['accuracy'], color='blue', label='train')\n",
    "        plt.plot(histories[i].history['val_accuracy'], color='orange', label='test')\n",
    "    plt.show()\n",
    "\n",
    "# no change\n",
    "def summarize_performance(scores):\n",
    "    # print summary\n",
    "    print('Accuracy: mean=%.3f std=%.3f, n=%d' % (mean(scores)*100, std(scores)*100, len(scores)))\n",
    "    # box and whisker plots of results\n",
    "    plt.boxplot(scores)\n",
    "    plt.show()\n",
    "    \n",
    "# no change\n",
    "def run_test_harness():\n",
    "    # load dataset\n",
    "    X_train, X_test, y_train, y_test = load_dataset()\n",
    "    # prepare pixel data\n",
    "    X_train, X_test = prep_pixels(X_train, X_test)\n",
    "    # evaluate model\n",
    "    scores, histories = evaluate_model(X_train, y_train)\n",
    "    # learning curves\n",
    "    summarize_diagnostics(histories)\n",
    "    # summarize estimated performance\n",
    "    summarize_performance(scores)"
   ]
  },
  {
   "cell_type": "code",
   "execution_count": 112,
   "metadata": {},
   "outputs": [
    {
     "name": "stdout",
     "output_type": "stream",
     "text": [
      "> 80.687\n",
      "> 84.979\n",
      "> 86.695\n",
      "> 82.328\n",
      "> 84.052\n"
     ]
    },
    {
     "name": "stderr",
     "output_type": "stream",
     "text": [
      "C:\\Users\\derob\\anaconda3\\lib\\site-packages\\ipykernel_launcher.py:69: MatplotlibDeprecationWarning: Adding an axes using the same arguments as a previous axes currently reuses the earlier instance.  In a future version, a new instance will always be created and returned.  Meanwhile, this warning can be suppressed, and the future behavior ensured, by passing a unique label to each axes instance.\n",
      "C:\\Users\\derob\\anaconda3\\lib\\site-packages\\ipykernel_launcher.py:74: MatplotlibDeprecationWarning: Adding an axes using the same arguments as a previous axes currently reuses the earlier instance.  In a future version, a new instance will always be created and returned.  Meanwhile, this warning can be suppressed, and the future behavior ensured, by passing a unique label to each axes instance.\n"
     ]
    },
    {
     "data": {
      "image/png": "[encoded data removed]",
      "text/plain": [
       "<Figure size 432x288 with 2 Axes>"
      ]
     },
     "metadata": {},
     "output_type": "display_data"
    },
    {
     "name": "stdout",
     "output_type": "stream",
     "text": [
      "Accuracy: mean=83.748 std=2.082, n=5\n"
     ]
    },
    {
     "data": {
      "image/png": "[encoded data removed]",
      "text/plain": [
       "<Figure size 432x288 with 1 Axes>"
      ]
     },
     "metadata": {},
     "output_type": "display_data"
    }
   ],
   "source": [
    "run_test_harness()"
   ]
  },
  {
   "cell_type": "code",
   "execution_count": 113,
   "metadata": {},
   "outputs": [
    {
     "data": {
      "text/plain": [
       "<tensorflow.python.keras.engine.functional.Functional at 0x2926aa63308>"
      ]
     },
     "execution_count": 113,
     "metadata": {},
     "output_type": "execute_result"
    }
   ],
   "source": [
    "# train model on all params\n",
    "model"
   ]
  },
  {
   "cell_type": "code",
   "execution_count": 117,
   "metadata": {},
   "outputs": [
    {
     "name": "stdout",
     "output_type": "stream",
     "text": [
      "Epoch 1/30\n",
      "49/49 [==============================] - 8s 165ms/step - loss: 2.7741 - accuracy: 0.3035\n",
      "Epoch 2/30\n",
      "49/49 [==============================] - 8s 169ms/step - loss: 1.3973 - accuracy: 0.6535\n",
      "Epoch 3/30\n",
      "49/49 [==============================] - 8s 170ms/step - loss: 1.0483 - accuracy: 0.77044s - - ETA: 1s - loss: 1.0697 - accura - ETA: 1s - loss: 1.0668 - ac\n",
      "Epoch 4/30\n",
      "49/49 [==============================] - 8s 171ms/step - loss: 0.8172 - accuracy: 0.8134\n",
      "Epoch 5/30\n",
      "49/49 [==============================] - 9s 183ms/step - loss: 0.7563 - accuracy: 0.83750s - loss: 0.7621 - accura\n",
      "Epoch 6/30\n",
      "49/49 [==============================] - 8s 165ms/step - loss: 0.6484 - accuracy: 0.8779\n",
      "Epoch 7/30\n",
      "49/49 [==============================] - 8s 158ms/step - loss: 0.6395 - accuracy: 0.8710\n",
      "Epoch 8/30\n",
      "49/49 [==============================] - 8s 165ms/step - loss: 0.5770 - accuracy: 0.8891\n",
      "Epoch 9/30\n",
      "49/49 [==============================] - 8s 164ms/step - loss: 0.4903 - accuracy: 0.9114\n",
      "Epoch 10/30\n",
      "49/49 [==============================] - 8s 158ms/step - loss: 0.4469 - accuracy: 0.9286\n",
      "Epoch 11/30\n",
      "49/49 [==============================] - 8s 163ms/step - loss: 0.4259 - accuracy: 0.9381\n",
      "Epoch 12/30\n",
      "49/49 [==============================] - 8s 164ms/step - loss: 0.4350 - accuracy: 0.9347\n",
      "Epoch 13/30\n",
      "49/49 [==============================] - 8s 160ms/step - loss: 0.3595 - accuracy: 0.9656\n",
      "Epoch 14/30\n",
      "49/49 [==============================] - 8s 164ms/step - loss: 0.3560 - accuracy: 0.9673\n",
      "Epoch 15/30\n",
      "49/49 [==============================] - 8s 173ms/step - loss: 0.3565 - accuracy: 0.9639\n",
      "Epoch 16/30\n",
      "49/49 [==============================] - 8s 161ms/step - loss: 0.3020 - accuracy: 0.9802\n",
      "Epoch 17/30\n",
      "49/49 [==============================] - 8s 160ms/step - loss: 0.3173 - accuracy: 0.9794\n",
      "Epoch 18/30\n",
      "49/49 [==============================] - 8s 161ms/step - loss: 0.2881 - accuracy: 0.9888\n",
      "Epoch 19/30\n",
      "49/49 [==============================] - 8s 157ms/step - loss: 0.2950 - accuracy: 0.98621s - loss: 0.3\n",
      "Epoch 20/30\n",
      "49/49 [==============================] - 8s 159ms/step - loss: 0.3028 - accuracy: 0.9802\n",
      "Epoch 21/30\n",
      "49/49 [==============================] - 8s 167ms/step - loss: 0.2915 - accuracy: 0.9837\n",
      "Epoch 22/30\n",
      "49/49 [==============================] - 9s 182ms/step - loss: 0.2719 - accuracy: 0.9871\n",
      "Epoch 23/30\n",
      "49/49 [==============================] - 10s 201ms/step - loss: 0.2474 - accuracy: 0.9983\n",
      "Epoch 24/30\n",
      "49/49 [==============================] - 10s 197ms/step - loss: 0.2557 - accuracy: 0.9940\n",
      "Epoch 25/30\n",
      "49/49 [==============================] - 9s 184ms/step - loss: 0.2642 - accuracy: 0.9957\n",
      "Epoch 26/30\n",
      "49/49 [==============================] - 9s 175ms/step - loss: 0.2487 - accuracy: 0.9966\n",
      "Epoch 27/30\n",
      "49/49 [==============================] - 9s 181ms/step - loss: 0.2405 - accuracy: 0.9991\n",
      "Epoch 28/30\n",
      "49/49 [==============================] - 10s 207ms/step - loss: 0.2489 - accuracy: 0.9966\n",
      "Epoch 29/30\n",
      "49/49 [==============================] - 9s 175ms/step - loss: 0.2405 - accuracy: 0.9983\n",
      "Epoch 30/30\n",
      "49/49 [==============================] - 8s 162ms/step - loss: 0.2731 - accuracy: 0.9905\n"
     ]
    },
    {
     "data": {
      "text/plain": [
       "<tensorflow.python.keras.callbacks.History at 0x2922ea4e9c8>"
      ]
     },
     "execution_count": 117,
     "metadata": {},
     "output_type": "execute_result"
    }
   ],
   "source": [
    "# fit model on whole data available - 50 epoch\n",
    "# load dataset\n",
    "X_train, X_test, y_train, y_test = load_dataset()\n",
    "# prepare pixel data\n",
    "X_train, X_test = prep_pixels(X_train, X_test)\n",
    "model = define_model()\n",
    "model.fit(X_train, y_train, epochs=30, batch_size=24)"
   ]
  },
  {
   "cell_type": "code",
   "execution_count": 118,
   "metadata": {},
   "outputs": [
    {
     "name": "stdout",
     "output_type": "stream",
     "text": [
      "> 72.330\n"
     ]
    }
   ],
   "source": [
    "_, acc = model.evaluate(X_test, y_test, verbose=0)\n",
    "print('> %.3f' % (acc * 100.0))"
   ]
  },
  {
   "cell_type": "code",
   "execution_count": 119,
   "metadata": {},
   "outputs": [],
   "source": [
    "# keeping first model - calling it the end for now!"
   ]
  },
  {
   "cell_type": "code",
   "execution_count": null,
   "metadata": {},
   "outputs": [],
   "source": []
  }
 ],
 "metadata": {
  "kernelspec": {
   "display_name": "Python 3",
   "language": "python",
   "name": "python3"
  },
  "language_info": {
   "codemirror_mode": {
    "name": "ipython",
    "version": 3
   },
   "file_extension": ".py",
   "mimetype": "text/x-python",
   "name": "python",
   "nbconvert_exporter": "python",
   "pygments_lexer": "ipython3",
   "version": "3.7.6"
  }
 },
 "nbformat": 4,
 "nbformat_minor": 4
}
