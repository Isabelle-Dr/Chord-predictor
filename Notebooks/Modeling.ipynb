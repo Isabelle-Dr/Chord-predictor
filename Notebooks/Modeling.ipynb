{
 "cells": [
  {
   "cell_type": "markdown",
   "metadata": {},
   "source": [
    "### Imports"
   ]
  },
  {
   "cell_type": "code",
   "execution_count": 2,
   "metadata": {},
   "outputs": [],
   "source": [
    "# imports\n",
    "import pandas as pd\n",
    "import numpy as np\n",
    "from numpy import load\n",
    "from numpy import asarray\n",
    "from numpy import save\n",
    "from numpy import mean\n",
    "from numpy import std\n",
    "\n",
    "pd.plotting.register_matplotlib_converters()\n",
    "import matplotlib.pyplot as plt\n",
    "from matplotlib.image import imread\n",
    "%matplotlib inline\n",
    "import seaborn as sns\n",
    "sns.set(style='ticks')"
   ]
  },
  {
   "cell_type": "code",
   "execution_count": 106,
   "metadata": {},
   "outputs": [],
   "source": [
    "from tensorflow.keras import models\n",
    "from tensorflow.keras import layers\n",
    "from tensorflow.keras import optimizers\n",
    "\n",
    "from tensorflow.keras.preprocessing.image import load_img\n",
    "from tensorflow.keras.preprocessing.image import img_to_array\n",
    "from sklearn.model_selection import train_test_split\n",
    "from sklearn.preprocessing import LabelEncoder\n",
    "from sklearn.model_selection import KFold\n",
    "from sklearn.metrics import classification_report, confusion_matrix\n",
    "from tensorflow.keras.utils import to_categorical\n",
    "from tensorflow.keras.models import load_model"
   ]
  },
  {
   "cell_type": "code",
   "execution_count": 7,
   "metadata": {},
   "outputs": [],
   "source": [
    "path_images = \"images/\""
   ]
  },
  {
   "cell_type": "code",
   "execution_count": 8,
   "metadata": {},
   "outputs": [],
   "source": [
    "data = pd.read_csv(\"labels/chords_comp_clean.csv\", index_col=0)"
   ]
  },
  {
   "cell_type": "code",
   "execution_count": 275,
   "metadata": {
    "collapsed": true,
    "jupyter": {
     "outputs_hidden": true
    }
   },
   "outputs": [
    {
     "data": {
      "text/html": [
       "<div>\n",
       "<style scoped>\n",
       "    .dataframe tbody tr th:only-of-type {\n",
       "        vertical-align: middle;\n",
       "    }\n",
       "\n",
       "    .dataframe tbody tr th {\n",
       "        vertical-align: top;\n",
       "    }\n",
       "\n",
       "    .dataframe thead th {\n",
       "        text-align: right;\n",
       "    }\n",
       "</style>\n",
       "<table border=\"1\" class=\"dataframe\">\n",
       "  <thead>\n",
       "    <tr style=\"text-align: right;\">\n",
       "      <th></th>\n",
       "      <th>id</th>\n",
       "      <th>track_name</th>\n",
       "      <th>time</th>\n",
       "      <th>duration</th>\n",
       "      <th>chord_instructed</th>\n",
       "      <th>chord_played</th>\n",
       "      <th>to_keep</th>\n",
       "      <th>labels</th>\n",
       "    </tr>\n",
       "  </thead>\n",
       "  <tbody>\n",
       "    <tr>\n",
       "      <th>1539</th>\n",
       "      <td>05_SS3-84-Bb_comp_12</td>\n",
       "      <td>05_SS3-84-Bb_comp</td>\n",
       "      <td>34.285714</td>\n",
       "      <td>2.857143</td>\n",
       "      <td>D#:maj</td>\n",
       "      <td>D#:maj/5</td>\n",
       "      <td>True</td>\n",
       "      <td>19</td>\n",
       "    </tr>\n",
       "    <tr>\n",
       "      <th>1540</th>\n",
       "      <td>05_SS3-84-Bb_comp_13</td>\n",
       "      <td>05_SS3-84-Bb_comp</td>\n",
       "      <td>37.142857</td>\n",
       "      <td>2.857143</td>\n",
       "      <td>A#:maj</td>\n",
       "      <td>A#:maj/5</td>\n",
       "      <td>True</td>\n",
       "      <td>2</td>\n",
       "    </tr>\n",
       "    <tr>\n",
       "      <th>1541</th>\n",
       "      <td>05_SS3-84-Bb_comp_14</td>\n",
       "      <td>05_SS3-84-Bb_comp</td>\n",
       "      <td>40.000000</td>\n",
       "      <td>2.857143</td>\n",
       "      <td>D#:maj</td>\n",
       "      <td>D#:maj/5</td>\n",
       "      <td>True</td>\n",
       "      <td>19</td>\n",
       "    </tr>\n",
       "    <tr>\n",
       "      <th>1542</th>\n",
       "      <td>05_SS3-84-Bb_comp_15</td>\n",
       "      <td>05_SS3-84-Bb_comp</td>\n",
       "      <td>42.857143</td>\n",
       "      <td>2.850457</td>\n",
       "      <td>F:maj</td>\n",
       "      <td>F:maj/1</td>\n",
       "      <td>True</td>\n",
       "      <td>33</td>\n",
       "    </tr>\n",
       "    <tr>\n",
       "      <th>1543</th>\n",
       "      <td>05_SS3-98-C_comp_0</td>\n",
       "      <td>05_SS3-98-C_comp</td>\n",
       "      <td>0.000000</td>\n",
       "      <td>2.448980</td>\n",
       "      <td>C:maj</td>\n",
       "      <td>C:maj/1</td>\n",
       "      <td>True</td>\n",
       "      <td>16</td>\n",
       "    </tr>\n",
       "    <tr>\n",
       "      <th>1544</th>\n",
       "      <td>05_SS3-98-C_comp_1</td>\n",
       "      <td>05_SS3-98-C_comp</td>\n",
       "      <td>2.448980</td>\n",
       "      <td>2.448980</td>\n",
       "      <td>G:maj</td>\n",
       "      <td>G:maj/1</td>\n",
       "      <td>True</td>\n",
       "      <td>40</td>\n",
       "    </tr>\n",
       "    <tr>\n",
       "      <th>1545</th>\n",
       "      <td>05_SS3-98-C_comp_2</td>\n",
       "      <td>05_SS3-98-C_comp</td>\n",
       "      <td>4.897959</td>\n",
       "      <td>2.448980</td>\n",
       "      <td>A:min</td>\n",
       "      <td>A:min/1</td>\n",
       "      <td>True</td>\n",
       "      <td>7</td>\n",
       "    </tr>\n",
       "    <tr>\n",
       "      <th>1546</th>\n",
       "      <td>05_SS3-98-C_comp_3</td>\n",
       "      <td>05_SS3-98-C_comp</td>\n",
       "      <td>7.346939</td>\n",
       "      <td>2.448980</td>\n",
       "      <td>E:min</td>\n",
       "      <td>E:min/1</td>\n",
       "      <td>True</td>\n",
       "      <td>27</td>\n",
       "    </tr>\n",
       "    <tr>\n",
       "      <th>1547</th>\n",
       "      <td>05_SS3-98-C_comp_4</td>\n",
       "      <td>05_SS3-98-C_comp</td>\n",
       "      <td>9.795918</td>\n",
       "      <td>2.448980</td>\n",
       "      <td>F:maj</td>\n",
       "      <td>F:maj(#11)/1</td>\n",
       "      <td>True</td>\n",
       "      <td>33</td>\n",
       "    </tr>\n",
       "    <tr>\n",
       "      <th>1548</th>\n",
       "      <td>05_SS3-98-C_comp_5</td>\n",
       "      <td>05_SS3-98-C_comp</td>\n",
       "      <td>12.244898</td>\n",
       "      <td>2.448980</td>\n",
       "      <td>C:maj</td>\n",
       "      <td>C:maj/1</td>\n",
       "      <td>True</td>\n",
       "      <td>16</td>\n",
       "    </tr>\n",
       "    <tr>\n",
       "      <th>1549</th>\n",
       "      <td>05_SS3-98-C_comp_6</td>\n",
       "      <td>05_SS3-98-C_comp</td>\n",
       "      <td>14.693878</td>\n",
       "      <td>2.448980</td>\n",
       "      <td>F:maj</td>\n",
       "      <td>F:maj/1</td>\n",
       "      <td>True</td>\n",
       "      <td>33</td>\n",
       "    </tr>\n",
       "    <tr>\n",
       "      <th>1550</th>\n",
       "      <td>05_SS3-98-C_comp_7</td>\n",
       "      <td>05_SS3-98-C_comp</td>\n",
       "      <td>17.142857</td>\n",
       "      <td>2.448980</td>\n",
       "      <td>G:maj</td>\n",
       "      <td>G:maj/1</td>\n",
       "      <td>True</td>\n",
       "      <td>40</td>\n",
       "    </tr>\n",
       "    <tr>\n",
       "      <th>1551</th>\n",
       "      <td>05_SS3-98-C_comp_8</td>\n",
       "      <td>05_SS3-98-C_comp</td>\n",
       "      <td>19.591837</td>\n",
       "      <td>2.448980</td>\n",
       "      <td>C:maj</td>\n",
       "      <td>C:maj/1</td>\n",
       "      <td>True</td>\n",
       "      <td>16</td>\n",
       "    </tr>\n",
       "    <tr>\n",
       "      <th>1552</th>\n",
       "      <td>05_SS3-98-C_comp_9</td>\n",
       "      <td>05_SS3-98-C_comp</td>\n",
       "      <td>22.040816</td>\n",
       "      <td>2.448980</td>\n",
       "      <td>G:maj</td>\n",
       "      <td>G:maj/1</td>\n",
       "      <td>True</td>\n",
       "      <td>40</td>\n",
       "    </tr>\n",
       "    <tr>\n",
       "      <th>1553</th>\n",
       "      <td>05_SS3-98-C_comp_10</td>\n",
       "      <td>05_SS3-98-C_comp</td>\n",
       "      <td>24.489796</td>\n",
       "      <td>2.448980</td>\n",
       "      <td>A:min</td>\n",
       "      <td>A:min/1</td>\n",
       "      <td>True</td>\n",
       "      <td>7</td>\n",
       "    </tr>\n",
       "    <tr>\n",
       "      <th>1554</th>\n",
       "      <td>05_SS3-98-C_comp_11</td>\n",
       "      <td>05_SS3-98-C_comp</td>\n",
       "      <td>26.938776</td>\n",
       "      <td>2.448980</td>\n",
       "      <td>E:min</td>\n",
       "      <td>E:min/1</td>\n",
       "      <td>True</td>\n",
       "      <td>27</td>\n",
       "    </tr>\n",
       "    <tr>\n",
       "      <th>1555</th>\n",
       "      <td>05_SS3-98-C_comp_12</td>\n",
       "      <td>05_SS3-98-C_comp</td>\n",
       "      <td>29.387755</td>\n",
       "      <td>2.448980</td>\n",
       "      <td>F:maj</td>\n",
       "      <td>F:maj(#11)/1</td>\n",
       "      <td>True</td>\n",
       "      <td>33</td>\n",
       "    </tr>\n",
       "    <tr>\n",
       "      <th>1556</th>\n",
       "      <td>05_SS3-98-C_comp_13</td>\n",
       "      <td>05_SS3-98-C_comp</td>\n",
       "      <td>31.836735</td>\n",
       "      <td>2.448980</td>\n",
       "      <td>C:maj</td>\n",
       "      <td>C:maj/1</td>\n",
       "      <td>True</td>\n",
       "      <td>16</td>\n",
       "    </tr>\n",
       "    <tr>\n",
       "      <th>1557</th>\n",
       "      <td>05_SS3-98-C_comp_14</td>\n",
       "      <td>05_SS3-98-C_comp</td>\n",
       "      <td>34.285714</td>\n",
       "      <td>2.448980</td>\n",
       "      <td>F:maj</td>\n",
       "      <td>F:maj/1</td>\n",
       "      <td>True</td>\n",
       "      <td>33</td>\n",
       "    </tr>\n",
       "    <tr>\n",
       "      <th>1558</th>\n",
       "      <td>05_SS3-98-C_comp_15</td>\n",
       "      <td>05_SS3-98-C_comp</td>\n",
       "      <td>36.734694</td>\n",
       "      <td>2.444106</td>\n",
       "      <td>G:maj</td>\n",
       "      <td>G:maj/1</td>\n",
       "      <td>True</td>\n",
       "      <td>40</td>\n",
       "    </tr>\n",
       "  </tbody>\n",
       "</table>\n",
       "</div>"
      ],
      "text/plain": [
       "                        id         track_name       time  duration  \\\n",
       "1539  05_SS3-84-Bb_comp_12  05_SS3-84-Bb_comp  34.285714  2.857143   \n",
       "1540  05_SS3-84-Bb_comp_13  05_SS3-84-Bb_comp  37.142857  2.857143   \n",
       "1541  05_SS3-84-Bb_comp_14  05_SS3-84-Bb_comp  40.000000  2.857143   \n",
       "1542  05_SS3-84-Bb_comp_15  05_SS3-84-Bb_comp  42.857143  2.850457   \n",
       "1543    05_SS3-98-C_comp_0   05_SS3-98-C_comp   0.000000  2.448980   \n",
       "1544    05_SS3-98-C_comp_1   05_SS3-98-C_comp   2.448980  2.448980   \n",
       "1545    05_SS3-98-C_comp_2   05_SS3-98-C_comp   4.897959  2.448980   \n",
       "1546    05_SS3-98-C_comp_3   05_SS3-98-C_comp   7.346939  2.448980   \n",
       "1547    05_SS3-98-C_comp_4   05_SS3-98-C_comp   9.795918  2.448980   \n",
       "1548    05_SS3-98-C_comp_5   05_SS3-98-C_comp  12.244898  2.448980   \n",
       "1549    05_SS3-98-C_comp_6   05_SS3-98-C_comp  14.693878  2.448980   \n",
       "1550    05_SS3-98-C_comp_7   05_SS3-98-C_comp  17.142857  2.448980   \n",
       "1551    05_SS3-98-C_comp_8   05_SS3-98-C_comp  19.591837  2.448980   \n",
       "1552    05_SS3-98-C_comp_9   05_SS3-98-C_comp  22.040816  2.448980   \n",
       "1553   05_SS3-98-C_comp_10   05_SS3-98-C_comp  24.489796  2.448980   \n",
       "1554   05_SS3-98-C_comp_11   05_SS3-98-C_comp  26.938776  2.448980   \n",
       "1555   05_SS3-98-C_comp_12   05_SS3-98-C_comp  29.387755  2.448980   \n",
       "1556   05_SS3-98-C_comp_13   05_SS3-98-C_comp  31.836735  2.448980   \n",
       "1557   05_SS3-98-C_comp_14   05_SS3-98-C_comp  34.285714  2.448980   \n",
       "1558   05_SS3-98-C_comp_15   05_SS3-98-C_comp  36.734694  2.444106   \n",
       "\n",
       "     chord_instructed  chord_played  to_keep  labels  \n",
       "1539           D#:maj      D#:maj/5     True      19  \n",
       "1540           A#:maj      A#:maj/5     True       2  \n",
       "1541           D#:maj      D#:maj/5     True      19  \n",
       "1542            F:maj       F:maj/1     True      33  \n",
       "1543            C:maj       C:maj/1     True      16  \n",
       "1544            G:maj       G:maj/1     True      40  \n",
       "1545            A:min       A:min/1     True       7  \n",
       "1546            E:min       E:min/1     True      27  \n",
       "1547            F:maj  F:maj(#11)/1     True      33  \n",
       "1548            C:maj       C:maj/1     True      16  \n",
       "1549            F:maj       F:maj/1     True      33  \n",
       "1550            G:maj       G:maj/1     True      40  \n",
       "1551            C:maj       C:maj/1     True      16  \n",
       "1552            G:maj       G:maj/1     True      40  \n",
       "1553            A:min       A:min/1     True       7  \n",
       "1554            E:min       E:min/1     True      27  \n",
       "1555            F:maj  F:maj(#11)/1     True      33  \n",
       "1556            C:maj       C:maj/1     True      16  \n",
       "1557            F:maj       F:maj/1     True      33  \n",
       "1558            G:maj       G:maj/1     True      40  "
      ]
     },
     "execution_count": 275,
     "metadata": {},
     "output_type": "execute_result"
    }
   ],
   "source": [
    "data=data.dropna()\n",
    "data.tail(20)"
   ]
  },
  {
   "cell_type": "code",
   "execution_count": 10,
   "metadata": {},
   "outputs": [
    {
     "name": "stdout",
     "output_type": "stream",
     "text": [
      "['A#:7', 'A#:hdim7', 'A#:maj', 'A#:min', 'A:7', 'A:hdim7', 'A:maj', 'A:min', 'B:maj', 'B:min', 'C#:7', 'C#:hdim7', 'C#:maj', 'C#:min', 'C:7', 'C:hdim7', 'C:maj', 'C:min', 'D#:7', 'D#:maj', 'D#:min', 'D:7', 'D:maj', 'D:min', 'E:7', 'E:hdim7', 'E:maj', 'E:min', 'F#:7', 'F#:maj', 'F#:min', 'F:7', 'F:hdim7', 'F:maj', 'F:min', 'G#:7', 'G#:hdim7', 'G#:maj', 'G#:min', 'G:hdim7', 'G:maj', 'G:min']\n"
     ]
    }
   ],
   "source": [
    "print(sorted(data.chord_instructed.unique()))"
   ]
  },
  {
   "cell_type": "code",
   "execution_count": 27,
   "metadata": {},
   "outputs": [
    {
     "data": {
      "text/plain": [
       "42"
      ]
     },
     "execution_count": 27,
     "metadata": {},
     "output_type": "execute_result"
    }
   ],
   "source": [
    "len(data.chord_instructed.unique())"
   ]
  },
  {
   "cell_type": "code",
   "execution_count": 30,
   "metadata": {
    "collapsed": true,
    "jupyter": {
     "outputs_hidden": true
    }
   },
   "outputs": [
    {
     "data": {
      "text/plain": [
       "F:maj       122\n",
       "C:maj        98\n",
       "G:maj        94\n",
       "D#:maj       90\n",
       "C#:maj       79\n",
       "G#:maj       75\n",
       "A#:maj       74\n",
       "F#:maj       73\n",
       "E:maj        70\n",
       "D:maj        69\n",
       "A:maj        67\n",
       "B:maj        62\n",
       "E:min        51\n",
       "G:min        47\n",
       "C#:min       42\n",
       "A#:min       38\n",
       "G#:min       37\n",
       "A:min        33\n",
       "B:min        33\n",
       "D:min        30\n",
       "F:min        28\n",
       "D#:7         25\n",
       "C:min        20\n",
       "F#:min       19\n",
       "D#:min       18\n",
       "F#:7         18\n",
       "C:7          17\n",
       "A:7          16\n",
       "A#:hdim7     14\n",
       "G:hdim7      14\n",
       "F:7          12\n",
       "C#:7         11\n",
       "F:hdim7       8\n",
       "A#:7          8\n",
       "G#:hdim7      8\n",
       "C:hdim7       7\n",
       "E:hdim7       6\n",
       "C#:hdim7      6\n",
       "E:7           6\n",
       "G#:7          6\n",
       "D:7           4\n",
       "A:hdim7       4\n",
       "Name: chord_instructed, dtype: int64"
      ]
     },
     "execution_count": 30,
     "metadata": {},
     "output_type": "execute_result"
    }
   ],
   "source": [
    "data['chord_instructed'].value_counts()"
   ]
  },
  {
   "cell_type": "code",
   "execution_count": 217,
   "metadata": {},
   "outputs": [],
   "source": [
    "# create labels column and encode\n",
    "le = LabelEncoder()\n",
    "data['labels'] = le.fit_transform(data['chord_instructed'])"
   ]
  },
  {
   "cell_type": "code",
   "execution_count": 176,
   "metadata": {},
   "outputs": [
    {
     "data": {
      "text/plain": [
       "array([37, 19,  2, 29,  8, 27,  4, 22, 40, 11, 28,  9, 13,  1, 18, 38, 26,\n",
       "       16,  6, 10, 32,  0, 20, 17, 31, 21, 41, 12, 34, 30, 15,  3, 35, 24,\n",
       "       36,  7, 33, 14, 25, 23, 39,  5])"
      ]
     },
     "execution_count": 176,
     "metadata": {},
     "output_type": "execute_result"
    }
   ],
   "source": [
    "data['labels'].unique()"
   ]
  },
  {
   "cell_type": "code",
   "execution_count": 223,
   "metadata": {},
   "outputs": [],
   "source": [
    "# save label encoder\n",
    "import pickle\n",
    "filename = 'labelencoder.sav'\n",
    "pickle.dump(le, open(filename, 'wb'))"
   ]
  },
  {
   "cell_type": "code",
   "execution_count": 40,
   "metadata": {},
   "outputs": [
    {
     "data": {
      "text/html": [
       "<div>\n",
       "<style scoped>\n",
       "    .dataframe tbody tr th:only-of-type {\n",
       "        vertical-align: middle;\n",
       "    }\n",
       "\n",
       "    .dataframe tbody tr th {\n",
       "        vertical-align: top;\n",
       "    }\n",
       "\n",
       "    .dataframe thead th {\n",
       "        text-align: right;\n",
       "    }\n",
       "</style>\n",
       "<table border=\"1\" class=\"dataframe\">\n",
       "  <thead>\n",
       "    <tr style=\"text-align: right;\">\n",
       "      <th></th>\n",
       "      <th>id</th>\n",
       "      <th>track_name</th>\n",
       "      <th>time</th>\n",
       "      <th>duration</th>\n",
       "      <th>chord_instructed</th>\n",
       "      <th>chord_played</th>\n",
       "      <th>to_keep</th>\n",
       "      <th>labels</th>\n",
       "    </tr>\n",
       "  </thead>\n",
       "  <tbody>\n",
       "    <tr>\n",
       "      <th>0</th>\n",
       "      <td>00_BN1-129-Eb_comp_1</td>\n",
       "      <td>00_BN1-129-Eb_comp</td>\n",
       "      <td>7.441860</td>\n",
       "      <td>3.720930</td>\n",
       "      <td>G#:maj</td>\n",
       "      <td>G#:maj6(*5)/1</td>\n",
       "      <td>True</td>\n",
       "      <td>37</td>\n",
       "    </tr>\n",
       "    <tr>\n",
       "      <th>1</th>\n",
       "      <td>00_BN1-129-Eb_comp_2</td>\n",
       "      <td>00_BN1-129-Eb_comp</td>\n",
       "      <td>11.162791</td>\n",
       "      <td>3.720930</td>\n",
       "      <td>D#:maj</td>\n",
       "      <td>D#:maj7/1</td>\n",
       "      <td>True</td>\n",
       "      <td>19</td>\n",
       "    </tr>\n",
       "    <tr>\n",
       "      <th>2</th>\n",
       "      <td>00_BN1-129-Eb_comp_3</td>\n",
       "      <td>00_BN1-129-Eb_comp</td>\n",
       "      <td>14.883721</td>\n",
       "      <td>1.860465</td>\n",
       "      <td>A#:maj</td>\n",
       "      <td>A#:maj/1</td>\n",
       "      <td>True</td>\n",
       "      <td>2</td>\n",
       "    </tr>\n",
       "    <tr>\n",
       "      <th>3</th>\n",
       "      <td>00_BN1-129-Eb_comp_4</td>\n",
       "      <td>00_BN1-129-Eb_comp</td>\n",
       "      <td>16.744186</td>\n",
       "      <td>1.860465</td>\n",
       "      <td>G#:maj</td>\n",
       "      <td>G#:maj6(2,b5,*5)/1</td>\n",
       "      <td>True</td>\n",
       "      <td>37</td>\n",
       "    </tr>\n",
       "    <tr>\n",
       "      <th>4</th>\n",
       "      <td>00_BN1-129-Eb_comp_5</td>\n",
       "      <td>00_BN1-129-Eb_comp</td>\n",
       "      <td>18.604651</td>\n",
       "      <td>3.719749</td>\n",
       "      <td>D#:maj</td>\n",
       "      <td>D#:maj7/1</td>\n",
       "      <td>True</td>\n",
       "      <td>19</td>\n",
       "    </tr>\n",
       "    <tr>\n",
       "      <th>5</th>\n",
       "      <td>00_BN1-147-Gb_comp_0</td>\n",
       "      <td>00_BN1-147-Gb_comp</td>\n",
       "      <td>0.000000</td>\n",
       "      <td>6.530612</td>\n",
       "      <td>F#:maj</td>\n",
       "      <td>F#:maj7/1</td>\n",
       "      <td>True</td>\n",
       "      <td>29</td>\n",
       "    </tr>\n",
       "    <tr>\n",
       "      <th>6</th>\n",
       "      <td>00_BN1-147-Gb_comp_1</td>\n",
       "      <td>00_BN1-147-Gb_comp</td>\n",
       "      <td>6.530612</td>\n",
       "      <td>3.265306</td>\n",
       "      <td>B:maj</td>\n",
       "      <td>B:maj6(b5,*5)/1</td>\n",
       "      <td>True</td>\n",
       "      <td>8</td>\n",
       "    </tr>\n",
       "    <tr>\n",
       "      <th>7</th>\n",
       "      <td>00_BN1-147-Gb_comp_2</td>\n",
       "      <td>00_BN1-147-Gb_comp</td>\n",
       "      <td>9.795918</td>\n",
       "      <td>3.265306</td>\n",
       "      <td>F#:maj</td>\n",
       "      <td>F#:maj7/1</td>\n",
       "      <td>True</td>\n",
       "      <td>29</td>\n",
       "    </tr>\n",
       "    <tr>\n",
       "      <th>8</th>\n",
       "      <td>00_BN1-147-Gb_comp_4</td>\n",
       "      <td>00_BN1-147-Gb_comp</td>\n",
       "      <td>14.693878</td>\n",
       "      <td>1.632653</td>\n",
       "      <td>B:maj</td>\n",
       "      <td>B:maj7/1</td>\n",
       "      <td>True</td>\n",
       "      <td>8</td>\n",
       "    </tr>\n",
       "    <tr>\n",
       "      <th>9</th>\n",
       "      <td>00_BN1-147-Gb_comp_5</td>\n",
       "      <td>00_BN1-147-Gb_comp</td>\n",
       "      <td>16.326531</td>\n",
       "      <td>3.259069</td>\n",
       "      <td>F#:maj</td>\n",
       "      <td>F#:maj7/1</td>\n",
       "      <td>True</td>\n",
       "      <td>29</td>\n",
       "    </tr>\n",
       "  </tbody>\n",
       "</table>\n",
       "</div>"
      ],
      "text/plain": [
       "                     id          track_name       time  duration  \\\n",
       "0  00_BN1-129-Eb_comp_1  00_BN1-129-Eb_comp   7.441860  3.720930   \n",
       "1  00_BN1-129-Eb_comp_2  00_BN1-129-Eb_comp  11.162791  3.720930   \n",
       "2  00_BN1-129-Eb_comp_3  00_BN1-129-Eb_comp  14.883721  1.860465   \n",
       "3  00_BN1-129-Eb_comp_4  00_BN1-129-Eb_comp  16.744186  1.860465   \n",
       "4  00_BN1-129-Eb_comp_5  00_BN1-129-Eb_comp  18.604651  3.719749   \n",
       "5  00_BN1-147-Gb_comp_0  00_BN1-147-Gb_comp   0.000000  6.530612   \n",
       "6  00_BN1-147-Gb_comp_1  00_BN1-147-Gb_comp   6.530612  3.265306   \n",
       "7  00_BN1-147-Gb_comp_2  00_BN1-147-Gb_comp   9.795918  3.265306   \n",
       "8  00_BN1-147-Gb_comp_4  00_BN1-147-Gb_comp  14.693878  1.632653   \n",
       "9  00_BN1-147-Gb_comp_5  00_BN1-147-Gb_comp  16.326531  3.259069   \n",
       "\n",
       "  chord_instructed        chord_played  to_keep  labels  \n",
       "0           G#:maj       G#:maj6(*5)/1     True      37  \n",
       "1           D#:maj           D#:maj7/1     True      19  \n",
       "2           A#:maj            A#:maj/1     True       2  \n",
       "3           G#:maj  G#:maj6(2,b5,*5)/1     True      37  \n",
       "4           D#:maj           D#:maj7/1     True      19  \n",
       "5           F#:maj           F#:maj7/1     True      29  \n",
       "6            B:maj     B:maj6(b5,*5)/1     True       8  \n",
       "7           F#:maj           F#:maj7/1     True      29  \n",
       "8            B:maj            B:maj7/1     True       8  \n",
       "9           F#:maj           F#:maj7/1     True      29  "
      ]
     },
     "execution_count": 40,
     "metadata": {},
     "output_type": "execute_result"
    }
   ],
   "source": [
    "data.head(10)"
   ]
  },
  {
   "cell_type": "markdown",
   "metadata": {},
   "source": [
    "#### Plot a few images and their labels"
   ]
  },
  {
   "cell_type": "code",
   "execution_count": 14,
   "metadata": {},
   "outputs": [
    {
     "name": "stdout",
     "output_type": "stream",
     "text": [
      "F:maj\n"
     ]
    },
    {
     "data": {
      "image/png": "[encoded data removed]",
      "text/plain": [
       "<Figure size 432x288 with 9 Axes>"
      ]
     },
     "metadata": {},
     "output_type": "display_data"
    }
   ],
   "source": [
    "print('F:maj')\n",
    "F_maj = data[data.chord_instructed == \"F:maj\"]\n",
    "for i, name in enumerate(F_maj.id[:9].values):\n",
    "    plt.subplot(331 + i)\n",
    "    filename = path_images + name + '.png'\n",
    "    image = imread(filename)\n",
    "    plt.imshow(image)"
   ]
  },
  {
   "cell_type": "code",
   "execution_count": 15,
   "metadata": {},
   "outputs": [
    {
     "name": "stdout",
     "output_type": "stream",
     "text": [
      "C:maj\n"
     ]
    },
    {
     "data": {
      "image/png": "[encoded data removed]",
      "text/plain": [
       "<Figure size 432x288 with 9 Axes>"
      ]
     },
     "metadata": {},
     "output_type": "display_data"
    }
   ],
   "source": [
    "print('C:maj')\n",
    "C_maj = data[data.chord_instructed == \"C:maj\"]\n",
    "for i, name in enumerate(C_maj.id[:9].values):\n",
    "    plt.subplot(331 + i)\n",
    "    filename = path_images + name + '.png'\n",
    "    image = imread(filename)\n",
    "    plt.imshow(image)"
   ]
  },
  {
   "cell_type": "code",
   "execution_count": 16,
   "metadata": {},
   "outputs": [
    {
     "name": "stdout",
     "output_type": "stream",
     "text": [
      "G:maj\n"
     ]
    },
    {
     "data": {
      "image/png": "[encoded data removed]",
      "text/plain": [
       "<Figure size 432x288 with 9 Axes>"
      ]
     },
     "metadata": {},
     "output_type": "display_data"
    }
   ],
   "source": [
    "print('G:maj')\n",
    "G_maj = data[data.chord_instructed == \"G:maj\"]\n",
    "for i, name in enumerate(G_maj.id[:9].values):\n",
    "    plt.subplot(331 + i)\n",
    "    filename = path_images + name + '.png'\n",
    "    image = imread(filename)\n",
    "    plt.imshow(image)"
   ]
  },
  {
   "cell_type": "code",
   "execution_count": 17,
   "metadata": {},
   "outputs": [
    {
     "data": {
      "image/png": "[encoded data removed]",
      "text/plain": [
       "<PIL.Image.Image image mode=L size=64x64 at 0x7FE1E8096F70>"
      ]
     },
     "execution_count": 17,
     "metadata": {},
     "output_type": "execute_result"
    }
   ],
   "source": [
    "# test format that will be used for modeling\n",
    "photo = load_img(path_images + name + '.png', color_mode = \"grayscale\", target_size=(64,64))\n",
    "photo"
   ]
  },
  {
   "cell_type": "markdown",
   "metadata": {},
   "source": [
    "#### load dataset for modeling: function `load_data`"
   ]
  },
  {
   "cell_type": "code",
   "execution_count": 317,
   "metadata": {},
   "outputs": [],
   "source": [
    "photos = list()\n",
    "for name in data.id.values:\n",
    "    # load image\n",
    "    photo = load_img(path_images + name + '.png', color_mode = \"grayscale\", target_size=(64,64))\n",
    "     # convert to np array\n",
    "    photo = img_to_array(photo)\n",
    "    #store\n",
    "    photos.append(photo)\n",
    "labels = list(data['labels'].values)"
   ]
  },
  {
   "cell_type": "code",
   "execution_count": 315,
   "metadata": {},
   "outputs": [
    {
     "data": {
      "text/plain": [
       "(1559, 64, 64, 1)"
      ]
     },
     "execution_count": 315,
     "metadata": {},
     "output_type": "execute_result"
    }
   ],
   "source": [
    "# convert photos to np arrays\n",
    "photos = asarray(photos)\n",
    "photos.shape"
   ]
  },
  {
   "cell_type": "code",
   "execution_count": 316,
   "metadata": {},
   "outputs": [
    {
     "data": {
      "text/plain": [
       "(1559,)"
      ]
     },
     "execution_count": 316,
     "metadata": {},
     "output_type": "execute_result"
    }
   ],
   "source": [
    "# convert labels to np arrays\n",
    "labels = asarray(labels)\n",
    "labels.shape"
   ]
  },
  {
   "cell_type": "code",
   "execution_count": 190,
   "metadata": {},
   "outputs": [],
   "source": [
    "# save arrays\n",
    "save('photos.npy', photos)\n",
    "save('labels.npy', labels)"
   ]
  },
  {
   "cell_type": "code",
   "execution_count": 191,
   "metadata": {},
   "outputs": [
    {
     "name": "stdout",
     "output_type": "stream",
     "text": [
      "(1559, 64, 64, 1) (1559,)\n"
     ]
    }
   ],
   "source": [
    "# code to load\n",
    "photos = load('photos.npy')\n",
    "labels = load('labels.npy')\n",
    "print(photos.shape, labels.shape)"
   ]
  },
  {
   "cell_type": "code",
   "execution_count": 194,
   "metadata": {},
   "outputs": [
    {
     "name": "stdout",
     "output_type": "stream",
     "text": [
      "Train: X=(1403, 64, 64, 1), y=(1403,)\n",
      "Test: X=(156, 64, 64, 1), y=(156,)\n"
     ]
    }
   ],
   "source": [
    "# split between training and testing\n",
    "X_train, X_test, y_train, y_test = train_test_split(photos, labels, test_size=0.1, shuffle=False)\n",
    "print('Train: X=%s, y=%s' % (X_train.shape, y_train.shape))\n",
    "print('Test: X=%s, y=%s' % (X_test.shape, y_test.shape))"
   ]
  },
  {
   "cell_type": "code",
   "execution_count": 200,
   "metadata": {
    "collapsed": true,
    "jupyter": {
     "outputs_hidden": true
    }
   },
   "outputs": [
    {
     "name": "stdout",
     "output_type": "stream",
     "text": [
      "[37 19  2 37 19]\n",
      "[[0. 0. 0. 0. 0. 0. 0. 0. 0. 0. 0. 0. 0. 0. 0. 0. 0. 0. 0. 0. 0. 0. 0. 0.\n",
      "  0. 0. 0. 0. 0. 0. 0. 0. 0. 0. 0. 0. 0. 1. 0. 0. 0. 0.]\n",
      " [0. 0. 0. 0. 0. 0. 0. 0. 0. 0. 0. 0. 0. 0. 0. 0. 0. 0. 0. 1. 0. 0. 0. 0.\n",
      "  0. 0. 0. 0. 0. 0. 0. 0. 0. 0. 0. 0. 0. 0. 0. 0. 0. 0.]\n",
      " [0. 0. 1. 0. 0. 0. 0. 0. 0. 0. 0. 0. 0. 0. 0. 0. 0. 0. 0. 0. 0. 0. 0. 0.\n",
      "  0. 0. 0. 0. 0. 0. 0. 0. 0. 0. 0. 0. 0. 0. 0. 0. 0. 0.]\n",
      " [0. 0. 0. 0. 0. 0. 0. 0. 0. 0. 0. 0. 0. 0. 0. 0. 0. 0. 0. 0. 0. 0. 0. 0.\n",
      "  0. 0. 0. 0. 0. 0. 0. 0. 0. 0. 0. 0. 0. 1. 0. 0. 0. 0.]\n",
      " [0. 0. 0. 0. 0. 0. 0. 0. 0. 0. 0. 0. 0. 0. 0. 0. 0. 0. 0. 1. 0. 0. 0. 0.\n",
      "  0. 0. 0. 0. 0. 0. 0. 0. 0. 0. 0. 0. 0. 0. 0. 0. 0. 0.]]\n"
     ]
    }
   ],
   "source": [
    "# one hot encode target values\n",
    "print(y_train[:5])\n",
    "\n",
    "y_train = to_categorical(y_train)\n",
    "y_test = to_categorical(y_test)\n",
    "print(y_train[:5])"
   ]
  },
  {
   "cell_type": "code",
   "execution_count": 202,
   "metadata": {},
   "outputs": [
    {
     "data": {
      "text/plain": [
       "42"
      ]
     },
     "execution_count": 202,
     "metadata": {},
     "output_type": "execute_result"
    }
   ],
   "source": [
    "len(y_train[0])"
   ]
  },
  {
   "cell_type": "code",
   "execution_count": 44,
   "metadata": {},
   "outputs": [],
   "source": [
    "def load_dataset():\n",
    "    # load arrays\n",
    "    photos = load('photos.npy')\n",
    "    labels = load('labels.npy')\n",
    "    \n",
    "    # split between train/test and reshape\n",
    "    X_train, X_test, y_train, y_test = train_test_split(photos, labels, test_size=0.1, shuffle=False)\n",
    "    y_train = np.reshape(y_train, (X_train.shape[0],))\n",
    "    y_test = np.reshape(y_test, (X_test.shape[0],))\n",
    "    \n",
    "    # hot encode target variables\n",
    "    y_train = to_categorical(y_train)\n",
    "    y_test = to_categorical(y_test)\n",
    "    return X_train, X_test, y_train, y_test"
   ]
  },
  {
   "cell_type": "code",
   "execution_count": 218,
   "metadata": {},
   "outputs": [],
   "source": [
    "# trying to get the testing data 'manually' - for the pipeline\n",
    "# in order to extract audio files from testing data only to try making predictions\n",
    "\n",
    "test_data = data[['chord_instructed', 'id']][1325:]\n",
    "labels_test = le.transform(test_data['chord_instructed'])"
   ]
  },
  {
   "cell_type": "code",
   "execution_count": 219,
   "metadata": {},
   "outputs": [
    {
     "name": "stdout",
     "output_type": "stream",
     "text": [
      "(234,)\n",
      "(234,)\n"
     ]
    }
   ],
   "source": [
    "print(labels_test.shape)\n",
    "print(labels[1325:].shape)"
   ]
  },
  {
   "cell_type": "code",
   "execution_count": 224,
   "metadata": {},
   "outputs": [
    {
     "name": "stdout",
     "output_type": "stream",
     "text": [
      "[26 26 13 38 26 37 12 37 37 16]\n",
      "[26 26 13 38 26 37 12 37 37 16]\n"
     ]
    }
   ],
   "source": [
    "print(labels_test[:10])\n",
    "print(labels[1325:][:10])"
   ]
  },
  {
   "cell_type": "code",
   "execution_count": 222,
   "metadata": {
    "collapsed": true,
    "jupyter": {
     "outputs_hidden": true
    }
   },
   "outputs": [
    {
     "data": {
      "text/plain": [
       "array([ True,  True,  True,  True,  True,  True,  True,  True,  True,\n",
       "        True,  True,  True,  True,  True,  True,  True,  True,  True,\n",
       "        True,  True,  True,  True,  True,  True,  True,  True,  True,\n",
       "        True,  True,  True,  True,  True,  True,  True,  True,  True,\n",
       "        True,  True,  True,  True,  True,  True,  True,  True,  True,\n",
       "        True,  True,  True,  True,  True,  True,  True,  True,  True,\n",
       "        True,  True,  True,  True,  True,  True,  True,  True,  True,\n",
       "        True,  True,  True,  True,  True,  True,  True,  True,  True,\n",
       "        True,  True,  True,  True,  True,  True,  True,  True,  True,\n",
       "        True,  True,  True,  True,  True,  True,  True,  True,  True,\n",
       "        True,  True,  True,  True,  True,  True,  True,  True,  True,\n",
       "        True,  True,  True,  True,  True,  True,  True,  True,  True,\n",
       "        True,  True,  True,  True,  True,  True,  True,  True,  True,\n",
       "        True,  True,  True,  True,  True,  True,  True,  True,  True,\n",
       "        True,  True,  True,  True,  True,  True,  True,  True,  True,\n",
       "        True,  True,  True,  True,  True,  True,  True,  True,  True,\n",
       "        True,  True,  True,  True,  True,  True,  True,  True,  True,\n",
       "        True,  True,  True,  True,  True,  True,  True,  True,  True,\n",
       "        True,  True,  True,  True,  True,  True,  True,  True,  True,\n",
       "        True,  True,  True,  True,  True,  True,  True,  True,  True,\n",
       "        True,  True,  True,  True,  True,  True,  True,  True,  True,\n",
       "        True,  True,  True,  True,  True,  True,  True,  True,  True,\n",
       "        True,  True,  True,  True,  True,  True,  True,  True,  True,\n",
       "        True,  True,  True,  True,  True,  True,  True,  True,  True,\n",
       "        True,  True,  True,  True,  True,  True,  True,  True,  True,\n",
       "        True,  True,  True,  True,  True,  True,  True,  True,  True])"
      ]
     },
     "execution_count": 222,
     "metadata": {},
     "output_type": "execute_result"
    }
   ],
   "source": [
    "labels_test == labels[1325:]"
   ]
  },
  {
   "cell_type": "markdown",
   "metadata": {},
   "source": [
    "#### prepare pixel data: function `prep_pixels`\n",
    "Pixel values are from 0 to 255\\\n",
    "We need to rescale to 0,1\\\n",
    "Steps: \n",
    "- convert integers to float\n",
    "- normalize to range 0,1"
   ]
  },
  {
   "cell_type": "code",
   "execution_count": 19,
   "metadata": {},
   "outputs": [],
   "source": [
    "def prep_pixels(train, test):\n",
    "    # convert from integers to float - might not need this, they are float already\n",
    "    train_norm = train.astype('float32')\n",
    "    test_norm = test.astype('float32')\n",
    "    # normalize to range 0-1\n",
    "    train_norm = train_norm/255.0\n",
    "    test_norm = test_norm/255.0\n",
    "    # return normalized images\n",
    "    return train_norm, test_norm"
   ]
  },
  {
   "cell_type": "code",
   "execution_count": 228,
   "metadata": {
    "collapsed": true,
    "jupyter": {
     "outputs_hidden": true
    }
   },
   "outputs": [
    {
     "data": {
      "text/plain": [
       "(array([[[[1.],\n",
       "          [1.],\n",
       "          [1.],\n",
       "          ...,\n",
       "          [1.],\n",
       "          [1.],\n",
       "          [1.]],\n",
       " \n",
       "         [[1.],\n",
       "          [1.],\n",
       "          [1.],\n",
       "          ...,\n",
       "          [1.],\n",
       "          [1.],\n",
       "          [1.]],\n",
       " \n",
       "         [[1.],\n",
       "          [1.],\n",
       "          [1.],\n",
       "          ...,\n",
       "          [1.],\n",
       "          [1.],\n",
       "          [1.]],\n",
       " \n",
       "         ...,\n",
       " \n",
       "         [[1.],\n",
       "          [1.],\n",
       "          [1.],\n",
       "          ...,\n",
       "          [1.],\n",
       "          [1.],\n",
       "          [1.]],\n",
       " \n",
       "         [[1.],\n",
       "          [1.],\n",
       "          [1.],\n",
       "          ...,\n",
       "          [1.],\n",
       "          [1.],\n",
       "          [1.]],\n",
       " \n",
       "         [[1.],\n",
       "          [1.],\n",
       "          [1.],\n",
       "          ...,\n",
       "          [1.],\n",
       "          [1.],\n",
       "          [1.]]],\n",
       " \n",
       " \n",
       "        [[[1.],\n",
       "          [1.],\n",
       "          [1.],\n",
       "          ...,\n",
       "          [1.],\n",
       "          [1.],\n",
       "          [1.]],\n",
       " \n",
       "         [[1.],\n",
       "          [1.],\n",
       "          [1.],\n",
       "          ...,\n",
       "          [1.],\n",
       "          [1.],\n",
       "          [1.]],\n",
       " \n",
       "         [[1.],\n",
       "          [1.],\n",
       "          [1.],\n",
       "          ...,\n",
       "          [1.],\n",
       "          [1.],\n",
       "          [1.]],\n",
       " \n",
       "         ...,\n",
       " \n",
       "         [[1.],\n",
       "          [1.],\n",
       "          [1.],\n",
       "          ...,\n",
       "          [1.],\n",
       "          [1.],\n",
       "          [1.]],\n",
       " \n",
       "         [[1.],\n",
       "          [1.],\n",
       "          [1.],\n",
       "          ...,\n",
       "          [1.],\n",
       "          [1.],\n",
       "          [1.]],\n",
       " \n",
       "         [[1.],\n",
       "          [1.],\n",
       "          [1.],\n",
       "          ...,\n",
       "          [1.],\n",
       "          [1.],\n",
       "          [1.]]],\n",
       " \n",
       " \n",
       "        [[[1.],\n",
       "          [1.],\n",
       "          [1.],\n",
       "          ...,\n",
       "          [1.],\n",
       "          [1.],\n",
       "          [1.]],\n",
       " \n",
       "         [[1.],\n",
       "          [1.],\n",
       "          [1.],\n",
       "          ...,\n",
       "          [1.],\n",
       "          [1.],\n",
       "          [1.]],\n",
       " \n",
       "         [[1.],\n",
       "          [1.],\n",
       "          [1.],\n",
       "          ...,\n",
       "          [1.],\n",
       "          [1.],\n",
       "          [1.]],\n",
       " \n",
       "         ...,\n",
       " \n",
       "         [[1.],\n",
       "          [1.],\n",
       "          [1.],\n",
       "          ...,\n",
       "          [1.],\n",
       "          [1.],\n",
       "          [1.]],\n",
       " \n",
       "         [[1.],\n",
       "          [1.],\n",
       "          [1.],\n",
       "          ...,\n",
       "          [1.],\n",
       "          [1.],\n",
       "          [1.]],\n",
       " \n",
       "         [[1.],\n",
       "          [1.],\n",
       "          [1.],\n",
       "          ...,\n",
       "          [1.],\n",
       "          [1.],\n",
       "          [1.]]],\n",
       " \n",
       " \n",
       "        ...,\n",
       " \n",
       " \n",
       "        [[[1.],\n",
       "          [1.],\n",
       "          [1.],\n",
       "          ...,\n",
       "          [1.],\n",
       "          [1.],\n",
       "          [1.]],\n",
       " \n",
       "         [[1.],\n",
       "          [1.],\n",
       "          [1.],\n",
       "          ...,\n",
       "          [1.],\n",
       "          [1.],\n",
       "          [1.]],\n",
       " \n",
       "         [[1.],\n",
       "          [1.],\n",
       "          [1.],\n",
       "          ...,\n",
       "          [1.],\n",
       "          [1.],\n",
       "          [1.]],\n",
       " \n",
       "         ...,\n",
       " \n",
       "         [[1.],\n",
       "          [1.],\n",
       "          [1.],\n",
       "          ...,\n",
       "          [1.],\n",
       "          [1.],\n",
       "          [1.]],\n",
       " \n",
       "         [[1.],\n",
       "          [1.],\n",
       "          [1.],\n",
       "          ...,\n",
       "          [1.],\n",
       "          [1.],\n",
       "          [1.]],\n",
       " \n",
       "         [[1.],\n",
       "          [1.],\n",
       "          [1.],\n",
       "          ...,\n",
       "          [1.],\n",
       "          [1.],\n",
       "          [1.]]],\n",
       " \n",
       " \n",
       "        [[[1.],\n",
       "          [1.],\n",
       "          [1.],\n",
       "          ...,\n",
       "          [1.],\n",
       "          [1.],\n",
       "          [1.]],\n",
       " \n",
       "         [[1.],\n",
       "          [1.],\n",
       "          [1.],\n",
       "          ...,\n",
       "          [1.],\n",
       "          [1.],\n",
       "          [1.]],\n",
       " \n",
       "         [[1.],\n",
       "          [1.],\n",
       "          [1.],\n",
       "          ...,\n",
       "          [1.],\n",
       "          [1.],\n",
       "          [1.]],\n",
       " \n",
       "         ...,\n",
       " \n",
       "         [[1.],\n",
       "          [1.],\n",
       "          [1.],\n",
       "          ...,\n",
       "          [1.],\n",
       "          [1.],\n",
       "          [1.]],\n",
       " \n",
       "         [[1.],\n",
       "          [1.],\n",
       "          [1.],\n",
       "          ...,\n",
       "          [1.],\n",
       "          [1.],\n",
       "          [1.]],\n",
       " \n",
       "         [[1.],\n",
       "          [1.],\n",
       "          [1.],\n",
       "          ...,\n",
       "          [1.],\n",
       "          [1.],\n",
       "          [1.]]],\n",
       " \n",
       " \n",
       "        [[[1.],\n",
       "          [1.],\n",
       "          [1.],\n",
       "          ...,\n",
       "          [1.],\n",
       "          [1.],\n",
       "          [1.]],\n",
       " \n",
       "         [[1.],\n",
       "          [1.],\n",
       "          [1.],\n",
       "          ...,\n",
       "          [1.],\n",
       "          [1.],\n",
       "          [1.]],\n",
       " \n",
       "         [[1.],\n",
       "          [1.],\n",
       "          [1.],\n",
       "          ...,\n",
       "          [1.],\n",
       "          [1.],\n",
       "          [1.]],\n",
       " \n",
       "         ...,\n",
       " \n",
       "         [[1.],\n",
       "          [1.],\n",
       "          [1.],\n",
       "          ...,\n",
       "          [1.],\n",
       "          [1.],\n",
       "          [1.]],\n",
       " \n",
       "         [[1.],\n",
       "          [1.],\n",
       "          [1.],\n",
       "          ...,\n",
       "          [1.],\n",
       "          [1.],\n",
       "          [1.]],\n",
       " \n",
       "         [[1.],\n",
       "          [1.],\n",
       "          [1.],\n",
       "          ...,\n",
       "          [1.],\n",
       "          [1.],\n",
       "          [1.]]]], dtype=float32),\n",
       " array([[[[1.],\n",
       "          [1.],\n",
       "          [1.],\n",
       "          ...,\n",
       "          [1.],\n",
       "          [1.],\n",
       "          [1.]],\n",
       " \n",
       "         [[1.],\n",
       "          [1.],\n",
       "          [1.],\n",
       "          ...,\n",
       "          [1.],\n",
       "          [1.],\n",
       "          [1.]],\n",
       " \n",
       "         [[1.],\n",
       "          [1.],\n",
       "          [1.],\n",
       "          ...,\n",
       "          [1.],\n",
       "          [1.],\n",
       "          [1.]],\n",
       " \n",
       "         ...,\n",
       " \n",
       "         [[1.],\n",
       "          [1.],\n",
       "          [1.],\n",
       "          ...,\n",
       "          [1.],\n",
       "          [1.],\n",
       "          [1.]],\n",
       " \n",
       "         [[1.],\n",
       "          [1.],\n",
       "          [1.],\n",
       "          ...,\n",
       "          [1.],\n",
       "          [1.],\n",
       "          [1.]],\n",
       " \n",
       "         [[1.],\n",
       "          [1.],\n",
       "          [1.],\n",
       "          ...,\n",
       "          [1.],\n",
       "          [1.],\n",
       "          [1.]]],\n",
       " \n",
       " \n",
       "        [[[1.],\n",
       "          [1.],\n",
       "          [1.],\n",
       "          ...,\n",
       "          [1.],\n",
       "          [1.],\n",
       "          [1.]],\n",
       " \n",
       "         [[1.],\n",
       "          [1.],\n",
       "          [1.],\n",
       "          ...,\n",
       "          [1.],\n",
       "          [1.],\n",
       "          [1.]],\n",
       " \n",
       "         [[1.],\n",
       "          [1.],\n",
       "          [1.],\n",
       "          ...,\n",
       "          [1.],\n",
       "          [1.],\n",
       "          [1.]],\n",
       " \n",
       "         ...,\n",
       " \n",
       "         [[1.],\n",
       "          [1.],\n",
       "          [1.],\n",
       "          ...,\n",
       "          [1.],\n",
       "          [1.],\n",
       "          [1.]],\n",
       " \n",
       "         [[1.],\n",
       "          [1.],\n",
       "          [1.],\n",
       "          ...,\n",
       "          [1.],\n",
       "          [1.],\n",
       "          [1.]],\n",
       " \n",
       "         [[1.],\n",
       "          [1.],\n",
       "          [1.],\n",
       "          ...,\n",
       "          [1.],\n",
       "          [1.],\n",
       "          [1.]]],\n",
       " \n",
       " \n",
       "        [[[1.],\n",
       "          [1.],\n",
       "          [1.],\n",
       "          ...,\n",
       "          [1.],\n",
       "          [1.],\n",
       "          [1.]],\n",
       " \n",
       "         [[1.],\n",
       "          [1.],\n",
       "          [1.],\n",
       "          ...,\n",
       "          [1.],\n",
       "          [1.],\n",
       "          [1.]],\n",
       " \n",
       "         [[1.],\n",
       "          [1.],\n",
       "          [1.],\n",
       "          ...,\n",
       "          [1.],\n",
       "          [1.],\n",
       "          [1.]],\n",
       " \n",
       "         ...,\n",
       " \n",
       "         [[1.],\n",
       "          [1.],\n",
       "          [1.],\n",
       "          ...,\n",
       "          [1.],\n",
       "          [1.],\n",
       "          [1.]],\n",
       " \n",
       "         [[1.],\n",
       "          [1.],\n",
       "          [1.],\n",
       "          ...,\n",
       "          [1.],\n",
       "          [1.],\n",
       "          [1.]],\n",
       " \n",
       "         [[1.],\n",
       "          [1.],\n",
       "          [1.],\n",
       "          ...,\n",
       "          [1.],\n",
       "          [1.],\n",
       "          [1.]]],\n",
       " \n",
       " \n",
       "        ...,\n",
       " \n",
       " \n",
       "        [[[1.],\n",
       "          [1.],\n",
       "          [1.],\n",
       "          ...,\n",
       "          [1.],\n",
       "          [1.],\n",
       "          [1.]],\n",
       " \n",
       "         [[1.],\n",
       "          [1.],\n",
       "          [1.],\n",
       "          ...,\n",
       "          [1.],\n",
       "          [1.],\n",
       "          [1.]],\n",
       " \n",
       "         [[1.],\n",
       "          [1.],\n",
       "          [1.],\n",
       "          ...,\n",
       "          [1.],\n",
       "          [1.],\n",
       "          [1.]],\n",
       " \n",
       "         ...,\n",
       " \n",
       "         [[1.],\n",
       "          [1.],\n",
       "          [1.],\n",
       "          ...,\n",
       "          [1.],\n",
       "          [1.],\n",
       "          [1.]],\n",
       " \n",
       "         [[1.],\n",
       "          [1.],\n",
       "          [1.],\n",
       "          ...,\n",
       "          [1.],\n",
       "          [1.],\n",
       "          [1.]],\n",
       " \n",
       "         [[1.],\n",
       "          [1.],\n",
       "          [1.],\n",
       "          ...,\n",
       "          [1.],\n",
       "          [1.],\n",
       "          [1.]]],\n",
       " \n",
       " \n",
       "        [[[1.],\n",
       "          [1.],\n",
       "          [1.],\n",
       "          ...,\n",
       "          [1.],\n",
       "          [1.],\n",
       "          [1.]],\n",
       " \n",
       "         [[1.],\n",
       "          [1.],\n",
       "          [1.],\n",
       "          ...,\n",
       "          [1.],\n",
       "          [1.],\n",
       "          [1.]],\n",
       " \n",
       "         [[1.],\n",
       "          [1.],\n",
       "          [1.],\n",
       "          ...,\n",
       "          [1.],\n",
       "          [1.],\n",
       "          [1.]],\n",
       " \n",
       "         ...,\n",
       " \n",
       "         [[1.],\n",
       "          [1.],\n",
       "          [1.],\n",
       "          ...,\n",
       "          [1.],\n",
       "          [1.],\n",
       "          [1.]],\n",
       " \n",
       "         [[1.],\n",
       "          [1.],\n",
       "          [1.],\n",
       "          ...,\n",
       "          [1.],\n",
       "          [1.],\n",
       "          [1.]],\n",
       " \n",
       "         [[1.],\n",
       "          [1.],\n",
       "          [1.],\n",
       "          ...,\n",
       "          [1.],\n",
       "          [1.],\n",
       "          [1.]]],\n",
       " \n",
       " \n",
       "        [[[1.],\n",
       "          [1.],\n",
       "          [1.],\n",
       "          ...,\n",
       "          [1.],\n",
       "          [1.],\n",
       "          [1.]],\n",
       " \n",
       "         [[1.],\n",
       "          [1.],\n",
       "          [1.],\n",
       "          ...,\n",
       "          [1.],\n",
       "          [1.],\n",
       "          [1.]],\n",
       " \n",
       "         [[1.],\n",
       "          [1.],\n",
       "          [1.],\n",
       "          ...,\n",
       "          [1.],\n",
       "          [1.],\n",
       "          [1.]],\n",
       " \n",
       "         ...,\n",
       " \n",
       "         [[1.],\n",
       "          [1.],\n",
       "          [1.],\n",
       "          ...,\n",
       "          [1.],\n",
       "          [1.],\n",
       "          [1.]],\n",
       " \n",
       "         [[1.],\n",
       "          [1.],\n",
       "          [1.],\n",
       "          ...,\n",
       "          [1.],\n",
       "          [1.],\n",
       "          [1.]],\n",
       " \n",
       "         [[1.],\n",
       "          [1.],\n",
       "          [1.],\n",
       "          ...,\n",
       "          [1.],\n",
       "          [1.],\n",
       "          [1.]]]], dtype=float32))"
      ]
     },
     "execution_count": 228,
     "metadata": {},
     "output_type": "execute_result"
    }
   ],
   "source": [
    "prep_pixels(X_train, X_test)"
   ]
  },
  {
   "cell_type": "code",
   "execution_count": 229,
   "metadata": {},
   "outputs": [
    {
     "data": {
      "text/plain": [
       "(156, 64, 64, 1)"
      ]
     },
     "execution_count": 229,
     "metadata": {},
     "output_type": "execute_result"
    }
   ],
   "source": [
    "# can remove later\n",
    "X_test.shape"
   ]
  },
  {
   "cell_type": "markdown",
   "metadata": {},
   "source": [
    "#### define model: function `define_model`\n",
    "- Input: convolutional layer with filter size (3,3) and number of filters 32 (this will be the dimensionality of the output space), pooling layer with max \n",
    "- Hidden: 100 nodes\n",
    "- Output: 10 nodes with the probability distribution (using softmax function)\n",
    "- Activaiton functions: **ReLu**, with He weight initialization scheme\n",
    "- Loss function: **caregorical cross entropy loss**\n",
    "- Evaluation metric: **accuracy**\n",
    "- Gradient descent parameters: learning rate 0.01, momentum 0.9"
   ]
  },
  {
   "cell_type": "code",
   "execution_count": 20,
   "metadata": {},
   "outputs": [],
   "source": [
    "def define_model():\n",
    "    model = models.Sequential()\n",
    "    model.add(layers.Conv2D(32, (3,3), activation='relu',  kernel_initializer='he_uniform', input_shape=(64, 64, 1))) #conv layer\n",
    "    model.add(layers.MaxPooling2D((2,2))) #pooling layer\n",
    "    model.add(layers.Flatten())\n",
    "    model.add(layers.Dense(100, activation='relu', kernel_initializer='he_uniform')) # hidden layer\n",
    "    model.add(layers.Dense(42, activation='softmax')) # output\n",
    "    # compile model\n",
    "    opt = optimizers.SGD(lr=0.01, momentum=0.9) # gradient descent with momentum optimizer\n",
    "    model.compile(optimizer=opt, loss='categorical_crossentropy', metrics=['accuracy'])\n",
    "    return model"
   ]
  },
  {
   "cell_type": "code",
   "execution_count": 188,
   "metadata": {},
   "outputs": [
    {
     "name": "stdout",
     "output_type": "stream",
     "text": [
      "Model: \"sequential_2\"\n",
      "_________________________________________________________________\n",
      "Layer (type)                 Output Shape              Param #   \n",
      "=================================================================\n",
      "conv2d_1 (Conv2D)            (None, 62, 62, 32)        320       \n",
      "_________________________________________________________________\n",
      "max_pooling2d_1 (MaxPooling2 (None, 31, 31, 32)        0         \n",
      "_________________________________________________________________\n",
      "flatten_1 (Flatten)          (None, 30752)             0         \n",
      "_________________________________________________________________\n",
      "dense_2 (Dense)              (None, 100)               3075300   \n",
      "_________________________________________________________________\n",
      "dense_3 (Dense)              (None, 42)                4242      \n",
      "=================================================================\n",
      "Total params: 3,079,862\n",
      "Trainable params: 3,079,862\n",
      "Non-trainable params: 0\n",
      "_________________________________________________________________\n",
      "None\n"
     ]
    }
   ],
   "source": [
    "# try running it and display summary\n",
    "model = define_model()\n",
    "print(model.summary())"
   ]
  },
  {
   "cell_type": "markdown",
   "metadata": {},
   "source": [
    "#### fit and evaluate model: function `evaluate_model`\n",
    "By doing a 5 fold cross validation, each test set will be 20% of the set The shuffle parameter is set at true at the beginning so that all models we evaluate end up having the same train and test datasets.\n",
    "We're setting the number of epochs to 10, with batch size of 32"
   ]
  },
  {
   "cell_type": "code",
   "execution_count": 190,
   "metadata": {
    "collapsed": true,
    "jupyter": {
     "outputs_hidden": true
    }
   },
   "outputs": [
    {
     "name": "stdout",
     "output_type": "stream",
     "text": [
      "Epoch 1/10\n",
      "36/36 [==============================] - 1s 38ms/step - loss: 3.4527 - accuracy: 0.0704 - val_loss: 3.5331 - val_accuracy: 0.0747\n",
      "Epoch 2/10\n",
      "36/36 [==============================] - 1s 35ms/step - loss: 3.4434 - accuracy: 0.0704 - val_loss: 3.5295 - val_accuracy: 0.0747\n",
      "Epoch 3/10\n",
      "36/36 [==============================] - 1s 34ms/step - loss: 3.4366 - accuracy: 0.0704 - val_loss: 3.5268 - val_accuracy: 0.0747\n",
      "Epoch 4/10\n",
      "36/36 [==============================] - 2s 47ms/step - loss: 3.4299 - accuracy: 0.0704 - val_loss: 3.5255 - val_accuracy: 0.0747\n",
      "Epoch 5/10\n",
      "36/36 [==============================] - 1s 39ms/step - loss: 3.4248 - accuracy: 0.0704 - val_loss: 3.5238 - val_accuracy: 0.0747\n",
      "Epoch 6/10\n",
      "36/36 [==============================] - 1s 38ms/step - loss: 3.4198 - accuracy: 0.0704 - val_loss: 3.5227 - val_accuracy: 0.0747\n",
      "Epoch 7/10\n",
      "36/36 [==============================] - 1s 39ms/step - loss: 3.4163 - accuracy: 0.0704 - val_loss: 3.5220 - val_accuracy: 0.0747\n",
      "Epoch 8/10\n",
      "36/36 [==============================] - 2s 44ms/step - loss: 3.4130 - accuracy: 0.0704 - val_loss: 3.5210 - val_accuracy: 0.0747\n",
      "Epoch 9/10\n",
      "36/36 [==============================] - 1s 37ms/step - loss: 3.4104 - accuracy: 0.0704 - val_loss: 3.5215 - val_accuracy: 0.0747\n",
      "Epoch 10/10\n",
      "36/36 [==============================] - 1s 38ms/step - loss: 3.4074 - accuracy: 0.0704 - val_loss: 3.5218 - val_accuracy: 0.0747\n"
     ]
    }
   ],
   "source": [
    "# try to fit model\n",
    "hist = model.fit(X_train, y_train, epochs=10, batch_size=32, validation_split=0.20)"
   ]
  },
  {
   "cell_type": "code",
   "execution_count": 192,
   "metadata": {},
   "outputs": [
    {
     "name": "stdout",
     "output_type": "stream",
     "text": [
      "5/5 [==============================] - 0s 8ms/step - loss: 3.3312 - accuracy: 0.1410\n",
      "test_acc: 0.14102564752101898 test_loss 3.331181526184082\n"
     ]
    }
   ],
   "source": [
    "test_loss, test_acc = model.evaluate(X_test, y_test)\n",
    "print('test_acc:', test_acc, 'test_loss', test_loss)"
   ]
  },
  {
   "cell_type": "code",
   "execution_count": 21,
   "metadata": {},
   "outputs": [],
   "source": [
    "# define function to evaluate model\n",
    "# using validation_data parameter from the fit method\n",
    "\n",
    "def evaluate_model(dataX, dataY, n_folds=5):\n",
    "    scores, histories = list(), list() # initializing to keep track\n",
    "    # prep cross validation\n",
    "    kfold = KFold(n_folds, shuffle=True, random_state=1)\n",
    "    # enumerate splits\n",
    "    for train_ix, test_ix in kfold.split(dataX):\n",
    "        # define model\n",
    "        model = define_model()\n",
    "        # select rows to train/test\n",
    "        trainX, trainY, testX, testY = dataX[train_ix], dataY[train_ix], dataX[test_ix], dataY[test_ix]\n",
    "        # fit the model\n",
    "        history = model.fit(trainX, trainY, epochs=10, batch_size=32, validation_data=(testX, testY), verbose=0)\n",
    "        # evaluate model\n",
    "        _, acc = model.evaluate(testX, testY, verbose=0) # returns loss value and eval metric, we're only interested in that second one\n",
    "        print('> %.3f' % (acc * 100.0))\n",
    "        # append scores\n",
    "        scores.append(acc)\n",
    "        histories.append(history)\n",
    "    return scores, histories"
   ]
  },
  {
   "cell_type": "markdown",
   "metadata": {},
   "source": [
    "#### present results: functions `summarize_diagnostics` and `summarize_performances`"
   ]
  },
  {
   "cell_type": "code",
   "execution_count": 54,
   "metadata": {},
   "outputs": [],
   "source": [
    "# plot diagnostic learning curves\n",
    "def summarize_diagnostics(histories):\n",
    "    for i in range(len(histories)):\n",
    "        # plot loss\n",
    "        plt.subplot(211)\n",
    "        plt.title('Cross Entropy Loss')\n",
    "        plt.plot(histories[i].history['loss'], color='blue', label='train')\n",
    "        plt.plot(histories[i].history['val_loss'], color='orange', label='test')\n",
    "        # plot accuracy\n",
    "        plt.subplot(212)\n",
    "        plt.title('Classification Accuracy')\n",
    "        plt.plot(histories[i].history['accuracy'], color='blue', label='train')\n",
    "        plt.plot(histories[i].history['val_accuracy'], color='orange', label='test')\n",
    "    plt.show()"
   ]
  },
  {
   "cell_type": "code",
   "execution_count": 23,
   "metadata": {},
   "outputs": [],
   "source": [
    "def summarize_performance(scores):\n",
    "    # print summary\n",
    "    print('Accuracy: mean=%.3f std=%.3f, n=%d' % (mean(scores)*100, std(scores)*100, len(scores)))\n",
    "    # box and whisker plots of results\n",
    "    plt.boxplot(scores)\n",
    "    plt.show()"
   ]
  },
  {
   "cell_type": "markdown",
   "metadata": {},
   "source": [
    "#### Complete the whole baseline model evaluation"
   ]
  },
  {
   "cell_type": "code",
   "execution_count": 24,
   "metadata": {},
   "outputs": [],
   "source": [
    "# run the test harness for evaluating a model\n",
    "def run_test_harness():\n",
    "    # load dataset\n",
    "    X_train, X_test, y_train, y_test = load_dataset()\n",
    "    # prepare pixel data\n",
    "    X_train, X_test = prep_pixels(X_train, X_test)\n",
    "    # evaluate model\n",
    "    scores, histories = evaluate_model(X_train, y_train)\n",
    "    # learning curves\n",
    "    summarize_diagnostics(histories)\n",
    "    # summarize estimated performance\n",
    "    summarize_performance(scores)"
   ]
  },
  {
   "cell_type": "code",
   "execution_count": 52,
   "metadata": {},
   "outputs": [
    {
     "name": "stdout",
     "output_type": "stream",
     "text": [
      "> 54.093\n",
      "> 69.751\n",
      "> 59.075\n",
      "> 6.071\n",
      "> 67.143\n"
     ]
    },
    {
     "name": "stderr",
     "output_type": "stream",
     "text": [
      "<ipython-input-51-225bfcd25ea0>:5: MatplotlibDeprecationWarning: Adding an axes using the same arguments as a previous axes currently reuses the earlier instance.  In a future version, a new instance will always be created and returned.  Meanwhile, this warning can be suppressed, and the future behavior ensured, by passing a unique label to each axes instance.\n",
      "  plt.subplot(211)\n",
      "<ipython-input-51-225bfcd25ea0>:10: MatplotlibDeprecationWarning: Adding an axes using the same arguments as a previous axes currently reuses the earlier instance.  In a future version, a new instance will always be created and returned.  Meanwhile, this warning can be suppressed, and the future behavior ensured, by passing a unique label to each axes instance.\n",
      "  plt.subplot(212)\n"
     ]
    },
    {
     "data": {
      "image/png": "[encoded data removed]",
      "text/plain": [
       "<Figure size 432x288 with 2 Axes>"
      ]
     },
     "metadata": {},
     "output_type": "display_data"
    },
    {
     "name": "stdout",
     "output_type": "stream",
     "text": [
      "Accuracy: mean=51.226 std=23.261, n=5\n"
     ]
    },
    {
     "data": {
      "image/png": "[encoded data removed]",
      "text/plain": [
       "<Figure size 432x288 with 1 Axes>"
      ]
     },
     "metadata": {},
     "output_type": "display_data"
    }
   ],
   "source": [
    "run_test_harness()"
   ]
  },
  {
   "cell_type": "markdown",
   "metadata": {},
   "source": [
    "#### finalize and make predictions"
   ]
  },
  {
   "cell_type": "code",
   "execution_count": 46,
   "metadata": {},
   "outputs": [
    {
     "name": "stdout",
     "output_type": "stream",
     "text": [
      "Epoch 1/10\n",
      "44/44 [==============================] - 2s 36ms/step - loss: 3.9570 - accuracy: 0.1254\n",
      "Epoch 2/10\n",
      "44/44 [==============================] - 2s 40ms/step - loss: 2.2752 - accuracy: 0.4811\n",
      "Epoch 3/10\n",
      "44/44 [==============================] - 2s 37ms/step - loss: 1.6144 - accuracy: 0.5560\n",
      "Epoch 4/10\n",
      "44/44 [==============================] - 2s 38ms/step - loss: 1.3475 - accuracy: 0.6073\n",
      "Epoch 5/10\n",
      "44/44 [==============================] - 2s 35ms/step - loss: 1.1932 - accuracy: 0.6222\n",
      "Epoch 6/10\n",
      "44/44 [==============================] - 2s 39ms/step - loss: 1.1123 - accuracy: 0.6422\n",
      "Epoch 7/10\n",
      "44/44 [==============================] - 2s 38ms/step - loss: 1.0238 - accuracy: 0.6771\n",
      "Epoch 8/10\n",
      "44/44 [==============================] - 2s 35ms/step - loss: 0.9301 - accuracy: 0.7163\n",
      "Epoch 9/10\n",
      "44/44 [==============================] - 2s 39ms/step - loss: 0.8736 - accuracy: 0.7135\n",
      "Epoch 10/10\n",
      "44/44 [==============================] - 2s 36ms/step - loss: 0.7737 - accuracy: 0.7391\n"
     ]
    },
    {
     "data": {
      "text/plain": [
       "<tensorflow.python.keras.callbacks.History at 0x7fe1c477d190>"
      ]
     },
     "execution_count": 46,
     "metadata": {},
     "output_type": "execute_result"
    }
   ],
   "source": [
    "# fit model on whole data available\n",
    "# load dataset\n",
    "X_train, X_test, y_train, y_test = load_dataset()\n",
    "# prepare pixel data\n",
    "X_train, X_test = prep_pixels(X_train, X_test)\n",
    "model = define_model()\n",
    "model.fit(X_train, y_train, epochs=10, batch_size=32)"
   ]
  },
  {
   "cell_type": "code",
   "execution_count": 43,
   "metadata": {},
   "outputs": [
    {
     "name": "stdout",
     "output_type": "stream",
     "text": [
      "> 58.333\n"
     ]
    }
   ],
   "source": [
    "_, acc = model.evaluate(X_test, y_test, verbose=0)\n",
    "print('> %.3f' % (acc * 100.0))"
   ]
  },
  {
   "cell_type": "code",
   "execution_count": 36,
   "metadata": {},
   "outputs": [],
   "source": [
    "# save model\n",
    "model.save('final_model.h5')"
   ]
  },
  {
   "cell_type": "markdown",
   "metadata": {},
   "source": [
    "# Tune model\n",
    "- For the class imbalance issue: use class weights\n",
    "- Make two branches: one looking at the root chord, one looking at the ending\n",
    "- Make a deeper neural network OK\n",
    "- discarg lines of the dataframe where the performed chords are a bit weird\n",
    "- add a padding to the Cond2D OK\n",
    "- increased number of filters (32 to 64) OK\n",
    "\n",
    "**-----> reached 0.79 mean acuuracy**"
   ]
  },
  {
   "cell_type": "code",
   "execution_count": 60,
   "metadata": {},
   "outputs": [],
   "source": [
    "# validation split from 10% to 15%\n",
    "def load_dataset():\n",
    "    # load arrays\n",
    "    photos = load('photos.npy')\n",
    "    labels = load('labels.npy')\n",
    "    \n",
    "    # split between train/test and reshape\n",
    "    X_train, X_test, y_train, y_test = train_test_split(photos, labels, test_size=0.15, shuffle=False)\n",
    "    y_train = np.reshape(y_train, (X_train.shape[0],))\n",
    "    y_test = np.reshape(y_test, (X_test.shape[0],))\n",
    "    \n",
    "    # hot encode target variables\n",
    "    y_train = to_categorical(y_train)\n",
    "    y_test = to_categorical(y_test)\n",
    "    return X_train, X_test, y_train, y_test\n",
    "\n",
    "# no change\n",
    "def prep_pixels(train, test):\n",
    "    # convert from integers to float\n",
    "    train_norm = train.astype('float32')\n",
    "    test_norm = test.astype('float32')\n",
    "    # normalize to range 0-1\n",
    "    train_norm = train_norm/255.0\n",
    "    test_norm = test_norm/255.0\n",
    "    # return normalized images\n",
    "    return train_norm, test_norm\n",
    "\n",
    "# made a deeper network, add padding, increase number of filters in hidden layers.\n",
    "def define_model():\n",
    "    model = models.Sequential()\n",
    "    model.add(layers.Conv2D(32, (3,3), activation='relu',  padding='same', kernel_initializer='he_uniform', input_shape=(64, 64, 1))) #conv layer\n",
    "    model.add(layers.MaxPooling2D((2,2))) #pooling layer\n",
    "    model.add(layers.Conv2D(64, (3,3), activation='relu',  padding='same', kernel_initializer='he_uniform'))\n",
    "    model.add(layers.MaxPooling2D((2,2))) #pooling layer\n",
    "    model.add(layers.Conv2D(64, (3,3), activation='relu',  padding='same', kernel_initializer='he_uniform'))              \n",
    "    model.add(layers.Flatten()) # 16384 vector\n",
    "    model.add(layers.Dense(100, activation='relu', kernel_initializer='he_uniform')) # 1 hidden layer\n",
    "    model.add(layers.Dense(42, activation='softmax')) # output, size 42 = nuber of classes\n",
    "    # compile model\n",
    "    opt = optimizers.SGD(lr=0.01, momentum=0.9) # gradient descent with momentum optimizer\n",
    "    model.compile(optimizer=opt, loss='categorical_crossentropy', metrics=['accuracy'])\n",
    "    return model\n",
    "\n",
    "# 15 epochs to evaluate\n",
    "def evaluate_model(dataX, dataY, n_folds=5):\n",
    "    scores, histories = list(), list() # initializing to keep track\n",
    "    # prep cross validation\n",
    "    kfold = KFold(n_folds, shuffle=True, random_state=1)\n",
    "    # enumerate splits\n",
    "    for train_ix, test_ix in kfold.split(dataX):\n",
    "        # define model\n",
    "        model = define_model()\n",
    "        # select rows to train/test\n",
    "        trainX, trainY, testX, testY = dataX[train_ix], dataY[train_ix], dataX[test_ix], dataY[test_ix]\n",
    "        # fit the model\n",
    "        history = model.fit(trainX, trainY, epochs=10, batch_size=32, validation_data=(testX, testY), verbose=0)\n",
    "        # evaluate model\n",
    "        _, acc = model.evaluate(testX, testY, verbose=0) # returns loss value and eval metric, we're only interested in that second one\n",
    "        print('> %.3f' % (acc * 100.0))\n",
    "        # append scores\n",
    "        scores.append(acc)\n",
    "        histories.append(history)\n",
    "    return scores, histories\n",
    "\n",
    "# no change\n",
    "def summarize_diagnostics(histories):\n",
    "    for i in range(len(histories)):\n",
    "        # plot loss\n",
    "        plt.subplot(211)\n",
    "        plt.title('Cross Entropy Loss')\n",
    "        plt.plot(histories[i].history['loss'], color='blue', label='train')\n",
    "        plt.plot(histories[i].history['val_loss'], color='orange', label='test')\n",
    "        # plot accuracy\n",
    "        plt.subplot(212)\n",
    "        plt.title('Classification Accuracy')\n",
    "        plt.plot(histories[i].history['accuracy'], color='blue', label='train')\n",
    "        plt.plot(histories[i].history['val_accuracy'], color='orange', label='test')\n",
    "    plt.show()\n",
    "\n",
    "# no change\n",
    "def summarize_performance(scores):\n",
    "    # print summary\n",
    "    print('Accuracy: mean=%.3f std=%.3f, n=%d' % (mean(scores)*100, std(scores)*100, len(scores)))\n",
    "    # box and whisker plots of results\n",
    "    plt.boxplot(scores)\n",
    "    plt.show()\n",
    "    \n",
    "# no change\n",
    "def run_test_harness():\n",
    "    # load dataset\n",
    "    X_train, X_test, y_train, y_test = load_dataset()\n",
    "    # prepare pixel data\n",
    "    X_train, X_test = prep_pixels(X_train, X_test)\n",
    "    # evaluate model\n",
    "    scores, histories = evaluate_model(X_train, y_train)\n",
    "    # learning curves\n",
    "    summarize_diagnostics(histories)\n",
    "    # summarize estimated performance\n",
    "    summarize_performance(scores)"
   ]
  },
  {
   "cell_type": "code",
   "execution_count": 58,
   "metadata": {},
   "outputs": [
    {
     "name": "stdout",
     "output_type": "stream",
     "text": [
      "Model: \"sequential_29\"\n",
      "_________________________________________________________________\n",
      "Layer (type)                 Output Shape              Param #   \n",
      "=================================================================\n",
      "conv2d_29 (Conv2D)           (None, 64, 64, 32)        320       \n",
      "_________________________________________________________________\n",
      "max_pooling2d_29 (MaxPooling (None, 32, 32, 32)        0         \n",
      "_________________________________________________________________\n",
      "conv2d_30 (Conv2D)           (None, 32, 32, 64)        18496     \n",
      "_________________________________________________________________\n",
      "max_pooling2d_30 (MaxPooling (None, 16, 16, 64)        0         \n",
      "_________________________________________________________________\n",
      "conv2d_31 (Conv2D)           (None, 16, 16, 64)        36928     \n",
      "_________________________________________________________________\n",
      "flatten_29 (Flatten)         (None, 16384)             0         \n",
      "_________________________________________________________________\n",
      "dense_58 (Dense)             (None, 100)               1638500   \n",
      "_________________________________________________________________\n",
      "dense_59 (Dense)             (None, 42)                4242      \n",
      "=================================================================\n",
      "Total params: 1,698,486\n",
      "Trainable params: 1,698,486\n",
      "Non-trainable params: 0\n",
      "_________________________________________________________________\n",
      "None\n"
     ]
    }
   ],
   "source": [
    "# try running it and display summary\n",
    "model = define_model()\n",
    "print(model.summary())"
   ]
  },
  {
   "cell_type": "code",
   "execution_count": 61,
   "metadata": {},
   "outputs": [
    {
     "name": "stdout",
     "output_type": "stream",
     "text": [
      "> 78.113\n",
      "> 79.245\n",
      "> 76.604\n",
      "> 80.755\n",
      "> 80.377\n"
     ]
    },
    {
     "name": "stderr",
     "output_type": "stream",
     "text": [
      "<ipython-input-60-6862ba41ec46>:69: MatplotlibDeprecationWarning: Adding an axes using the same arguments as a previous axes currently reuses the earlier instance.  In a future version, a new instance will always be created and returned.  Meanwhile, this warning can be suppressed, and the future behavior ensured, by passing a unique label to each axes instance.\n",
      "  plt.subplot(211)\n",
      "<ipython-input-60-6862ba41ec46>:74: MatplotlibDeprecationWarning: Adding an axes using the same arguments as a previous axes currently reuses the earlier instance.  In a future version, a new instance will always be created and returned.  Meanwhile, this warning can be suppressed, and the future behavior ensured, by passing a unique label to each axes instance.\n",
      "  plt.subplot(212)\n"
     ]
    },
    {
     "data": {
      "image/png": "[encoded data removed]",
      "text/plain": [
       "<Figure size 432x288 with 2 Axes>"
      ]
     },
     "metadata": {},
     "output_type": "display_data"
    },
    {
     "name": "stderr",
     "output_type": "stream",
     "text": [
      "No handles with labels found to put in legend.\n"
     ]
    },
    {
     "name": "stdout",
     "output_type": "stream",
     "text": [
      "Accuracy: mean=79.019 std=1.521, n=5\n"
     ]
    },
    {
     "data": {
      "image/png": "[encoded data removed]",
      "text/plain": [
       "<Figure size 432x288 with 1 Axes>"
      ]
     },
     "metadata": {},
     "output_type": "display_data"
    }
   ],
   "source": [
    "run_test_harness()"
   ]
  },
  {
   "cell_type": "code",
   "execution_count": 274,
   "metadata": {
    "collapsed": true,
    "jupyter": {
     "outputs_hidden": true
    }
   },
   "outputs": [
    {
     "name": "stdout",
     "output_type": "stream",
     "text": [
      "Epoch 1/20\n",
      "42/42 [==============================] - 6s 149ms/step - loss: 3.2057 - accuracy: 0.2294\n",
      "Epoch 2/20\n",
      "42/42 [==============================] - 5s 128ms/step - loss: 1.6165 - accuracy: 0.5570\n",
      "Epoch 3/20\n",
      "42/42 [==============================] - 5s 123ms/step - loss: 1.0763 - accuracy: 0.6626\n",
      "Epoch 4/20\n",
      "42/42 [==============================] - 5s 129ms/step - loss: 0.7923 - accuracy: 0.7502\n",
      "Epoch 5/20\n",
      "42/42 [==============================] - 5s 124ms/step - loss: 0.6866 - accuracy: 0.7962\n",
      "Epoch 6/20\n",
      "42/42 [==============================] - 5s 124ms/step - loss: 0.5300 - accuracy: 0.8423\n",
      "Epoch 7/20\n",
      "42/42 [==============================] - 5s 112ms/step - loss: 0.4534 - accuracy: 0.8611\n",
      "Epoch 8/20\n",
      "42/42 [==============================] - 5s 118ms/step - loss: 0.3386 - accuracy: 0.8838\n",
      "Epoch 9/20\n",
      "42/42 [==============================] - 5s 130ms/step - loss: 0.3194 - accuracy: 0.8898\n",
      "Epoch 10/20\n",
      "42/42 [==============================] - 5s 129ms/step - loss: 0.2827 - accuracy: 0.9057\n",
      "Epoch 11/20\n",
      "42/42 [==============================] - 5s 116ms/step - loss: 0.2713 - accuracy: 0.9117\n",
      "Epoch 12/20\n",
      "42/42 [==============================] - 5s 116ms/step - loss: 0.2088 - accuracy: 0.9283\n",
      "Epoch 13/20\n",
      "42/42 [==============================] - 5s 117ms/step - loss: 0.1570 - accuracy: 0.9442\n",
      "Epoch 14/20\n",
      "42/42 [==============================] - 5s 124ms/step - loss: 0.1387 - accuracy: 0.9555\n",
      "Epoch 15/20\n",
      "42/42 [==============================] - 6s 146ms/step - loss: 0.1404 - accuracy: 0.9570\n",
      "Epoch 16/20\n",
      "42/42 [==============================] - 5s 120ms/step - loss: 0.1338 - accuracy: 0.9577\n",
      "Epoch 17/20\n",
      "42/42 [==============================] - 5s 112ms/step - loss: 0.1235 - accuracy: 0.9623\n",
      "Epoch 18/20\n",
      "42/42 [==============================] - 5s 113ms/step - loss: 0.0914 - accuracy: 0.9691\n",
      "Epoch 19/20\n",
      "42/42 [==============================] - 5s 114ms/step - loss: 0.1018 - accuracy: 0.9706\n",
      "Epoch 20/20\n",
      "42/42 [==============================] - 5s 115ms/step - loss: 0.0578 - accuracy: 0.9819\n"
     ]
    },
    {
     "data": {
      "text/plain": [
       "<tensorflow.python.keras.callbacks.History at 0x7fe13d06ea60>"
      ]
     },
     "execution_count": 274,
     "metadata": {},
     "output_type": "execute_result"
    }
   ],
   "source": [
    "# fit model on whole data available - 20 epoch\n",
    "# load dataset\n",
    "X_train, X_test, y_train, y_test = load_dataset()\n",
    "# prepare pixel data\n",
    "X_train, X_test = prep_pixels(X_train, X_test)\n",
    "model = define_model()\n",
    "model.fit(X_train, y_train, epochs=20, batch_size=32)"
   ]
  },
  {
   "cell_type": "code",
   "execution_count": 276,
   "metadata": {},
   "outputs": [
    {
     "name": "stdout",
     "output_type": "stream",
     "text": [
      "> 67.521\n"
     ]
    }
   ],
   "source": [
    "_, acc = model.evaluate(X_test, y_test, verbose=0)\n",
    "print('> %.3f' % (acc * 100.0))"
   ]
  },
  {
   "cell_type": "code",
   "execution_count": 81,
   "metadata": {},
   "outputs": [],
   "source": [
    "# save model\n",
    "model.save('final_model.h5')"
   ]
  },
  {
   "cell_type": "markdown",
   "metadata": {},
   "source": [
    "#### Get confusion Matrix"
   ]
  },
  {
   "cell_type": "code",
   "execution_count": 277,
   "metadata": {},
   "outputs": [
    {
     "data": {
      "text/plain": [
       "(234, 64, 64, 1)"
      ]
     },
     "execution_count": 277,
     "metadata": {},
     "output_type": "execute_result"
    }
   ],
   "source": [
    "X_test.shape"
   ]
  },
  {
   "cell_type": "code",
   "execution_count": 278,
   "metadata": {},
   "outputs": [],
   "source": [
    "# predict classes\n",
    "y_pred = model.predict_classes(X_test)"
   ]
  },
  {
   "cell_type": "code",
   "execution_count": 279,
   "metadata": {},
   "outputs": [],
   "source": [
    "# get the classes from y test \n",
    "y_test_classes = []\n",
    "for line in y_test:\n",
    "    val = np.argmax(line)\n",
    "    y_test_classes.append(val)"
   ]
  },
  {
   "cell_type": "code",
   "execution_count": 280,
   "metadata": {},
   "outputs": [],
   "source": [
    "y_pred_labels = le.inverse_transform(y_pred)\n",
    "y_test_labels = le.inverse_transform(y_test_classes)"
   ]
  },
  {
   "cell_type": "code",
   "execution_count": 281,
   "metadata": {},
   "outputs": [
    {
     "name": "stdout",
     "output_type": "stream",
     "text": [
      "Label=E:min, Predicted=E:min\n",
      "Label=E:maj, Predicted=E:maj\n",
      "Label=C#:min, Predicted=C#:min\n",
      "Label=C#:min, Predicted=C#:min\n",
      "Label=F#:min, Predicted=F#:min\n",
      "Label=C#:min, Predicted=C#:min\n",
      "Label=C#:min, Predicted=C#:min\n",
      "Label=G#:maj, Predicted=G#:maj\n",
      "Label=G#:maj, Predicted=G#:maj\n",
      "Label=A:min, Predicted=A:min\n"
     ]
    }
   ],
   "source": [
    "for i in range(len(y_pred))[:10]:\n",
    "    print(f\"Label={y_pred_labels[i]}, Predicted={y_pred_labels[i]}\")"
   ]
  },
  {
   "cell_type": "code",
   "execution_count": 282,
   "metadata": {
    "jupyter": {
     "source_hidden": true
    }
   },
   "outputs": [
    {
     "data": {
      "text/plain": [
       "set()"
      ]
     },
     "execution_count": 282,
     "metadata": {},
     "output_type": "execute_result"
    }
   ],
   "source": [
    "# print only chords guessed correctly\n",
    "chords_correct = []\n",
    "for i in range(len(y_pred)):\n",
    "    if y_test_labels[i] == y_pred[i]:\n",
    "        chords_correct.append(y_pred[i])\n",
    "set(chords_correct)"
   ]
  },
  {
   "cell_type": "code",
   "execution_count": 283,
   "metadata": {},
   "outputs": [
    {
     "data": {
      "text/plain": [
       "<AxesSubplot:>"
      ]
     },
     "execution_count": 283,
     "metadata": {},
     "output_type": "execute_result"
    },
    {
     "data": {
      "image/png": "[encoded data removed]",
      "text/plain": [
       "<Figure size 1440x1440 with 2 Axes>"
      ]
     },
     "metadata": {},
     "output_type": "display_data"
    }
   ],
   "source": [
    "# create confusion matrix with data that has labels\n",
    "cm = confusion_matrix(y_test_labels, y_pred_labels)\n",
    "\n",
    "# create heatmap\n",
    "fig, ax = plt.subplots(figsize=(20,20))\n",
    "sns.heatmap(cm, annot=True, cmap=\"YlGnBu\" ,fmt='g')"
   ]
  },
  {
   "cell_type": "code",
   "execution_count": 295,
   "metadata": {
    "collapsed": true,
    "jupyter": {
     "outputs_hidden": true
    }
   },
   "outputs": [
    {
     "data": {
      "text/plain": [
       "<AxesSubplot:>"
      ]
     },
     "execution_count": 295,
     "metadata": {},
     "output_type": "execute_result"
    },
    {
     "data": {
      "image/png": "[encoded data removed]",
      "text/plain": [
       "<Figure size 1440x1440 with 2 Axes>"
      ]
     },
     "metadata": {},
     "output_type": "display_data"
    }
   ],
   "source": [
    "# create confusion matrix with data in number format - same same\n",
    "cm = confusion_matrix(y_test_classes, y_pred)\n",
    "\n",
    "# create heatmap\n",
    "fig, ax = plt.subplots(figsize=(20,20))\n",
    "sns.heatmap(cm, annot=True, cmap=\"YlGnBu\" ,fmt='g')"
   ]
  },
  {
   "cell_type": "code",
   "execution_count": 309,
   "metadata": {},
   "outputs": [
    {
     "name": "stdout",
     "output_type": "stream",
     "text": [
      "0  --> A#:7\n",
      "1  --> A#:hdim7\n",
      "2  --> A#:maj\n",
      "3  --> A#:min\n",
      "4  --> A:7\n",
      "5  --> A:hdim7\n",
      "6  --> A:maj\n",
      "7  --> A:min\n",
      "8  --> B:maj\n",
      "9  --> B:min\n",
      "10  --> C#:7\n",
      "11  --> C#:hdim7\n",
      "12  --> C#:maj\n",
      "13  --> C#:min\n",
      "14  --> C:7\n",
      "15  --> C:hdim7\n",
      "16  --> C:maj\n",
      "17  --> C:min\n",
      "18  --> D#:7\n",
      "19  --> D#:maj\n",
      "20  --> D#:min\n",
      "21  --> D:7\n",
      "22  --> D:maj\n",
      "23  --> D:min\n",
      "24  --> E:7\n",
      "25  --> E:hdim7\n",
      "26  --> E:maj\n",
      "27  --> E:min\n",
      "28  --> F#:7\n",
      "29  --> F#:maj\n",
      "30  --> F#:min\n",
      "31  --> F:7\n",
      "32  --> F:hdim7\n",
      "33  --> F:maj\n",
      "34  --> F:min\n",
      "35  --> G#:7\n",
      "36  --> G#:hdim7\n",
      "37  --> G#:maj\n",
      "38  --> G#:min\n",
      "39  --> G:hdim7\n",
      "40  --> G:maj\n",
      "41  --> G:min\n"
     ]
    }
   ],
   "source": [
    "# print dictionary mapping from LE\n",
    "labels = list(le.classes_)\n",
    "for i, chord in enumerate(labels):\n",
    "    print(f'{i}  --> {chord}')"
   ]
  },
  {
   "cell_type": "markdown",
   "metadata": {},
   "source": [
    "I can see that the most present chords in the testing data are: 2, 10, 17, 14, 29, 33, that correspond to A#:maj, C#:7, C:min, C:7, F#:maj, F:maj.\n",
    "it's consistent from the most frequent chords in the dataset, except for the C7 and Csharp7."
   ]
  },
  {
   "cell_type": "markdown",
   "metadata": {},
   "source": [
    " # Try with Adam optimizer\n",
    " Not as good, 0.74 mean accuracy"
   ]
  },
  {
   "cell_type": "code",
   "execution_count": 311,
   "metadata": {},
   "outputs": [],
   "source": [
    "# validation split from 10% to 15%\n",
    "def load_dataset():\n",
    "    # load arrays\n",
    "    photos = load('photos.npy')\n",
    "    labels = load('labels.npy')\n",
    "    \n",
    "    # split between train/test and reshape\n",
    "    X_train, X_test, y_train, y_test = train_test_split(photos, labels, test_size=0.15, shuffle=False)\n",
    "    y_train = np.reshape(y_train, (X_train.shape[0],))\n",
    "    y_test = np.reshape(y_test, (X_test.shape[0],))\n",
    "    \n",
    "    # hot encode target variables\n",
    "    y_train = to_categorical(y_train)\n",
    "    y_test = to_categorical(y_test)\n",
    "    return X_train, X_test, y_train, y_test\n",
    "\n",
    "# no change\n",
    "def prep_pixels(train, test):\n",
    "    # convert from integers to float\n",
    "    train_norm = train.astype('float32')\n",
    "    test_norm = test.astype('float32')\n",
    "    # normalize to range 0-1\n",
    "    train_norm = train_norm/255.0\n",
    "    test_norm = test_norm/255.0\n",
    "    # return normalized images\n",
    "    return train_norm, test_norm\n",
    "\n",
    "# made a deeper network, add padding, increase number of filters in hidden layers.\n",
    "def define_model():\n",
    "    model = models.Sequential()\n",
    "    model.add(layers.Conv2D(32, (3,3), activation='relu',  padding='same', kernel_initializer='he_uniform', input_shape=(64, 64, 1))) #conv layer\n",
    "    model.add(layers.MaxPooling2D((2,2))) #pooling layer\n",
    "    model.add(layers.Conv2D(64, (3,3), activation='relu',  padding='same', kernel_initializer='he_uniform'))\n",
    "    model.add(layers.MaxPooling2D((2,2))) #pooling layer\n",
    "    model.add(layers.Conv2D(64, (3,3), activation='relu',  padding='same', kernel_initializer='he_uniform'))              \n",
    "    model.add(layers.Flatten())\n",
    "    model.add(layers.Dense(100, activation='relu', kernel_initializer='he_uniform')) # hidden layer\n",
    "    model.add(layers.Dense(42, activation='softmax')) # output\n",
    "    # compile model\n",
    "    opt = optimizers.Adam(lr=0.01) # gradient descent with momentum optimizer\n",
    "    model.compile(optimizer=opt, loss='categorical_crossentropy', metrics=['accuracy'])\n",
    "    return model\n",
    "\n",
    "# 15 epochs to evaluate\n",
    "def evaluate_model(dataX, dataY, n_folds=5):\n",
    "    scores, histories = list(), list() # initializing to keep track\n",
    "    # prep cross validation\n",
    "    kfold = KFold(n_folds, shuffle=True, random_state=1)\n",
    "    # enumerate splits\n",
    "    for train_ix, test_ix in kfold.split(dataX):\n",
    "        # define model\n",
    "        model = define_model()\n",
    "        # select rows to train/test\n",
    "        trainX, trainY, testX, testY = dataX[train_ix], dataY[train_ix], dataX[test_ix], dataY[test_ix]\n",
    "        # fit the model\n",
    "        history = model.fit(trainX, trainY, epochs=10, batch_size=32, validation_data=(testX, testY), verbose=0)\n",
    "        # evaluate model\n",
    "        _, acc = model.evaluate(testX, testY, verbose=0) # returns loss value and eval metric, we're only interested in that second one\n",
    "        print('> %.3f' % (acc * 100.0))\n",
    "        # append scores\n",
    "        scores.append(acc)\n",
    "        histories.append(history)\n",
    "    return scores, histories\n",
    "\n",
    "# no change\n",
    "def summarize_diagnostics(histories):\n",
    "    for i in range(len(histories)):\n",
    "        # plot loss\n",
    "        plt.subplot(211)\n",
    "        plt.title('Cross Entropy Loss')\n",
    "        plt.plot(histories[i].history['loss'], color='blue', label='train')\n",
    "        plt.plot(histories[i].history['val_loss'], color='orange', label='test')\n",
    "        # plot accuracy\n",
    "        plt.subplot(212)\n",
    "        plt.title('Classification Accuracy')\n",
    "        plt.plot(histories[i].history['accuracy'], color='blue', label='train')\n",
    "        plt.plot(histories[i].history['val_accuracy'], color='orange', label='test')\n",
    "    plt.show()\n",
    "\n",
    "# no change\n",
    "def summarize_performance(scores):\n",
    "    # print summary\n",
    "    print('Accuracy: mean=%.3f std=%.3f, n=%d' % (mean(scores)*100, std(scores)*100, len(scores)))\n",
    "    # box and whisker plots of results\n",
    "    plt.boxplot(scores)\n",
    "    plt.show()\n",
    "    \n",
    "# no change\n",
    "def run_test_harness():\n",
    "    # load dataset\n",
    "    X_train, X_test, y_train, y_test = load_dataset()\n",
    "    # prepare pixel data\n",
    "    X_train, X_test = prep_pixels(X_train, X_test)\n",
    "    # evaluate model\n",
    "    scores, histories = evaluate_model(X_train, y_train)\n",
    "    # learning curves\n",
    "    summarize_diagnostics(histories)\n",
    "    # summarize estimated performance\n",
    "    summarize_performance(scores)"
   ]
  },
  {
   "cell_type": "code",
   "execution_count": 312,
   "metadata": {},
   "outputs": [
    {
     "name": "stdout",
     "output_type": "stream",
     "text": [
      "> 79.245\n",
      "> 72.830\n",
      "> 69.057\n",
      "> 72.830\n",
      "> 80.000\n"
     ]
    },
    {
     "name": "stderr",
     "output_type": "stream",
     "text": [
      "<ipython-input-311-c4f65913ef1f>:69: MatplotlibDeprecationWarning: Adding an axes using the same arguments as a previous axes currently reuses the earlier instance.  In a future version, a new instance will always be created and returned.  Meanwhile, this warning can be suppressed, and the future behavior ensured, by passing a unique label to each axes instance.\n",
      "  plt.subplot(211)\n",
      "<ipython-input-311-c4f65913ef1f>:74: MatplotlibDeprecationWarning: Adding an axes using the same arguments as a previous axes currently reuses the earlier instance.  In a future version, a new instance will always be created and returned.  Meanwhile, this warning can be suppressed, and the future behavior ensured, by passing a unique label to each axes instance.\n",
      "  plt.subplot(212)\n"
     ]
    },
    {
     "data": {
      "image/png": "[encoded data removed]",
      "text/plain": [
       "<Figure size 432x288 with 2 Axes>"
      ]
     },
     "metadata": {},
     "output_type": "display_data"
    },
    {
     "name": "stdout",
     "output_type": "stream",
     "text": [
      "Accuracy: mean=74.792 std=4.184, n=5\n"
     ]
    },
    {
     "data": {
      "image/png": "[encoded data removed]",
      "text/plain": [
       "<Figure size 432x288 with 1 Axes>"
      ]
     },
     "metadata": {},
     "output_type": "display_data"
    }
   ],
   "source": [
    "run_test_harness()"
   ]
  }
 ],
 "metadata": {
  "kernelspec": {
   "display_name": "Python 3",
   "language": "python",
   "name": "python3"
  },
  "language_info": {
   "codemirror_mode": {
    "name": "ipython",
    "version": 3
   },
   "file_extension": ".py",
   "mimetype": "text/x-python",
   "name": "python",
   "nbconvert_exporter": "python",
   "pygments_lexer": "ipython3",
   "version": "3.7.6"
  }
 },
 "nbformat": 4,
 "nbformat_minor": 4
}
